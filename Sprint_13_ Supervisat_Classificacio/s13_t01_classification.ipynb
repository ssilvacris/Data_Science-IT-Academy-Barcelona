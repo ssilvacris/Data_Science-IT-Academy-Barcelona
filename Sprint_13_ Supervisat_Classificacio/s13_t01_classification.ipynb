{
 "cells": [
  {
   "cell_type": "markdown",
   "metadata": {},
   "source": [
    "<h1 align=center><font size = 5>Data Science amb Python</font></h1>\n",
    "\n",
    "\n",
    "\n",
    "## Sprint 13 \n",
    "#### S13 T01 : Aprenentatge supervisat - Classificació\n",
    "\n",
    "#### Cristiane de Souza da Silva\n",
    "\n",
    "Juny 2021"
   ]
  },
  {
   "cell_type": "markdown",
   "metadata": {},
   "source": [
    "### Descripción del conjunto de datos\n",
    "\n",
    "#### Airline2008Nov Dataset Variable definition\n",
    "\n",
    " Name                |  Description      \n",
    "---------------------|:-------------\n",
    "1.Year               |  2008 \n",
    "2.Month              |   11\n",
    "3.DayofMonth         |   1-31\n",
    "4.DayOfWeek          |  1 (Monday) - 7 (Sunday)\n",
    "5.DepTime            |actual departure time (local, hhmm)\n",
    "6.CRSDepTime         |scheduled departure time (local, hhmm)\n",
    "7.ArrTime            |actual arrival time (local, hhmm)\n",
    "8.CRSArrTime         |scheduled arrival time (local, hhmm)\n",
    "9.UniqueCarrier      |unique carrier code\n",
    "10.FlightNum         |flight number\n",
    "11.TailNum           |plane tail number\n",
    "12.ActualElapsedTime |in minutes\n",
    "13.CRSElapsedTime    |CRS Elapsed Time of Flight (estimated elapse time), in minutes\n",
    "14.AirTime           |Flight Time, in Minutes, in minutes\n",
    "15.ArrDelay          |Difference in minutes between scheduled and actual arrival time. Early arrivals show negative numbers, in minutes\n",
    "16.DepDelay          |Difference in minutes between scheduled and actual departure time. Early departures show negative numbers, in minutes\n",
    "17.Origin            |origin IATA airport code\n",
    "18.Dest              |destination IATA airport code\n",
    "19.Distance          |Distance between airports (miles)\n",
    "20.TaxiIn            |Wheels down and arrival at the destination airport gate, in minutes           \n",
    "21.TaxiOut           |The time elapsed between departure from the origin airport gate and wheels off, in minutes\n",
    "22.Cancelled         |was the flight cancelled?\n",
    "23.CancellationCode  |reason for cancellation (A = carrier, B = weather, C = NAS, D = security)\n",
    "24.Diverted          |1 = yes, 0 = no\n",
    "25.CarrierDelay      |minutes. Carrier delay is within the control of the air carrier. Examples:: aircraft cleaning, aircraft damage, etc\n",
    "26.WeatherDelay      |munutes. Weather delay is caused by extreme or hazardous weather conditions\n",
    "27.NASDelay          |minutes. Delay that is within the control of the National Airspace System (NAS) Ex:airport operations,heavy traffic volume,etc\n",
    "28.SecurityDelay     |minutes. caused by evacuation of a terminal or concourse, re-boarding of aircraft because of security breach,etc  \n",
    "29.LateAircraftDelay |minutes. Arrival delay at an airport due to the late arrival of the same aircraft at a previous airport.           \n",
    "\n",
    "More information about flights delay can be seen in [Federal Aviation Administration site](https://aspmhelp.faa.gov/index/Types_of_Delay.html)."
   ]
  },
  {
   "cell_type": "markdown",
   "metadata": {},
   "source": [
    "### Ejercicio 1\n",
    "**Cree al menos tres modelos de clasificación diferentes para intentar predecir mejor el retraso del vuelo DelayedFlights.csv (ArrDelay). Considere si el vuelo llegó tarde o no (ArrDelay> 0).**"
   ]
  },
  {
   "cell_type": "markdown",
   "metadata": {},
   "source": [
    "Importaré el conjunto de datos limpiado y procesado con las características categóricas transformadas a numéricas del Sprint 12 anterior."
   ]
  },
  {
   "cell_type": "markdown",
   "metadata": {},
   "source": [
    "#### Importación de los datos"
   ]
  },
  {
   "cell_type": "code",
   "execution_count": 1,
   "metadata": {},
   "outputs": [],
   "source": [
    "# import the needed libraries\n",
    "\n",
    "import numpy as np\n",
    "import pandas as pd\n",
    "import matplotlib.pyplot as plt\n",
    "import seaborn as sns"
   ]
  },
  {
   "cell_type": "code",
   "execution_count": 2,
   "metadata": {},
   "outputs": [
    {
     "data": {
      "text/html": [
       "<div>\n",
       "<style scoped>\n",
       "    .dataframe tbody tr th:only-of-type {\n",
       "        vertical-align: middle;\n",
       "    }\n",
       "\n",
       "    .dataframe tbody tr th {\n",
       "        vertical-align: top;\n",
       "    }\n",
       "\n",
       "    .dataframe thead th {\n",
       "        text-align: right;\n",
       "    }\n",
       "</style>\n",
       "<table border=\"1\" class=\"dataframe\">\n",
       "  <thead>\n",
       "    <tr style=\"text-align: right;\">\n",
       "      <th></th>\n",
       "      <th>Month</th>\n",
       "      <th>DayofMonth</th>\n",
       "      <th>DayOfWeek</th>\n",
       "      <th>DepTime</th>\n",
       "      <th>ArrTime</th>\n",
       "      <th>UniqueCarrier</th>\n",
       "      <th>ActualElapsedTime</th>\n",
       "      <th>CRSElapsedTime</th>\n",
       "      <th>AirTime</th>\n",
       "      <th>ArrDelay</th>\n",
       "      <th>DepDelay</th>\n",
       "      <th>Origin</th>\n",
       "      <th>Dest</th>\n",
       "      <th>Distance</th>\n",
       "      <th>weekend</th>\n",
       "    </tr>\n",
       "  </thead>\n",
       "  <tbody>\n",
       "    <tr>\n",
       "      <th>0</th>\n",
       "      <td>1</td>\n",
       "      <td>3</td>\n",
       "      <td>4</td>\n",
       "      <td>2003.0</td>\n",
       "      <td>2211.0</td>\n",
       "      <td>17</td>\n",
       "      <td>128.0</td>\n",
       "      <td>150.0</td>\n",
       "      <td>116.0</td>\n",
       "      <td>-14.0</td>\n",
       "      <td>8.0</td>\n",
       "      <td>135</td>\n",
       "      <td>284</td>\n",
       "      <td>810</td>\n",
       "      <td>0</td>\n",
       "    </tr>\n",
       "    <tr>\n",
       "      <th>1</th>\n",
       "      <td>1</td>\n",
       "      <td>3</td>\n",
       "      <td>4</td>\n",
       "      <td>754.0</td>\n",
       "      <td>1002.0</td>\n",
       "      <td>17</td>\n",
       "      <td>128.0</td>\n",
       "      <td>145.0</td>\n",
       "      <td>113.0</td>\n",
       "      <td>2.0</td>\n",
       "      <td>19.0</td>\n",
       "      <td>135</td>\n",
       "      <td>284</td>\n",
       "      <td>810</td>\n",
       "      <td>0</td>\n",
       "    </tr>\n",
       "    <tr>\n",
       "      <th>2</th>\n",
       "      <td>1</td>\n",
       "      <td>3</td>\n",
       "      <td>4</td>\n",
       "      <td>628.0</td>\n",
       "      <td>804.0</td>\n",
       "      <td>17</td>\n",
       "      <td>96.0</td>\n",
       "      <td>90.0</td>\n",
       "      <td>76.0</td>\n",
       "      <td>14.0</td>\n",
       "      <td>8.0</td>\n",
       "      <td>140</td>\n",
       "      <td>48</td>\n",
       "      <td>515</td>\n",
       "      <td>0</td>\n",
       "    </tr>\n",
       "    <tr>\n",
       "      <th>3</th>\n",
       "      <td>1</td>\n",
       "      <td>3</td>\n",
       "      <td>4</td>\n",
       "      <td>1829.0</td>\n",
       "      <td>1959.0</td>\n",
       "      <td>17</td>\n",
       "      <td>90.0</td>\n",
       "      <td>90.0</td>\n",
       "      <td>77.0</td>\n",
       "      <td>34.0</td>\n",
       "      <td>34.0</td>\n",
       "      <td>140</td>\n",
       "      <td>48</td>\n",
       "      <td>515</td>\n",
       "      <td>0</td>\n",
       "    </tr>\n",
       "    <tr>\n",
       "      <th>4</th>\n",
       "      <td>1</td>\n",
       "      <td>3</td>\n",
       "      <td>4</td>\n",
       "      <td>1940.0</td>\n",
       "      <td>2121.0</td>\n",
       "      <td>17</td>\n",
       "      <td>101.0</td>\n",
       "      <td>115.0</td>\n",
       "      <td>87.0</td>\n",
       "      <td>11.0</td>\n",
       "      <td>25.0</td>\n",
       "      <td>140</td>\n",
       "      <td>149</td>\n",
       "      <td>688</td>\n",
       "      <td>0</td>\n",
       "    </tr>\n",
       "  </tbody>\n",
       "</table>\n",
       "</div>"
      ],
      "text/plain": [
       "   Month  DayofMonth  DayOfWeek  DepTime  ArrTime  UniqueCarrier  \\\n",
       "0      1           3          4   2003.0   2211.0             17   \n",
       "1      1           3          4    754.0   1002.0             17   \n",
       "2      1           3          4    628.0    804.0             17   \n",
       "3      1           3          4   1829.0   1959.0             17   \n",
       "4      1           3          4   1940.0   2121.0             17   \n",
       "\n",
       "   ActualElapsedTime  CRSElapsedTime  AirTime  ArrDelay  DepDelay  Origin  \\\n",
       "0              128.0           150.0    116.0     -14.0       8.0     135   \n",
       "1              128.0           145.0    113.0       2.0      19.0     135   \n",
       "2               96.0            90.0     76.0      14.0       8.0     140   \n",
       "3               90.0            90.0     77.0      34.0      34.0     140   \n",
       "4              101.0           115.0     87.0      11.0      25.0     140   \n",
       "\n",
       "   Dest  Distance  weekend  \n",
       "0   284       810        0  \n",
       "1   284       810        0  \n",
       "2    48       515        0  \n",
       "3    48       515        0  \n",
       "4   149       688        0  "
      ]
     },
     "execution_count": 2,
     "metadata": {},
     "output_type": "execute_result"
    }
   ],
   "source": [
    "# Importar el dataset\n",
    "\n",
    "df= pd.read_csv('flight_numeric.csv')\n",
    "df.head()"
   ]
  },
  {
   "cell_type": "markdown",
   "metadata": {},
   "source": [
    "Considere si el vuelo llegó tarde o no (ArrDelay> 0)."
   ]
  },
  {
   "cell_type": "code",
   "execution_count": 3,
   "metadata": {},
   "outputs": [],
   "source": [
    "# Crear 'ArrDelay_class' atributo para  clasificación\n",
    "df_class = df.copy()\n",
    "df_class['ArrDelay_class'] = np.where(df_class['ArrDelay']<= 0, 0, 1)"
   ]
  },
  {
   "cell_type": "markdown",
   "metadata": {},
   "source": [
    "Eliminaré la columna 'ArrDelay' original. "
   ]
  },
  {
   "cell_type": "code",
   "execution_count": 4,
   "metadata": {},
   "outputs": [
    {
     "data": {
      "text/html": [
       "<div>\n",
       "<style scoped>\n",
       "    .dataframe tbody tr th:only-of-type {\n",
       "        vertical-align: middle;\n",
       "    }\n",
       "\n",
       "    .dataframe tbody tr th {\n",
       "        vertical-align: top;\n",
       "    }\n",
       "\n",
       "    .dataframe thead th {\n",
       "        text-align: right;\n",
       "    }\n",
       "</style>\n",
       "<table border=\"1\" class=\"dataframe\">\n",
       "  <thead>\n",
       "    <tr style=\"text-align: right;\">\n",
       "      <th></th>\n",
       "      <th>Month</th>\n",
       "      <th>DayofMonth</th>\n",
       "      <th>DayOfWeek</th>\n",
       "      <th>DepTime</th>\n",
       "      <th>ArrTime</th>\n",
       "      <th>UniqueCarrier</th>\n",
       "      <th>ActualElapsedTime</th>\n",
       "      <th>CRSElapsedTime</th>\n",
       "      <th>AirTime</th>\n",
       "      <th>DepDelay</th>\n",
       "      <th>Origin</th>\n",
       "      <th>Dest</th>\n",
       "      <th>Distance</th>\n",
       "      <th>weekend</th>\n",
       "      <th>ArrDelay_class</th>\n",
       "    </tr>\n",
       "  </thead>\n",
       "  <tbody>\n",
       "    <tr>\n",
       "      <th>0</th>\n",
       "      <td>1</td>\n",
       "      <td>3</td>\n",
       "      <td>4</td>\n",
       "      <td>2003.0</td>\n",
       "      <td>2211.0</td>\n",
       "      <td>17</td>\n",
       "      <td>128.0</td>\n",
       "      <td>150.0</td>\n",
       "      <td>116.0</td>\n",
       "      <td>8.0</td>\n",
       "      <td>135</td>\n",
       "      <td>284</td>\n",
       "      <td>810</td>\n",
       "      <td>0</td>\n",
       "      <td>0</td>\n",
       "    </tr>\n",
       "    <tr>\n",
       "      <th>1</th>\n",
       "      <td>1</td>\n",
       "      <td>3</td>\n",
       "      <td>4</td>\n",
       "      <td>754.0</td>\n",
       "      <td>1002.0</td>\n",
       "      <td>17</td>\n",
       "      <td>128.0</td>\n",
       "      <td>145.0</td>\n",
       "      <td>113.0</td>\n",
       "      <td>19.0</td>\n",
       "      <td>135</td>\n",
       "      <td>284</td>\n",
       "      <td>810</td>\n",
       "      <td>0</td>\n",
       "      <td>1</td>\n",
       "    </tr>\n",
       "    <tr>\n",
       "      <th>2</th>\n",
       "      <td>1</td>\n",
       "      <td>3</td>\n",
       "      <td>4</td>\n",
       "      <td>628.0</td>\n",
       "      <td>804.0</td>\n",
       "      <td>17</td>\n",
       "      <td>96.0</td>\n",
       "      <td>90.0</td>\n",
       "      <td>76.0</td>\n",
       "      <td>8.0</td>\n",
       "      <td>140</td>\n",
       "      <td>48</td>\n",
       "      <td>515</td>\n",
       "      <td>0</td>\n",
       "      <td>1</td>\n",
       "    </tr>\n",
       "    <tr>\n",
       "      <th>3</th>\n",
       "      <td>1</td>\n",
       "      <td>3</td>\n",
       "      <td>4</td>\n",
       "      <td>1829.0</td>\n",
       "      <td>1959.0</td>\n",
       "      <td>17</td>\n",
       "      <td>90.0</td>\n",
       "      <td>90.0</td>\n",
       "      <td>77.0</td>\n",
       "      <td>34.0</td>\n",
       "      <td>140</td>\n",
       "      <td>48</td>\n",
       "      <td>515</td>\n",
       "      <td>0</td>\n",
       "      <td>1</td>\n",
       "    </tr>\n",
       "    <tr>\n",
       "      <th>4</th>\n",
       "      <td>1</td>\n",
       "      <td>3</td>\n",
       "      <td>4</td>\n",
       "      <td>1940.0</td>\n",
       "      <td>2121.0</td>\n",
       "      <td>17</td>\n",
       "      <td>101.0</td>\n",
       "      <td>115.0</td>\n",
       "      <td>87.0</td>\n",
       "      <td>25.0</td>\n",
       "      <td>140</td>\n",
       "      <td>149</td>\n",
       "      <td>688</td>\n",
       "      <td>0</td>\n",
       "      <td>1</td>\n",
       "    </tr>\n",
       "  </tbody>\n",
       "</table>\n",
       "</div>"
      ],
      "text/plain": [
       "   Month  DayofMonth  DayOfWeek  DepTime  ArrTime  UniqueCarrier  \\\n",
       "0      1           3          4   2003.0   2211.0             17   \n",
       "1      1           3          4    754.0   1002.0             17   \n",
       "2      1           3          4    628.0    804.0             17   \n",
       "3      1           3          4   1829.0   1959.0             17   \n",
       "4      1           3          4   1940.0   2121.0             17   \n",
       "\n",
       "   ActualElapsedTime  CRSElapsedTime  AirTime  DepDelay  Origin  Dest  \\\n",
       "0              128.0           150.0    116.0       8.0     135   284   \n",
       "1              128.0           145.0    113.0      19.0     135   284   \n",
       "2               96.0            90.0     76.0       8.0     140    48   \n",
       "3               90.0            90.0     77.0      34.0     140    48   \n",
       "4              101.0           115.0     87.0      25.0     140   149   \n",
       "\n",
       "   Distance  weekend  ArrDelay_class  \n",
       "0       810        0               0  \n",
       "1       810        0               1  \n",
       "2       515        0               1  \n",
       "3       515        0               1  \n",
       "4       688        0               1  "
      ]
     },
     "execution_count": 4,
     "metadata": {},
     "output_type": "execute_result"
    }
   ],
   "source": [
    "#Remover la coluna original 'ArrDelay' \n",
    "\n",
    "df_class = df_class.drop('ArrDelay', axis=1)\n",
    "df_class.head()"
   ]
  },
  {
   "cell_type": "code",
   "execution_count": 5,
   "metadata": {},
   "outputs": [
    {
     "data": {
      "text/html": [
       "<div>\n",
       "<style scoped>\n",
       "    .dataframe tbody tr th:only-of-type {\n",
       "        vertical-align: middle;\n",
       "    }\n",
       "\n",
       "    .dataframe tbody tr th {\n",
       "        vertical-align: top;\n",
       "    }\n",
       "\n",
       "    .dataframe thead th {\n",
       "        text-align: right;\n",
       "    }\n",
       "</style>\n",
       "<table border=\"1\" class=\"dataframe\">\n",
       "  <thead>\n",
       "    <tr style=\"text-align: right;\">\n",
       "      <th></th>\n",
       "      <th>Month</th>\n",
       "      <th>DayofMonth</th>\n",
       "      <th>DayOfWeek</th>\n",
       "      <th>DepTime</th>\n",
       "      <th>ArrTime</th>\n",
       "      <th>UniqueCarrier</th>\n",
       "      <th>ActualElapsedTime</th>\n",
       "      <th>CRSElapsedTime</th>\n",
       "      <th>AirTime</th>\n",
       "      <th>DepDelay</th>\n",
       "      <th>Origin</th>\n",
       "      <th>Dest</th>\n",
       "      <th>Distance</th>\n",
       "      <th>weekend</th>\n",
       "      <th>ArrDelay_class</th>\n",
       "    </tr>\n",
       "  </thead>\n",
       "  <tbody>\n",
       "    <tr>\n",
       "      <th>count</th>\n",
       "      <td>1.928371e+06</td>\n",
       "      <td>1.928371e+06</td>\n",
       "      <td>1.928371e+06</td>\n",
       "      <td>1.928371e+06</td>\n",
       "      <td>1.928371e+06</td>\n",
       "      <td>1.928371e+06</td>\n",
       "      <td>1.928371e+06</td>\n",
       "      <td>1.928371e+06</td>\n",
       "      <td>1.928371e+06</td>\n",
       "      <td>1.928371e+06</td>\n",
       "      <td>1.928371e+06</td>\n",
       "      <td>1.928371e+06</td>\n",
       "      <td>1.928371e+06</td>\n",
       "      <td>1.928371e+06</td>\n",
       "      <td>1.928371e+06</td>\n",
       "    </tr>\n",
       "    <tr>\n",
       "      <th>mean</th>\n",
       "      <td>6.107855e+00</td>\n",
       "      <td>1.575206e+01</td>\n",
       "      <td>3.984999e+00</td>\n",
       "      <td>1.518648e+03</td>\n",
       "      <td>1.610242e+03</td>\n",
       "      <td>1.112361e+01</td>\n",
       "      <td>1.333059e+02</td>\n",
       "      <td>1.341977e+02</td>\n",
       "      <td>1.082771e+02</td>\n",
       "      <td>4.309169e+01</td>\n",
       "      <td>1.464957e+02</td>\n",
       "      <td>1.499707e+02</td>\n",
       "      <td>7.649486e+02</td>\n",
       "      <td>2.629893e-01</td>\n",
       "      <td>8.937155e-01</td>\n",
       "    </tr>\n",
       "    <tr>\n",
       "      <th>std</th>\n",
       "      <td>3.480753e+00</td>\n",
       "      <td>8.776566e+00</td>\n",
       "      <td>1.996050e+00</td>\n",
       "      <td>4.504352e+02</td>\n",
       "      <td>5.480009e+02</td>\n",
       "      <td>5.933310e+00</td>\n",
       "      <td>7.206007e+01</td>\n",
       "      <td>7.123339e+01</td>\n",
       "      <td>6.864261e+01</td>\n",
       "      <td>5.326600e+01</td>\n",
       "      <td>8.010523e+01</td>\n",
       "      <td>8.075913e+01</td>\n",
       "      <td>5.738858e+02</td>\n",
       "      <td>4.402568e-01</td>\n",
       "      <td>3.082015e-01</td>\n",
       "    </tr>\n",
       "    <tr>\n",
       "      <th>min</th>\n",
       "      <td>1.000000e+00</td>\n",
       "      <td>1.000000e+00</td>\n",
       "      <td>1.000000e+00</td>\n",
       "      <td>1.000000e+00</td>\n",
       "      <td>1.000000e+00</td>\n",
       "      <td>0.000000e+00</td>\n",
       "      <td>1.400000e+01</td>\n",
       "      <td>-2.100000e+01</td>\n",
       "      <td>0.000000e+00</td>\n",
       "      <td>6.000000e+00</td>\n",
       "      <td>0.000000e+00</td>\n",
       "      <td>0.000000e+00</td>\n",
       "      <td>1.100000e+01</td>\n",
       "      <td>0.000000e+00</td>\n",
       "      <td>0.000000e+00</td>\n",
       "    </tr>\n",
       "    <tr>\n",
       "      <th>25%</th>\n",
       "      <td>3.000000e+00</td>\n",
       "      <td>8.000000e+00</td>\n",
       "      <td>2.000000e+00</td>\n",
       "      <td>1.203000e+03</td>\n",
       "      <td>1.316000e+03</td>\n",
       "      <td>6.000000e+00</td>\n",
       "      <td>8.000000e+01</td>\n",
       "      <td>8.200000e+01</td>\n",
       "      <td>5.800000e+01</td>\n",
       "      <td>1.200000e+01</td>\n",
       "      <td>8.000000e+01</td>\n",
       "      <td>8.000000e+01</td>\n",
       "      <td>3.380000e+02</td>\n",
       "      <td>0.000000e+00</td>\n",
       "      <td>1.000000e+00</td>\n",
       "    </tr>\n",
       "    <tr>\n",
       "      <th>50%</th>\n",
       "      <td>6.000000e+00</td>\n",
       "      <td>1.600000e+01</td>\n",
       "      <td>4.000000e+00</td>\n",
       "      <td>1.545000e+03</td>\n",
       "      <td>1.715000e+03</td>\n",
       "      <td>1.300000e+01</td>\n",
       "      <td>1.160000e+02</td>\n",
       "      <td>1.160000e+02</td>\n",
       "      <td>9.000000e+01</td>\n",
       "      <td>2.400000e+01</td>\n",
       "      <td>1.550000e+02</td>\n",
       "      <td>1.570000e+02</td>\n",
       "      <td>6.060000e+02</td>\n",
       "      <td>0.000000e+00</td>\n",
       "      <td>1.000000e+00</td>\n",
       "    </tr>\n",
       "    <tr>\n",
       "      <th>75%</th>\n",
       "      <td>9.000000e+00</td>\n",
       "      <td>2.300000e+01</td>\n",
       "      <td>6.000000e+00</td>\n",
       "      <td>1.900000e+03</td>\n",
       "      <td>2.030000e+03</td>\n",
       "      <td>1.700000e+01</td>\n",
       "      <td>1.650000e+02</td>\n",
       "      <td>1.650000e+02</td>\n",
       "      <td>1.370000e+02</td>\n",
       "      <td>5.300000e+01</td>\n",
       "      <td>2.100000e+02</td>\n",
       "      <td>2.150000e+02</td>\n",
       "      <td>9.970000e+02</td>\n",
       "      <td>1.000000e+00</td>\n",
       "      <td>1.000000e+00</td>\n",
       "    </tr>\n",
       "    <tr>\n",
       "      <th>max</th>\n",
       "      <td>1.200000e+01</td>\n",
       "      <td>3.100000e+01</td>\n",
       "      <td>7.000000e+00</td>\n",
       "      <td>2.400000e+03</td>\n",
       "      <td>2.400000e+03</td>\n",
       "      <td>1.900000e+01</td>\n",
       "      <td>1.114000e+03</td>\n",
       "      <td>6.600000e+02</td>\n",
       "      <td>1.091000e+03</td>\n",
       "      <td>2.467000e+03</td>\n",
       "      <td>3.020000e+02</td>\n",
       "      <td>3.010000e+02</td>\n",
       "      <td>4.962000e+03</td>\n",
       "      <td>1.000000e+00</td>\n",
       "      <td>1.000000e+00</td>\n",
       "    </tr>\n",
       "  </tbody>\n",
       "</table>\n",
       "</div>"
      ],
      "text/plain": [
       "              Month    DayofMonth     DayOfWeek       DepTime       ArrTime  \\\n",
       "count  1.928371e+06  1.928371e+06  1.928371e+06  1.928371e+06  1.928371e+06   \n",
       "mean   6.107855e+00  1.575206e+01  3.984999e+00  1.518648e+03  1.610242e+03   \n",
       "std    3.480753e+00  8.776566e+00  1.996050e+00  4.504352e+02  5.480009e+02   \n",
       "min    1.000000e+00  1.000000e+00  1.000000e+00  1.000000e+00  1.000000e+00   \n",
       "25%    3.000000e+00  8.000000e+00  2.000000e+00  1.203000e+03  1.316000e+03   \n",
       "50%    6.000000e+00  1.600000e+01  4.000000e+00  1.545000e+03  1.715000e+03   \n",
       "75%    9.000000e+00  2.300000e+01  6.000000e+00  1.900000e+03  2.030000e+03   \n",
       "max    1.200000e+01  3.100000e+01  7.000000e+00  2.400000e+03  2.400000e+03   \n",
       "\n",
       "       UniqueCarrier  ActualElapsedTime  CRSElapsedTime       AirTime  \\\n",
       "count   1.928371e+06       1.928371e+06    1.928371e+06  1.928371e+06   \n",
       "mean    1.112361e+01       1.333059e+02    1.341977e+02  1.082771e+02   \n",
       "std     5.933310e+00       7.206007e+01    7.123339e+01  6.864261e+01   \n",
       "min     0.000000e+00       1.400000e+01   -2.100000e+01  0.000000e+00   \n",
       "25%     6.000000e+00       8.000000e+01    8.200000e+01  5.800000e+01   \n",
       "50%     1.300000e+01       1.160000e+02    1.160000e+02  9.000000e+01   \n",
       "75%     1.700000e+01       1.650000e+02    1.650000e+02  1.370000e+02   \n",
       "max     1.900000e+01       1.114000e+03    6.600000e+02  1.091000e+03   \n",
       "\n",
       "           DepDelay        Origin          Dest      Distance       weekend  \\\n",
       "count  1.928371e+06  1.928371e+06  1.928371e+06  1.928371e+06  1.928371e+06   \n",
       "mean   4.309169e+01  1.464957e+02  1.499707e+02  7.649486e+02  2.629893e-01   \n",
       "std    5.326600e+01  8.010523e+01  8.075913e+01  5.738858e+02  4.402568e-01   \n",
       "min    6.000000e+00  0.000000e+00  0.000000e+00  1.100000e+01  0.000000e+00   \n",
       "25%    1.200000e+01  8.000000e+01  8.000000e+01  3.380000e+02  0.000000e+00   \n",
       "50%    2.400000e+01  1.550000e+02  1.570000e+02  6.060000e+02  0.000000e+00   \n",
       "75%    5.300000e+01  2.100000e+02  2.150000e+02  9.970000e+02  1.000000e+00   \n",
       "max    2.467000e+03  3.020000e+02  3.010000e+02  4.962000e+03  1.000000e+00   \n",
       "\n",
       "       ArrDelay_class  \n",
       "count    1.928371e+06  \n",
       "mean     8.937155e-01  \n",
       "std      3.082015e-01  \n",
       "min      0.000000e+00  \n",
       "25%      1.000000e+00  \n",
       "50%      1.000000e+00  \n",
       "75%      1.000000e+00  \n",
       "max      1.000000e+00  "
      ]
     },
     "execution_count": 5,
     "metadata": {},
     "output_type": "execute_result"
    }
   ],
   "source": [
    "df_class.describe()"
   ]
  },
  {
   "cell_type": "markdown",
   "metadata": {},
   "source": [
    "Pudimos ver que existe una alta correlación entre el retraso en la salida del vuelo y el retraso en la llegada. También vemos que existe una pequeña correlación negativa entre la distancia y el retraso en la llegada, es decir, cuanto más corta es la distancia del vuelo, tiene más tenencia de llegar más tarde."
   ]
  },
  {
   "cell_type": "markdown",
   "metadata": {},
   "source": [
    "#### Análisis exploratorio de los datos"
   ]
  },
  {
   "cell_type": "code",
   "execution_count": 6,
   "metadata": {},
   "outputs": [
    {
     "data": {
      "text/plain": [
       "1    1723415\n",
       "0     204956\n",
       "Name: ArrDelay_class, dtype: int64"
      ]
     },
     "execution_count": 6,
     "metadata": {},
     "output_type": "execute_result"
    }
   ],
   "source": [
    "df_class['ArrDelay_class'].value_counts()"
   ]
  },
  {
   "cell_type": "code",
   "execution_count": 7,
   "metadata": {},
   "outputs": [
    {
     "name": "stdout",
     "output_type": "stream",
     "text": [
      "Among all the flights that arrives in this dataset, 89% are delayed flights.\n"
     ]
    }
   ],
   "source": [
    "# Percentage of delayed flights on arrive\n",
    "\n",
    "pecentage_delay =(df_class['ArrDelay_class'].value_counts()[1]) / df_class.shape[0]\n",
    "\n",
    "print(\"Among all the flights that arrives in this dataset,\",  \"{:.0%}\".format(pecentage_delay), \"are delayed flights.\")"
   ]
  },
  {
   "cell_type": "markdown",
   "metadata": {},
   "source": [
    "Podemos verificar cuantos retardos hube a cada mes."
   ]
  },
  {
   "cell_type": "code",
   "execution_count": 8,
   "metadata": {},
   "outputs": [
    {
     "data": {
      "text/html": [
       "<div>\n",
       "<style scoped>\n",
       "    .dataframe tbody tr th:only-of-type {\n",
       "        vertical-align: middle;\n",
       "    }\n",
       "\n",
       "    .dataframe tbody tr th {\n",
       "        vertical-align: top;\n",
       "    }\n",
       "\n",
       "    .dataframe thead th {\n",
       "        text-align: right;\n",
       "    }\n",
       "</style>\n",
       "<table border=\"1\" class=\"dataframe\">\n",
       "  <thead>\n",
       "    <tr style=\"text-align: right;\">\n",
       "      <th></th>\n",
       "      <th>Month</th>\n",
       "      <th>ArrDelay_class</th>\n",
       "    </tr>\n",
       "  </thead>\n",
       "  <tbody>\n",
       "    <tr>\n",
       "      <th>0</th>\n",
       "      <td>1</td>\n",
       "      <td>163801</td>\n",
       "    </tr>\n",
       "    <tr>\n",
       "      <th>1</th>\n",
       "      <td>2</td>\n",
       "      <td>171311</td>\n",
       "    </tr>\n",
       "    <tr>\n",
       "      <th>2</th>\n",
       "      <td>3</td>\n",
       "      <td>179833</td>\n",
       "    </tr>\n",
       "    <tr>\n",
       "      <th>3</th>\n",
       "      <td>4</td>\n",
       "      <td>137941</td>\n",
       "    </tr>\n",
       "    <tr>\n",
       "      <th>4</th>\n",
       "      <td>5</td>\n",
       "      <td>135421</td>\n",
       "    </tr>\n",
       "    <tr>\n",
       "      <th>5</th>\n",
       "      <td>6</td>\n",
       "      <td>182955</td>\n",
       "    </tr>\n",
       "    <tr>\n",
       "      <th>6</th>\n",
       "      <td>7</td>\n",
       "      <td>164534</td>\n",
       "    </tr>\n",
       "    <tr>\n",
       "      <th>7</th>\n",
       "      <td>8</td>\n",
       "      <td>143013</td>\n",
       "    </tr>\n",
       "    <tr>\n",
       "      <th>8</th>\n",
       "      <td>9</td>\n",
       "      <td>82817</td>\n",
       "    </tr>\n",
       "    <tr>\n",
       "      <th>9</th>\n",
       "      <td>10</td>\n",
       "      <td>87989</td>\n",
       "    </tr>\n",
       "    <tr>\n",
       "      <th>10</th>\n",
       "      <td>11</td>\n",
       "      <td>90855</td>\n",
       "    </tr>\n",
       "    <tr>\n",
       "      <th>11</th>\n",
       "      <td>12</td>\n",
       "      <td>182945</td>\n",
       "    </tr>\n",
       "  </tbody>\n",
       "</table>\n",
       "</div>"
      ],
      "text/plain": [
       "    Month  ArrDelay_class\n",
       "0       1          163801\n",
       "1       2          171311\n",
       "2       3          179833\n",
       "3       4          137941\n",
       "4       5          135421\n",
       "5       6          182955\n",
       "6       7          164534\n",
       "7       8          143013\n",
       "8       9           82817\n",
       "9      10           87989\n",
       "10     11           90855\n",
       "11     12          182945"
      ]
     },
     "execution_count": 8,
     "metadata": {},
     "output_type": "execute_result"
    }
   ],
   "source": [
    "# average of arrive delay by month\n",
    "month_delay = pd.DataFrame(df_class.groupby('Month')['ArrDelay_class'].sum()).reset_index()\n",
    "month_delay"
   ]
  },
  {
   "cell_type": "code",
   "execution_count": 9,
   "metadata": {},
   "outputs": [
    {
     "data": {
      "image/png": "[encoded data removed]",
      "text/plain": [
       "<Figure size 720x360 with 1 Axes>"
      ]
     },
     "metadata": {
      "needs_background": "light"
     },
     "output_type": "display_data"
    }
   ],
   "source": [
    "# Month\n",
    "plt.figure(figsize=(10,5))\n",
    "sns.barplot( x='Month', y='ArrDelay_class',data=month_delay)\n",
    "plt.title('Arrive Delay (min) by Months');"
   ]
  },
  {
   "cell_type": "markdown",
   "metadata": {},
   "source": [
    "Los meses de septiembre, octobre y noviembre son los que tubieron menos retrasos en el año. \n",
    "\n",
    "A pesar de ser un mes con vacaciones, Navidad y Año Nuevo, diciembre fue el segundo mes con más minutos de retraso. El primer mes fue junio, mes de  verano y vacaciones,  con solo 10 minutos por delante."
   ]
  },
  {
   "cell_type": "markdown",
   "metadata": {},
   "source": [
    "Ahora veremos la cuantidad de vuelos durante la semana y en los fins de semana."
   ]
  },
  {
   "cell_type": "code",
   "execution_count": 10,
   "metadata": {},
   "outputs": [
    {
     "data": {
      "text/plain": [
       "0    1421230\n",
       "1     507141\n",
       "Name: weekend, dtype: int64"
      ]
     },
     "execution_count": 10,
     "metadata": {},
     "output_type": "execute_result"
    }
   ],
   "source": [
    "df_class['weekend'].value_counts()\n"
   ]
  },
  {
   "cell_type": "markdown",
   "metadata": {},
   "source": [
    "Ha 1.421.230 vuelos durante todas las  semanas del año, 2.8 vezes más que en el fin de semana. "
   ]
  },
  {
   "cell_type": "markdown",
   "metadata": {},
   "source": [
    "De la misma manera, verifiquemos si los dias de la semana o si los fin de semana influencian en los retardos.\n"
   ]
  },
  {
   "cell_type": "markdown",
   "metadata": {},
   "source": [
    "Primero verificaremos cuantos vuelos con retrasos ocurren durante la semana y durante los fins de semana."
   ]
  },
  {
   "cell_type": "code",
   "execution_count": 11,
   "metadata": {},
   "outputs": [
    {
     "data": {
      "text/html": [
       "<div>\n",
       "<style scoped>\n",
       "    .dataframe tbody tr th:only-of-type {\n",
       "        vertical-align: middle;\n",
       "    }\n",
       "\n",
       "    .dataframe tbody tr th {\n",
       "        vertical-align: top;\n",
       "    }\n",
       "\n",
       "    .dataframe thead th {\n",
       "        text-align: right;\n",
       "    }\n",
       "</style>\n",
       "<table border=\"1\" class=\"dataframe\">\n",
       "  <thead>\n",
       "    <tr style=\"text-align: right;\">\n",
       "      <th></th>\n",
       "      <th>weekend</th>\n",
       "      <th>ArrDelay_class</th>\n",
       "    </tr>\n",
       "  </thead>\n",
       "  <tbody>\n",
       "    <tr>\n",
       "      <th>0</th>\n",
       "      <td>0</td>\n",
       "      <td>1274975</td>\n",
       "    </tr>\n",
       "    <tr>\n",
       "      <th>1</th>\n",
       "      <td>1</td>\n",
       "      <td>448440</td>\n",
       "    </tr>\n",
       "  </tbody>\n",
       "</table>\n",
       "</div>"
      ],
      "text/plain": [
       "   weekend  ArrDelay_class\n",
       "0        0         1274975\n",
       "1        1          448440"
      ]
     },
     "execution_count": 11,
     "metadata": {},
     "output_type": "execute_result"
    }
   ],
   "source": [
    "weekend_delay_min = pd.DataFrame(df_class.groupby('weekend')['ArrDelay_class'].sum()).reset_index()\n",
    "weekend_delay_min"
   ]
  },
  {
   "cell_type": "code",
   "execution_count": 12,
   "metadata": {},
   "outputs": [
    {
     "data": {
      "image/png": "[encoded data removed]",
      "text/plain": [
       "<Figure size 720x360 with 1 Axes>"
      ]
     },
     "metadata": {
      "needs_background": "light"
     },
     "output_type": "display_data"
    }
   ],
   "source": [
    "# Weekend\n",
    "plt.figure(figsize=(10,5))\n",
    "sns.barplot( x='weekend', y='ArrDelay_class',data=weekend_delay_min)\n",
    "plt.title('Arrive Delay (min) by day of weeks');"
   ]
  },
  {
   "cell_type": "markdown",
   "metadata": {},
   "source": [
    "El grafico mostra que hay mas retardos durante la semana que en el fin de semana. Pero eso es por que hay mas vuelos durante la semana que los fines de semana. \n",
    "\n",
    "Por todo el año, **durante las semana**, hube 1274975  vuelos con retrasos en la llegada, o sea, **89.7%** de los vuelos de la semana.\n",
    "\n",
    "A los fines de semana, **88.4%** de los vuelos fueron con retraso."
   ]
  },
  {
   "cell_type": "markdown",
   "metadata": {},
   "source": [
    "#### Definir X e y para el conjunto de datos"
   ]
  },
  {
   "cell_type": "code",
   "execution_count": 13,
   "metadata": {},
   "outputs": [],
   "source": [
    "y = df_class['ArrDelay_class']\n",
    "\n",
    "X = df_class.drop('ArrDelay_class',axis=1)"
   ]
  },
  {
   "cell_type": "markdown",
   "metadata": {},
   "source": [
    "#### Normalize los Datos"
   ]
  },
  {
   "cell_type": "code",
   "execution_count": 14,
   "metadata": {},
   "outputs": [
    {
     "data": {
      "text/plain": [
       "array([[-1.4674572 , -1.45296765,  0.00751548,  1.07529853,  1.0962717 ,\n",
       "         0.99040743, -0.07363114,  0.22183882,  0.11250817, -0.65880113,\n",
       "        -0.14350751,  1.6596185 ,  0.07850241, -0.59735455],\n",
       "       [-1.4674572 , -1.45296765,  0.00751548, -1.69757607, -1.10992953,\n",
       "         0.99040743, -0.07363114,  0.151647  ,  0.06880353, -0.45229036,\n",
       "        -0.14350751,  1.6596185 ,  0.07850241, -0.59735455],\n",
       "       [-1.4674572 , -1.45296765,  0.00751548, -1.97730561, -1.47124288,\n",
       "         0.99040743, -0.51770521, -0.62046305, -0.4702204 , -0.65880113,\n",
       "        -0.0810896 , -1.26265237, -0.4355373 , -0.59735455],\n",
       "       [-1.4674572 , -1.45296765,  0.00751548,  0.68900535,  0.63641834,\n",
       "         0.99040743, -0.6009691 , -0.62046305, -0.45565219, -0.17068477,\n",
       "        -0.0810896 , -1.26265237, -0.4355373 , -0.59735455],\n",
       "       [-1.4674572 , -1.45296765,  0.00751548,  0.93543376,  0.93203835,\n",
       "         0.99040743, -0.44831863, -0.26950394, -0.30997004, -0.33964813,\n",
       "        -0.0810896 , -0.0120195 , -0.13408351, -0.59735455]])"
      ]
     },
     "execution_count": 14,
     "metadata": {},
     "output_type": "execute_result"
    }
   ],
   "source": [
    "from sklearn import preprocessing\n",
    "X = preprocessing.StandardScaler().fit(X).transform(X)\n",
    "X[0:5]"
   ]
  },
  {
   "cell_type": "markdown",
   "metadata": {},
   "source": [
    "#### Train/Test dataset"
   ]
  },
  {
   "cell_type": "markdown",
   "metadata": {},
   "source": [
    "Los dados seron separados entre los de treino ( train - 70%) y los de teste (test- 30%)."
   ]
  },
  {
   "cell_type": "code",
   "execution_count": 15,
   "metadata": {},
   "outputs": [
    {
     "name": "stdout",
     "output_type": "stream",
     "text": [
      "Train set: (1349859, 14) (1349859,)\n",
      "Test set: (578512, 14) (578512,)\n"
     ]
    }
   ],
   "source": [
    "from sklearn.model_selection import train_test_split\n",
    "\n",
    "X_train, X_test, y_train, y_test = train_test_split( X, y, test_size=0.3, random_state=42)\n",
    "\n",
    "print ('Train set:', X_train.shape,  y_train.shape)\n",
    "print ('Test set:', X_test.shape,  y_test.shape)"
   ]
  },
  {
   "cell_type": "markdown",
   "metadata": {},
   "source": [
    "#### Modeling : Logistic Regression with Scikit-Learn"
   ]
  },
  {
   "cell_type": "code",
   "execution_count": 38,
   "metadata": {},
   "outputs": [
    {
     "data": {
      "text/plain": [
       "LogisticRegression(C=0.01, solver='sag')"
      ]
     },
     "execution_count": 38,
     "metadata": {},
     "output_type": "execute_result"
    }
   ],
   "source": [
    "from sklearn.linear_model import LogisticRegression\n",
    "from sklearn.metrics import confusion_matrix\n",
    "LR = LogisticRegression(C=0.01, \n",
    "                        solver='sag').fit(X_train,y_train)\n",
    "\n",
    "#pequeños 'C' espacifican una regularizacion fuerte\n",
    "# 'sag' es un buen solver para grandes datasets\n",
    "\n",
    "LR"
   ]
  },
  {
   "cell_type": "code",
   "execution_count": 39,
   "metadata": {},
   "outputs": [],
   "source": [
    "#Predict\n",
    "yhat_lr = LR.predict(X_test)"
   ]
  },
  {
   "cell_type": "code",
   "execution_count": 40,
   "metadata": {},
   "outputs": [
    {
     "name": "stdout",
     "output_type": "stream",
     "text": [
      "[1 1 1 1 1]\n",
      "402118     1\n",
      "1392211    1\n",
      "1841950    1\n",
      "18373      1\n",
      "1798268    1\n",
      "Name: ArrDelay_class, dtype: int64\n"
     ]
    }
   ],
   "source": [
    "print (yhat_lr [0:5])\n",
    "print (y_test [0:5])"
   ]
  },
  {
   "cell_type": "markdown",
   "metadata": {},
   "source": [
    "#### Classification : K Nearest Neighbor(KNN)"
   ]
  },
  {
   "cell_type": "code",
   "execution_count": 19,
   "metadata": {},
   "outputs": [
    {
     "data": {
      "text/plain": [
       "KNeighborsClassifier(n_neighbors=3)"
      ]
     },
     "execution_count": 19,
     "metadata": {},
     "output_type": "execute_result"
    }
   ],
   "source": [
    "from sklearn.neighbors import KNeighborsClassifier\n",
    "\n",
    "k = 3\n",
    "#Train Model and Predict  \n",
    "class_knn = KNeighborsClassifier(n_neighbors = k).fit(X_train,y_train)\n",
    "class_knn"
   ]
  },
  {
   "cell_type": "code",
   "execution_count": 20,
   "metadata": {},
   "outputs": [],
   "source": [
    "#Predict\n",
    "yhat_knn = class_knn.predict(X_test)\n"
   ]
  },
  {
   "cell_type": "code",
   "execution_count": 21,
   "metadata": {},
   "outputs": [
    {
     "name": "stdout",
     "output_type": "stream",
     "text": [
      "[1 1 1 1 1]\n",
      "402118     1\n",
      "1392211    1\n",
      "1841950    1\n",
      "18373      1\n",
      "1798268    1\n",
      "Name: ArrDelay_class, dtype: int64\n"
     ]
    }
   ],
   "source": [
    "\n",
    "print (yhat_knn [0:5])\n",
    "print (y_test [0:5])"
   ]
  },
  {
   "cell_type": "markdown",
   "metadata": {},
   "source": [
    "#### Classification : Decision Tree"
   ]
  },
  {
   "cell_type": "code",
   "execution_count": 22,
   "metadata": {},
   "outputs": [
    {
     "data": {
      "text/plain": [
       "DecisionTreeClassifier(criterion='entropy', max_depth=4)"
      ]
     },
     "execution_count": 22,
     "metadata": {},
     "output_type": "execute_result"
    }
   ],
   "source": [
    "from sklearn.tree import DecisionTreeClassifier\n",
    "\n",
    "loanTree = DecisionTreeClassifier(criterion=\"entropy\", max_depth = 4)\n",
    "loanTree # it shows the default parameters"
   ]
  },
  {
   "cell_type": "code",
   "execution_count": 23,
   "metadata": {},
   "outputs": [
    {
     "data": {
      "text/plain": [
       "DecisionTreeClassifier(criterion='entropy', max_depth=4)"
      ]
     },
     "execution_count": 23,
     "metadata": {},
     "output_type": "execute_result"
    }
   ],
   "source": [
    "loanTree.fit(X_train,y_train)"
   ]
  },
  {
   "cell_type": "code",
   "execution_count": 24,
   "metadata": {},
   "outputs": [
    {
     "name": "stdout",
     "output_type": "stream",
     "text": [
      "[1 1 1 1 1]\n",
      "402118     1\n",
      "1392211    1\n",
      "1841950    1\n",
      "18373      1\n",
      "1798268    1\n",
      "Name: ArrDelay_class, dtype: int64\n"
     ]
    }
   ],
   "source": [
    "# Prediction\n",
    "\n",
    "predTree = loanTree.predict(X_test)\n",
    "print (predTree [0:5])\n",
    "print (y_test [0:5])"
   ]
  },
  {
   "cell_type": "markdown",
   "metadata": {},
   "source": [
    "#### Classification: Naive Bayes"
   ]
  },
  {
   "cell_type": "code",
   "execution_count": 25,
   "metadata": {},
   "outputs": [],
   "source": [
    "from sklearn.naive_bayes import GaussianNB\n",
    "nbclf = GaussianNB().fit(X_train, y_train)"
   ]
  },
  {
   "cell_type": "code",
   "execution_count": 26,
   "metadata": {},
   "outputs": [],
   "source": [
    "#Predict\n",
    "yhat_nb = nbclf.predict(X_test)"
   ]
  },
  {
   "cell_type": "code",
   "execution_count": 27,
   "metadata": {},
   "outputs": [
    {
     "name": "stdout",
     "output_type": "stream",
     "text": [
      "[1 1 1 1 1]\n",
      "402118     1\n",
      "1392211    1\n",
      "1841950    1\n",
      "18373      1\n",
      "1798268    1\n",
      "Name: ArrDelay_class, dtype: int64\n"
     ]
    }
   ],
   "source": [
    "print (yhat_nb [0:5])\n",
    "print (y_test [0:5])"
   ]
  },
  {
   "cell_type": "markdown",
   "metadata": {},
   "source": [
    "###  Exercises 2\n",
    "**Compare classification models using accuracy, a confidence matrix, and other more advanced metrics.**\n",
    "\n"
   ]
  },
  {
   "cell_type": "markdown",
   "metadata": {},
   "source": [
    "#### Evaluation: Logistic Regression"
   ]
  },
  {
   "cell_type": "code",
   "execution_count": 41,
   "metadata": {},
   "outputs": [],
   "source": [
    "from sklearn.metrics import classification_report, confusion_matrix\n",
    "cf_matrix = confusion_matrix(y_test, yhat_lr)"
   ]
  },
  {
   "cell_type": "code",
   "execution_count": 42,
   "metadata": {},
   "outputs": [
    {
     "name": "stdout",
     "output_type": "stream",
     "text": [
      "[[517097    312]\n",
      " [ 12736  48367]]\n"
     ]
    }
   ],
   "source": [
    "from sklearn.metrics import classification_report, confusion_matrix\n",
    "import itertools\n",
    "def plot_confusion_matrix(cm, classes,\n",
    "                          normalize=False,\n",
    "                          title='Confusion matrix',\n",
    "                          cmap=plt.cm.Blues):\n",
    "    \"\"\"\n",
    "    This function prints and plots the confusion matrix.\n",
    "    Normalization can be applied by setting `normalize=True`.\n",
    "    \"\"\"\n",
    "    if normalize:\n",
    "        cm = cm.astype('float') / cm.sum(axis=1)[:, np.newaxis]\n",
    "        print(\"Normalized confusion matrix\")\n",
    "    else:\n",
    "        print('Confusion matrix, without normalization')\n",
    "\n",
    "    print(cm)\n",
    "\n",
    "    plt.imshow(cm, interpolation='nearest', cmap=cmap)\n",
    "    plt.title(title)\n",
    "    plt.colorbar()\n",
    "    tick_marks = np.arange(len(classes))\n",
    "    plt.xticks(tick_marks, classes, rotation=45)\n",
    "    plt.yticks(tick_marks, classes)\n",
    "\n",
    "    fmt = '.2f' if normalize else 'd'\n",
    "    thresh = cm.max() / 2.\n",
    "    for i, j in itertools.product(range(cm.shape[0]), range(cm.shape[1])):\n",
    "        plt.text(j, i, format(cm[i, j], fmt),\n",
    "                 horizontalalignment=\"center\",\n",
    "                 color=\"white\" if cm[i, j] > thresh else \"black\")\n",
    "\n",
    "    plt.tight_layout()\n",
    "    plt.ylabel('True label')\n",
    "    plt.xlabel('Predicted label')\n",
    "print(confusion_matrix(y_test, yhat_lr, labels=[1,0]))"
   ]
  },
  {
   "cell_type": "code",
   "execution_count": 43,
   "metadata": {},
   "outputs": [
    {
     "name": "stdout",
     "output_type": "stream",
     "text": [
      "Confusion matrix, without normalization\n",
      "[[517097    312]\n",
      " [ 12736  48367]]\n"
     ]
    },
    {
     "data": {
      "image/png": "[encoded data removed]",
      "text/plain": [
       "<Figure size 432x288 with 2 Axes>"
      ]
     },
     "metadata": {
      "needs_background": "light"
     },
     "output_type": "display_data"
    }
   ],
   "source": [
    "# Compute confusion matrix\n",
    "cnf_matrix = confusion_matrix(y_test, yhat_lr, labels=[1,0])\n",
    "np.set_printoptions(precision=2)\n",
    "\n",
    "\n",
    "# Plot non-normalized confusion matrix\n",
    "plt.figure()\n",
    "plot_confusion_matrix(cnf_matrix, classes=['ArrDelay_class=1','ArrDelay_class=0'],\n",
    "                      normalize= False,  title='Confusion matrix')"
   ]
  },
  {
   "cell_type": "markdown",
   "metadata": {},
   "source": [
    "En la matrix acima, la líneas representan las los valores correctos , mientras las colunas representas los valores previstos.\n",
    "\n",
    "El clasificador previó **517097** casos de vulos retrasados en la llegada correctamente **(true positive)**, y **12736** fueron previstos como vuelos retrasados( positivos )pero en realidad eran vuelos sin retraso **(false positives)**.\n",
    "\n",
    "\n",
    "Por otro lado, **48367** casos donde no hube retraso de los vuelos en la llegada fueron previstos correctamente (true negative) pero **312** casos que eran positivos pero fureon previstos como negativos **(false negativos)**.\n"
   ]
  },
  {
   "cell_type": "markdown",
   "metadata": {},
   "source": [
    "A continuación, podemos ver los resultados de precision, recall y f1_score de Logistic Regression. "
   ]
  },
  {
   "cell_type": "code",
   "execution_count": 44,
   "metadata": {},
   "outputs": [
    {
     "name": "stdout",
     "output_type": "stream",
     "text": [
      "              precision    recall  f1-score   support\n",
      "\n",
      "           0       0.99      0.79      0.88     61103\n",
      "           1       0.98      1.00      0.99    517409\n",
      "\n",
      "    accuracy                           0.98    578512\n",
      "   macro avg       0.98      0.90      0.93    578512\n",
      "weighted avg       0.98      0.98      0.98    578512\n",
      "\n"
     ]
    }
   ],
   "source": [
    "print (classification_report(y_test, yhat_lr))"
   ]
  },
  {
   "cell_type": "markdown",
   "metadata": {},
   "source": [
    "La precision del los positivos y negativos son altas( 0.98 y 0.99 respectivamente). Entre todos los vuelos  que el clasificador previó como retrasados, 97% estavan certos. \n",
    "\n",
    "El recall de esta analise fue de 0.79 para los vuelos que no son retrasados. Entre los vuelos que **realmente no son retrasados** , **78%** fueron previstos como tal. El recall para los **vuelos con retrasos** fue de 1, o sea, la percentage de los vuelos con retraso que fueron clasificados como retrasos fue de 100%. \n",
    "\n",
    "La precisión promedio para este clasificador es el promedio de la puntuación F1 para ambas etiquetas, que es 0,97 en nuestro caso."
   ]
  },
  {
   "cell_type": "markdown",
   "metadata": {},
   "source": [
    "#### Evaluation: KNN"
   ]
  },
  {
   "cell_type": "code",
   "execution_count": 32,
   "metadata": {},
   "outputs": [
    {
     "name": "stdout",
     "output_type": "stream",
     "text": [
      "Confusion matrix, without normalization\n",
      "[[497965  19444]\n",
      " [ 45218  15885]]\n"
     ]
    },
    {
     "data": {
      "image/png": "[encoded data removed]",
      "text/plain": [
       "<Figure size 432x288 with 2 Axes>"
      ]
     },
     "metadata": {
      "needs_background": "light"
     },
     "output_type": "display_data"
    }
   ],
   "source": [
    "# Compute confusion matrix\n",
    "cnf_matrix = confusion_matrix(y_test, yhat_knn, labels=[1,0])\n",
    "np.set_printoptions(precision=2)\n",
    "\n",
    "\n",
    "# Plot non-normalized confusion matrix\n",
    "plt.figure()\n",
    "plot_confusion_matrix(cnf_matrix, classes=['ArrDelay_class=1','ArrDelay_class=0'],\n",
    "                      normalize= False,  title='Confusion matrix - KNN')"
   ]
  },
  {
   "cell_type": "markdown",
   "metadata": {},
   "source": [
    "\n",
    "El clasificador KNN previó **497965** casos de vulos retrasados en la llegada correctamente **(true positive)**, y **45218** fueron previstos como vuelos retrasados( positivos )pero en realidad eran vuelos sin retraso **(false positives)**.\n",
    "\n",
    "\n",
    "Por otro lado, **15885** casos donde no hube retraso de los vuelos en la llegada fueron previstos correctamente (true negative) pero **19444** casos que eran positivos pero fureon previstos como negativos **(false negativos)**.\n",
    "\n"
   ]
  },
  {
   "cell_type": "code",
   "execution_count": 33,
   "metadata": {},
   "outputs": [
    {
     "name": "stdout",
     "output_type": "stream",
     "text": [
      "              precision    recall  f1-score   support\n",
      "\n",
      "           0       0.45      0.26      0.33     61103\n",
      "           1       0.92      0.96      0.94    517409\n",
      "\n",
      "    accuracy                           0.89    578512\n",
      "   macro avg       0.68      0.61      0.63    578512\n",
      "weighted avg       0.87      0.89      0.87    578512\n",
      "\n"
     ]
    }
   ],
   "source": [
    "print (classification_report(y_test, yhat_knn))"
   ]
  },
  {
   "cell_type": "markdown",
   "metadata": {},
   "source": [
    "La precision del los positivos(0.92) fue alta  pero la de los negativos es de 0.45\n",
    "\n",
    "El recall de esta analise fue de 0.26 para los vuelos que no son retrasados. O sea, Entre los vuelos non retrasados que existen  en la analisis, 26% fueron  previstos pelo clasificador. El recall para los **vuelos con retrasos** fue de 0.96. \n",
    "\n",
    "La precisión promedio para este clasificador es el promedio de la puntuación F1 para ambas etiquetas, que es 0,97 en nuestro caso."
   ]
  },
  {
   "cell_type": "markdown",
   "metadata": {},
   "source": [
    "#### Evaluation: Decision Tree"
   ]
  },
  {
   "cell_type": "code",
   "execution_count": 34,
   "metadata": {},
   "outputs": [
    {
     "name": "stdout",
     "output_type": "stream",
     "text": [
      "Confusion matrix, without normalization\n",
      "[[516809    600]\n",
      " [ 58076   3027]]\n"
     ]
    },
    {
     "data": {
      "image/png": "[encoded data removed]",
      "text/plain": [
       "<Figure size 432x288 with 2 Axes>"
      ]
     },
     "metadata": {
      "needs_background": "light"
     },
     "output_type": "display_data"
    }
   ],
   "source": [
    "# Compute confusion matrix\n",
    "cnf_matrix = confusion_matrix(y_test, predTree, labels=[1,0])\n",
    "np.set_printoptions(precision=2)\n",
    "\n",
    "\n",
    "# Plot non-normalized confusion matrix\n",
    "plt.figure()\n",
    "plot_confusion_matrix(cnf_matrix, classes=['ArrDelay_class=1','ArrDelay_class=0'],\n",
    "                      normalize= False,  title='Confusion matrix - Decicion Tree')"
   ]
  },
  {
   "cell_type": "code",
   "execution_count": 35,
   "metadata": {},
   "outputs": [
    {
     "name": "stdout",
     "output_type": "stream",
     "text": [
      "              precision    recall  f1-score   support\n",
      "\n",
      "           0       0.83      0.05      0.09     61103\n",
      "           1       0.90      1.00      0.95    517409\n",
      "\n",
      "    accuracy                           0.90    578512\n",
      "   macro avg       0.87      0.52      0.52    578512\n",
      "weighted avg       0.89      0.90      0.86    578512\n",
      "\n"
     ]
    }
   ],
   "source": [
    "print (classification_report(y_test, predTree))"
   ]
  },
  {
   "cell_type": "markdown",
   "metadata": {},
   "source": [
    "La precision del los positivos(0.90) fue alta  y la de los negativos es de 0.83.\n",
    "\n",
    "El recall de esta analise fue de 0.05 para los vuelos que **no son retrasados**. O sea, Entre los vuelos non retrasados que existen  en la analisis, 5% fueron  previstos pelo clasificador. El recall para los **vuelos con retrasos** fue de 1. \n",
    "\n",
    "La precisión promedio para este clasificador es el promedio de la puntuación F1 para ambas etiquetas, que es 0,86 en nuestro caso."
   ]
  },
  {
   "cell_type": "markdown",
   "metadata": {},
   "source": [
    "#### Evaluation: Naive Bayes\n",
    "\n",
    "Elegí el clasificador Naive Bayes porque es un algoritmo rápido, preciso y confiable, además de que tiene alta precisión y velocidad en grandes conjuntos de datos."
   ]
  },
  {
   "cell_type": "code",
   "execution_count": 36,
   "metadata": {},
   "outputs": [
    {
     "name": "stdout",
     "output_type": "stream",
     "text": [
      "Confusion matrix, without normalization\n",
      "[[461479  55930]\n",
      " [ 34393  26710]]\n"
     ]
    },
    {
     "data": {
      "image/png": "[encoded data removed]",
      "text/plain": [
       "<Figure size 432x288 with 2 Axes>"
      ]
     },
     "metadata": {
      "needs_background": "light"
     },
     "output_type": "display_data"
    }
   ],
   "source": [
    "# Compute confusion matrix\n",
    "cnf_matrix = confusion_matrix(y_test, yhat_nb, labels=[1,0])\n",
    "np.set_printoptions(precision=2)\n",
    "\n",
    "\n",
    "# Plot non-normalized confusion matrix\n",
    "plt.figure()\n",
    "plot_confusion_matrix(cnf_matrix, classes=['ArrDelay_class=1','ArrDelay_class=0'],\n",
    "                      normalize= False,  title='Confusion matrix - Nayve Bayes')"
   ]
  },
  {
   "cell_type": "code",
   "execution_count": 37,
   "metadata": {},
   "outputs": [
    {
     "name": "stdout",
     "output_type": "stream",
     "text": [
      "              precision    recall  f1-score   support\n",
      "\n",
      "           0       0.32      0.44      0.37     61103\n",
      "           1       0.93      0.89      0.91    517409\n",
      "\n",
      "    accuracy                           0.84    578512\n",
      "   macro avg       0.63      0.66      0.64    578512\n",
      "weighted avg       0.87      0.84      0.85    578512\n",
      "\n"
     ]
    }
   ],
   "source": [
    "print (classification_report(y_test, yhat_nb))"
   ]
  },
  {
   "cell_type": "markdown",
   "metadata": {},
   "source": [
    "La precision del los positivos(0.93) fue alta  y la de los negativos es de 0.32.\n",
    "\n",
    "El recall de esta analise  para los vuelos que **no son retrasados** nos muestra que  44% fueron  previstos pelo clasificador. El recall para los **vuelos con retrasos** fue de 0.89. \n",
    "\n",
    "La precisión promedio para este clasificador es el promedio de la puntuación F1 para ambas etiquetas, que es 0,85 en nuestro caso."
   ]
  },
  {
   "cell_type": "markdown",
   "metadata": {},
   "source": [
    "### Exercises 3\n",
    "**Entrénelos usando los diferentes parámetros que soportan.**"
   ]
  },
  {
   "cell_type": "markdown",
   "metadata": {},
   "source": [
    "El parametro escogido para mejora de los datos de treino es el **K en KNN**, el número de vecinos más cercanos a examinar. \n",
    "\n",
    "Y lo especifiqué como K=3, pero será que fue el mejor valor para el parametro?  \n",
    "¿Cómo elegir el valor correcto para K?\n",
    "Elijiré  k = 1, usaré la parte de entrenamiento para modelar y calcularé la precisión de la predicción usando todas las muestras en su conjunto de prueba. Repita este proceso, aumentando k, y veré cuál k es el mejor para su modelo.\n",
    "\n",
    "Podemos calcular la precisión de KNN para diferentes Ks."
   ]
  },
  {
   "cell_type": "code",
   "execution_count": 48,
   "metadata": {},
   "outputs": [
    {
     "data": {
      "text/plain": [
       "array([0.87, 0.83, 0.89, 0.88, 0.9 , 0.89, 0.9 , 0.9 , 0.9 ])"
      ]
     },
     "execution_count": 48,
     "metadata": {},
     "output_type": "execute_result"
    }
   ],
   "source": [
    "#calculate the accuracy of KNN for different Ks.\n",
    "\n",
    "from sklearn import metrics\n",
    "from sklearn.neighbors import KNeighborsClassifier\n",
    "\n",
    "Ks = 10\n",
    "mean_acc = np.zeros((Ks-1))\n",
    "std_acc = np.zeros((Ks-1))\n",
    "\n",
    "for n in range(1,Ks):\n",
    "    \n",
    "    #Train Model and Predict  \n",
    "    neigh = KNeighborsClassifier(n_neighbors = n).fit(X_train,y_train)\n",
    "    yhat_knn2=neigh.predict(X_test)\n",
    "    mean_acc[n-1] = metrics.accuracy_score(y_test, yhat_knn2)\n",
    "\n",
    "    \n",
    "    std_acc[n-1]=np.std(yhat_knn2==y_test)/np.sqrt(yhat_knn2.shape[0])\n",
    "\n",
    "mean_acc"
   ]
  },
  {
   "cell_type": "code",
   "execution_count": 49,
   "metadata": {},
   "outputs": [
    {
     "data": {
      "image/png": "[encoded data removed]",
      "text/plain": [
       "<Figure size 432x288 with 1 Axes>"
      ]
     },
     "metadata": {
      "needs_background": "light"
     },
     "output_type": "display_data"
    }
   ],
   "source": [
    "# Plot model accuracy for Different number of Neighbors\n",
    "\n",
    "plt.plot(range(1,Ks),mean_acc,'pink')\n",
    "plt.fill_between(range(1,Ks),mean_acc - 1 * std_acc,mean_acc + 1 * std_acc, alpha=0.10)\n",
    "plt.fill_between(range(1,Ks),mean_acc - 3 * std_acc,mean_acc + 3 * std_acc, alpha=0.10,color=\"pink\")\n",
    "plt.legend(('Accuracy ', '+/- 1xstd','+/- 3xstd'))\n",
    "plt.ylabel('Accuracy ')\n",
    "plt.xlabel('Number of Neighbors (K)')\n",
    "plt.tight_layout()\n",
    "plt.show()"
   ]
  },
  {
   "cell_type": "code",
   "execution_count": 51,
   "metadata": {},
   "outputs": [
    {
     "name": "stdout",
     "output_type": "stream",
     "text": [
      "La mejor acuracia fue con 0.8991810022955444 with k= 9\n"
     ]
    }
   ],
   "source": [
    "print( \"La mejor acuracia fue con\", mean_acc.max(), \"with k=\", mean_acc.argmax()+1) "
   ]
  },
  {
   "cell_type": "markdown",
   "metadata": {},
   "source": [
    "Vamos verificar el clasificador KNN con el k=9"
   ]
  },
  {
   "cell_type": "code",
   "execution_count": 52,
   "metadata": {},
   "outputs": [],
   "source": [
    "#Train Model and Predict  \n",
    "class_knn_9 = KNeighborsClassifier(n_neighbors = 9).fit(X_train,y_train)\n"
   ]
  },
  {
   "cell_type": "code",
   "execution_count": 53,
   "metadata": {},
   "outputs": [],
   "source": [
    "yhat_knn_9 = class_knn_9.predict(X_test)"
   ]
  },
  {
   "cell_type": "code",
   "execution_count": 54,
   "metadata": {},
   "outputs": [
    {
     "name": "stdout",
     "output_type": "stream",
     "text": [
      "              precision    recall  f1-score   support\n",
      "\n",
      "           0       0.60      0.13      0.22     61103\n",
      "           1       0.91      0.99      0.95    517409\n",
      "\n",
      "    accuracy                           0.90    578512\n",
      "   macro avg       0.75      0.56      0.58    578512\n",
      "weighted avg       0.87      0.90      0.87    578512\n",
      "\n"
     ]
    }
   ],
   "source": [
    "print (classification_report(y_test, yhat_knn_9))"
   ]
  },
  {
   "cell_type": "markdown",
   "metadata": {},
   "source": [
    "Con el k=9 en el clasificador KNN, la acuracia fue de 0.9, un poco acima de la acuracia con el k=3 ( 0.8).\n",
    "\n",
    "Comparando el k= 9 con el k=3:\n",
    "\n",
    "* La precision de los vuelos non retrasados aumentó de 0.45 para 0.60 (aumentó en 33%)y la de los vuelos retrasados diminuiu en 1%, \n",
    "\n",
    "* El recall de los vuelos retrasados  aumentó en 3% (de 0.96 para 0.99). \n",
    "\n",
    "* Sin embargo, el recall de los vuelos sin retraso diminuiu en 50% (de 0.26 para 0.13)\n",
    "\n",
    "No hubo un cambio significativo en los valores de los vuelos retrasados con el cambio del K. Además, el tiempo de analisis con el k=9 ha aumentado y no compensó los resultados."
   ]
  },
  {
   "cell_type": "markdown",
   "metadata": {},
   "source": [
    "### Exercises 4\n",
    "**Compare su desempeño usando el enfoque de entrenamiento / prueba o usando todos los datos (validación cruzada).**"
   ]
  },
  {
   "cell_type": "markdown",
   "metadata": {},
   "source": [
    "El siguiente código divide aleatoriamente el conjunto de entrenamiento en 5 subconjuntos distintos (**fold, cv**), luego entrena y evalúa el clasificador  5 veces, eligiendo un *fold* diferente para evaluarlo cada vez y entrenar en los otros 4 *folds*. El resultado es una matriz que contiene las 5 puntuaciones de evaluación.\n",
    "\n",
    "Fue utiizado todo el dataset X ,y parael *cross validation*."
   ]
  },
  {
   "cell_type": "markdown",
   "metadata": {},
   "source": [
    "#### Logistic Regression- Cross Validation"
   ]
  },
  {
   "cell_type": "code",
   "execution_count": 55,
   "metadata": {},
   "outputs": [
    {
     "name": "stdout",
     "output_type": "stream",
     "text": [
      "Cross-validation scores:[0.97 0.98 0.98 0.98 0.98]\n",
      "Cross-validation scores:[1. 1. 1. 1. 1.]\n"
     ]
    }
   ],
   "source": [
    "from sklearn.model_selection import cross_val_score\n",
    "\n",
    "# Aplicación de validación cruzada de cinco partes\n",
    "\n",
    "scores_LR_ac = cross_val_score(LR, X, y, cv = 5, scoring='accuracy')\n",
    "scores_LR_recall = cross_val_score(LR, X, y, cv = 5, scoring='recall')\n",
    "print('Cross-validation scores:{}'.format(scores_LR_ac))\n",
    "print('Cross-validation scores:{}'.format(scores_LR_recall))"
   ]
  },
  {
   "cell_type": "code",
   "execution_count": 56,
   "metadata": {},
   "outputs": [
    {
     "name": "stdout",
     "output_type": "stream",
     "text": [
      "0.98 accuracy with a standard deviation of 0.00\n",
      "1.00 recall with a standard deviation of 0.00\n"
     ]
    }
   ],
   "source": [
    "print(\"%0.2f accuracy with a standard deviation of %0.2f\" % (scores_LR_ac.mean(), scores_LR_ac.std()))\n",
    "print(\"%0.2f recall with a standard deviation of %0.2f\" % (scores_LR_recall.mean(), scores_LR_recall.std()))"
   ]
  },
  {
   "cell_type": "markdown",
   "metadata": {},
   "source": [
    "Con la utilizacion del croos validation, no hubo mejoría en los valores de accuracia y recall para el classificador Logistic Regresion. "
   ]
  },
  {
   "cell_type": "markdown",
   "metadata": {},
   "source": [
    "#### KNN - Cross Validation"
   ]
  },
  {
   "cell_type": "code",
   "execution_count": 57,
   "metadata": {},
   "outputs": [
    {
     "name": "stdout",
     "output_type": "stream",
     "text": [
      "Cross-validation scores:[0.88 0.87 0.88 0.86 0.85]\n",
      "Cross-validation scores:[0.97 0.95 0.96 0.93 0.91]\n"
     ]
    }
   ],
   "source": [
    "class_knn\n",
    "\n",
    "scores_knn_ac = cross_val_score(class_knn, X, y, cv = 5, scoring='accuracy')\n",
    "scores_knn_recall = cross_val_score(class_knn, X, y, cv = 5, scoring='recall')\n",
    "print('Cross-validation scores:{}'.format(scores_knn_ac))\n",
    "print('Cross-validation scores:{}'.format(scores_knn_recall))"
   ]
  },
  {
   "cell_type": "code",
   "execution_count": 58,
   "metadata": {},
   "outputs": [
    {
     "name": "stdout",
     "output_type": "stream",
     "text": [
      "0.87 accuracy with a standard deviation of 0.01\n",
      "0.94 recall with a standard deviation of 0.02\n"
     ]
    }
   ],
   "source": [
    "print(\"%0.2f accuracy with a standard deviation of %0.2f\" % (scores_knn_ac.mean(), scores_knn_ac.std()))\n",
    "print(\"%0.2f recall with a standard deviation of %0.2f\" % (scores_knn_recall.mean(), scores_knn_recall.std()))"
   ]
  },
  {
   "cell_type": "markdown",
   "metadata": {},
   "source": [
    "#### Decicion Tree- Cross Validation"
   ]
  },
  {
   "cell_type": "code",
   "execution_count": 59,
   "metadata": {},
   "outputs": [
    {
     "name": "stdout",
     "output_type": "stream",
     "text": [
      "Cross-validation scores:[0.9 0.9 0.9 0.9 0.9]\n",
      "Cross-validation scores:[1. 1. 1. 1. 1.]\n"
     ]
    }
   ],
   "source": [
    "scores_tree_ac = cross_val_score(loanTree, X, y, cv = 5, scoring='accuracy')\n",
    "scores_tree_recall = cross_val_score(loanTree, X, y, cv = 5, scoring='recall')\n",
    "print('Cross-validation scores:{}'.format(scores_tree_ac))\n",
    "print('Cross-validation scores:{}'.format(scores_tree_recall))"
   ]
  },
  {
   "cell_type": "code",
   "execution_count": 60,
   "metadata": {},
   "outputs": [
    {
     "name": "stdout",
     "output_type": "stream",
     "text": [
      "0.90 accuracy with a standard deviation of 0.00\n",
      "1.00 recall with a standard deviation of 0.00\n"
     ]
    }
   ],
   "source": [
    "print(\"%0.2f accuracy with a standard deviation of %0.2f\" % (scores_tree_ac.mean(), scores_tree_ac.std()))\n",
    "print(\"%0.2f recall with a standard deviation of %0.2f\" % (scores_tree_recall.mean(), scores_tree_recall.std()))"
   ]
  },
  {
   "cell_type": "markdown",
   "metadata": {},
   "source": [
    "#### Naive Bayes- Cross Validation"
   ]
  },
  {
   "cell_type": "code",
   "execution_count": 61,
   "metadata": {},
   "outputs": [
    {
     "name": "stdout",
     "output_type": "stream",
     "text": [
      "Cross-validation scores:[0.86 0.84 0.84 0.83 0.8 ]\n",
      "Cross-validation scores:[0.92 0.89 0.89 0.88 0.82]\n"
     ]
    }
   ],
   "source": [
    "scores_nb_ac = cross_val_score(nbclf, X, y, cv = 5, scoring='accuracy')\n",
    "scores_nb_recall = cross_val_score(nbclf, X, y, cv = 5, scoring='recall')\n",
    "print('Cross-validation scores:{}'.format(scores_nb_ac))\n",
    "print('Cross-validation scores:{}'.format(scores_nb_recall))"
   ]
  },
  {
   "cell_type": "code",
   "execution_count": 62,
   "metadata": {},
   "outputs": [
    {
     "name": "stdout",
     "output_type": "stream",
     "text": [
      "0.84 accuracy with a standard deviation of 0.02\n",
      "0.88 recall with a standard deviation of 0.03\n"
     ]
    }
   ],
   "source": [
    "print(\"%0.2f accuracy with a standard deviation of %0.2f\" % (scores_nb_ac.mean(), scores_nb_ac.std()))\n",
    "print(\"%0.2f recall with a standard deviation of %0.2f\" % (scores_nb_recall.mean(), scores_nb_recall.std()))"
   ]
  },
  {
   "cell_type": "code",
   "execution_count": 63,
   "metadata": {},
   "outputs": [
    {
     "data": {
      "text/html": [
       "<div>\n",
       "<style scoped>\n",
       "    .dataframe tbody tr th:only-of-type {\n",
       "        vertical-align: middle;\n",
       "    }\n",
       "\n",
       "    .dataframe tbody tr th {\n",
       "        vertical-align: top;\n",
       "    }\n",
       "\n",
       "    .dataframe thead th {\n",
       "        text-align: right;\n",
       "    }\n",
       "</style>\n",
       "<table border=\"1\" class=\"dataframe\">\n",
       "  <thead>\n",
       "    <tr style=\"text-align: right;\">\n",
       "      <th></th>\n",
       "      <th>validation</th>\n",
       "      <th>LR</th>\n",
       "      <th>KNN</th>\n",
       "      <th>Decision Tree</th>\n",
       "      <th>Naive Bayes</th>\n",
       "    </tr>\n",
       "  </thead>\n",
       "  <tbody>\n",
       "    <tr>\n",
       "      <th>0</th>\n",
       "      <td>acc - sin cross validation</td>\n",
       "      <td>0.98</td>\n",
       "      <td>0.89</td>\n",
       "      <td>0.9</td>\n",
       "      <td>0.84</td>\n",
       "    </tr>\n",
       "    <tr>\n",
       "      <th>1</th>\n",
       "      <td>acc - con cross validation</td>\n",
       "      <td>0.98</td>\n",
       "      <td>0.87</td>\n",
       "      <td>0.9</td>\n",
       "      <td>0.84</td>\n",
       "    </tr>\n",
       "  </tbody>\n",
       "</table>\n",
       "</div>"
      ],
      "text/plain": [
       "                    validation    LR   KNN  Decision Tree  Naive Bayes\n",
       "0  acc - sin cross validation   0.98  0.89            0.9         0.84\n",
       "1   acc - con cross validation  0.98  0.87            0.9         0.84"
      ]
     },
     "execution_count": 63,
     "metadata": {},
     "output_type": "execute_result"
    }
   ],
   "source": [
    "measure_cross = pd.DataFrame({'validation': ['acc - sin cross validation ', 'acc - con cross validation'], \n",
    "                             'LR': [0.98, 0.98],\n",
    "                             'KNN':[0.89,0.87],\n",
    "                             'Decision Tree': [0.90, 0.90],\n",
    "                             'Naive Bayes': [0.84,0.84], \n",
    "                            })\n",
    "measure_cross"
   ]
  },
  {
   "cell_type": "markdown",
   "metadata": {},
   "source": [
    "La validación cruzada permite obtener una estimación del rendimiento del modelo y también una medida de la precisión de esta estimación.\n",
    "\n",
    "Todos los modelos, excepto el KNN , tubieron la acuracia igual en las duas validacions.\n",
    "\n",
    "Tanto  modelo KNN cuyo k=3, cual el con k=9,  tubieron una pequena diferencia entre la acuracia sin cross validation y la  con cross validacion(0.89 y 0.9 respectivamente). Esto no significa que el modelo se sobreajusta mal (overfitting) pero el  funciona peor que el modelo de Logistic Regression."
   ]
  },
  {
   "cell_type": "markdown",
   "metadata": {},
   "source": [
    "### Exercises 5\n",
    "**Realice algún proceso de ingeniería variable para mejorar la predicción**"
   ]
  },
  {
   "cell_type": "markdown",
   "metadata": {},
   "source": [
    "Vamos a crear el atributo de velocidad para comprobar si influye en los retrasos en la llegada de los vuelos."
   ]
  },
  {
   "cell_type": "code",
   "execution_count": 64,
   "metadata": {},
   "outputs": [
    {
     "data": {
      "text/html": [
       "<div>\n",
       "<style scoped>\n",
       "    .dataframe tbody tr th:only-of-type {\n",
       "        vertical-align: middle;\n",
       "    }\n",
       "\n",
       "    .dataframe tbody tr th {\n",
       "        vertical-align: top;\n",
       "    }\n",
       "\n",
       "    .dataframe thead th {\n",
       "        text-align: right;\n",
       "    }\n",
       "</style>\n",
       "<table border=\"1\" class=\"dataframe\">\n",
       "  <thead>\n",
       "    <tr style=\"text-align: right;\">\n",
       "      <th></th>\n",
       "      <th>Month</th>\n",
       "      <th>DayofMonth</th>\n",
       "      <th>DayOfWeek</th>\n",
       "      <th>DepTime</th>\n",
       "      <th>ArrTime</th>\n",
       "      <th>UniqueCarrier</th>\n",
       "      <th>ActualElapsedTime</th>\n",
       "      <th>CRSElapsedTime</th>\n",
       "      <th>AirTime</th>\n",
       "      <th>DepDelay</th>\n",
       "      <th>Origin</th>\n",
       "      <th>Dest</th>\n",
       "      <th>Distance</th>\n",
       "      <th>weekend</th>\n",
       "      <th>ArrDelay_class</th>\n",
       "      <th>velocidad</th>\n",
       "    </tr>\n",
       "  </thead>\n",
       "  <tbody>\n",
       "    <tr>\n",
       "      <th>0</th>\n",
       "      <td>1</td>\n",
       "      <td>3</td>\n",
       "      <td>4</td>\n",
       "      <td>2003.0</td>\n",
       "      <td>2211.0</td>\n",
       "      <td>17</td>\n",
       "      <td>128.0</td>\n",
       "      <td>150.0</td>\n",
       "      <td>116.0</td>\n",
       "      <td>8.0</td>\n",
       "      <td>135</td>\n",
       "      <td>284</td>\n",
       "      <td>810</td>\n",
       "      <td>0</td>\n",
       "      <td>0</td>\n",
       "      <td>6.328125</td>\n",
       "    </tr>\n",
       "    <tr>\n",
       "      <th>1</th>\n",
       "      <td>1</td>\n",
       "      <td>3</td>\n",
       "      <td>4</td>\n",
       "      <td>754.0</td>\n",
       "      <td>1002.0</td>\n",
       "      <td>17</td>\n",
       "      <td>128.0</td>\n",
       "      <td>145.0</td>\n",
       "      <td>113.0</td>\n",
       "      <td>19.0</td>\n",
       "      <td>135</td>\n",
       "      <td>284</td>\n",
       "      <td>810</td>\n",
       "      <td>0</td>\n",
       "      <td>1</td>\n",
       "      <td>6.328125</td>\n",
       "    </tr>\n",
       "    <tr>\n",
       "      <th>2</th>\n",
       "      <td>1</td>\n",
       "      <td>3</td>\n",
       "      <td>4</td>\n",
       "      <td>628.0</td>\n",
       "      <td>804.0</td>\n",
       "      <td>17</td>\n",
       "      <td>96.0</td>\n",
       "      <td>90.0</td>\n",
       "      <td>76.0</td>\n",
       "      <td>8.0</td>\n",
       "      <td>140</td>\n",
       "      <td>48</td>\n",
       "      <td>515</td>\n",
       "      <td>0</td>\n",
       "      <td>1</td>\n",
       "      <td>5.364583</td>\n",
       "    </tr>\n",
       "    <tr>\n",
       "      <th>3</th>\n",
       "      <td>1</td>\n",
       "      <td>3</td>\n",
       "      <td>4</td>\n",
       "      <td>1829.0</td>\n",
       "      <td>1959.0</td>\n",
       "      <td>17</td>\n",
       "      <td>90.0</td>\n",
       "      <td>90.0</td>\n",
       "      <td>77.0</td>\n",
       "      <td>34.0</td>\n",
       "      <td>140</td>\n",
       "      <td>48</td>\n",
       "      <td>515</td>\n",
       "      <td>0</td>\n",
       "      <td>1</td>\n",
       "      <td>5.722222</td>\n",
       "    </tr>\n",
       "    <tr>\n",
       "      <th>4</th>\n",
       "      <td>1</td>\n",
       "      <td>3</td>\n",
       "      <td>4</td>\n",
       "      <td>1940.0</td>\n",
       "      <td>2121.0</td>\n",
       "      <td>17</td>\n",
       "      <td>101.0</td>\n",
       "      <td>115.0</td>\n",
       "      <td>87.0</td>\n",
       "      <td>25.0</td>\n",
       "      <td>140</td>\n",
       "      <td>149</td>\n",
       "      <td>688</td>\n",
       "      <td>0</td>\n",
       "      <td>1</td>\n",
       "      <td>6.811881</td>\n",
       "    </tr>\n",
       "  </tbody>\n",
       "</table>\n",
       "</div>"
      ],
      "text/plain": [
       "   Month  DayofMonth  DayOfWeek  DepTime  ArrTime  UniqueCarrier  \\\n",
       "0      1           3          4   2003.0   2211.0             17   \n",
       "1      1           3          4    754.0   1002.0             17   \n",
       "2      1           3          4    628.0    804.0             17   \n",
       "3      1           3          4   1829.0   1959.0             17   \n",
       "4      1           3          4   1940.0   2121.0             17   \n",
       "\n",
       "   ActualElapsedTime  CRSElapsedTime  AirTime  DepDelay  Origin  Dest  \\\n",
       "0              128.0           150.0    116.0       8.0     135   284   \n",
       "1              128.0           145.0    113.0      19.0     135   284   \n",
       "2               96.0            90.0     76.0       8.0     140    48   \n",
       "3               90.0            90.0     77.0      34.0     140    48   \n",
       "4              101.0           115.0     87.0      25.0     140   149   \n",
       "\n",
       "   Distance  weekend  ArrDelay_class  velocidad  \n",
       "0       810        0               0   6.328125  \n",
       "1       810        0               1   6.328125  \n",
       "2       515        0               1   5.364583  \n",
       "3       515        0               1   5.722222  \n",
       "4       688        0               1   6.811881  "
      ]
     },
     "execution_count": 64,
     "metadata": {},
     "output_type": "execute_result"
    }
   ],
   "source": [
    "# copia de la df_class\n",
    "\n",
    "df_new = df_class.copy()\n",
    "\n",
    "#creacion del atributo 'velocidad'\n",
    "\n",
    "df_new['velocidad'] =df_new['Distance'] /df_new['ActualElapsedTime']\n",
    "df_new.head()"
   ]
  },
  {
   "cell_type": "code",
   "execution_count": 68,
   "metadata": {},
   "outputs": [
    {
     "data": {
      "text/plain": [
       "count    1.928371e+06\n",
       "mean     5.253787e+00\n",
       "std      1.504293e+00\n",
       "min      1.833333e-01\n",
       "25%      4.258621e+00\n",
       "50%      5.369048e+00\n",
       "75%      6.338235e+00\n",
       "max      2.771429e+01\n",
       "Name: velocidad, dtype: float64"
      ]
     },
     "execution_count": 68,
     "metadata": {},
     "output_type": "execute_result"
    }
   ],
   "source": [
    "df_new['velocidad'].describe()"
   ]
  },
  {
   "cell_type": "code",
   "execution_count": 72,
   "metadata": {},
   "outputs": [
    {
     "data": {
      "image/png": "[encoded data removed]",
      "text/plain": [
       "<Figure size 432x288 with 1 Axes>"
      ]
     },
     "metadata": {
      "needs_background": "light"
     },
     "output_type": "display_data"
    }
   ],
   "source": [
    "sns.histplot(data=df_new, x=\"velocidad\", bins =50);"
   ]
  },
  {
   "cell_type": "markdown",
   "metadata": {},
   "source": [
    "Segun el grafico y las estatisticas de arriba, el promedio de la velocidad del vuelo es de 5.25 millas/min (315 millas/ hora), llegando al maximo de 27.7 millas/min (1662 millas/min).\n",
    "\n",
    "Veremos el impacto de la distancia en la velocidad."
   ]
  },
  {
   "cell_type": "code",
   "execution_count": 74,
   "metadata": {},
   "outputs": [
    {
     "data": {
      "image/png": "[encoded data removed]",
      "text/plain": [
       "<Figure size 432x288 with 1 Axes>"
      ]
     },
     "metadata": {
      "needs_background": "light"
     },
     "output_type": "display_data"
    }
   ],
   "source": [
    "sns.regplot(x=\"Distance\", y=\"velocidad\", data=df_new)\n",
    "plt.title('Velocidad del vuelo (millas/min)  x Distance');"
   ]
  },
  {
   "cell_type": "markdown",
   "metadata": {},
   "source": [
    "Segun en el grafico de arriba, hay una fuerte correlacion positiva entre la velocidad y la distancia: cuanto mayor la distancia, la velocidade tiene la tendencia a ser mayor tambien.\n",
    "\n",
    "Pero para las distancias mayores que 3000 millas, las velocidades tendem a se quedr por debajo de la línea de tendencia. \n",
    "\n",
    "Vamos verificar la cuatidad de atrasos en la llegada de los vuelos con distancias acima de 3000 millas y los de abajo de 3000 millas."
   ]
  },
  {
   "cell_type": "code",
   "execution_count": 95,
   "metadata": {},
   "outputs": [
    {
     "data": {
      "text/html": [
       "<div>\n",
       "<style scoped>\n",
       "    .dataframe tbody tr th:only-of-type {\n",
       "        vertical-align: middle;\n",
       "    }\n",
       "\n",
       "    .dataframe tbody tr th {\n",
       "        vertical-align: top;\n",
       "    }\n",
       "\n",
       "    .dataframe thead th {\n",
       "        text-align: right;\n",
       "    }\n",
       "</style>\n",
       "<table border=\"1\" class=\"dataframe\">\n",
       "  <thead>\n",
       "    <tr style=\"text-align: right;\">\n",
       "      <th></th>\n",
       "      <th>Month</th>\n",
       "      <th>DayofMonth</th>\n",
       "      <th>DayOfWeek</th>\n",
       "      <th>DepTime</th>\n",
       "      <th>ArrTime</th>\n",
       "      <th>UniqueCarrier</th>\n",
       "      <th>ActualElapsedTime</th>\n",
       "      <th>CRSElapsedTime</th>\n",
       "      <th>AirTime</th>\n",
       "      <th>DepDelay</th>\n",
       "      <th>Origin</th>\n",
       "      <th>Dest</th>\n",
       "      <th>Distance</th>\n",
       "      <th>weekend</th>\n",
       "      <th>ArrDelay_class</th>\n",
       "      <th>velocidad</th>\n",
       "    </tr>\n",
       "  </thead>\n",
       "  <tbody>\n",
       "    <tr>\n",
       "      <th>0</th>\n",
       "      <td>1</td>\n",
       "      <td>1</td>\n",
       "      <td>2</td>\n",
       "      <td>1030.0</td>\n",
       "      <td>1541.0</td>\n",
       "      <td>15</td>\n",
       "      <td>551.0</td>\n",
       "      <td>552.0</td>\n",
       "      <td>517.0</td>\n",
       "      <td>20.0</td>\n",
       "      <td>210</td>\n",
       "      <td>129</td>\n",
       "      <td>4243</td>\n",
       "      <td>0</td>\n",
       "      <td>1</td>\n",
       "      <td>7.700544</td>\n",
       "    </tr>\n",
       "    <tr>\n",
       "      <th>1</th>\n",
       "      <td>1</td>\n",
       "      <td>2</td>\n",
       "      <td>3</td>\n",
       "      <td>1037.0</td>\n",
       "      <td>1535.0</td>\n",
       "      <td>15</td>\n",
       "      <td>538.0</td>\n",
       "      <td>552.0</td>\n",
       "      <td>515.0</td>\n",
       "      <td>27.0</td>\n",
       "      <td>210</td>\n",
       "      <td>129</td>\n",
       "      <td>4243</td>\n",
       "      <td>0</td>\n",
       "      <td>1</td>\n",
       "      <td>7.886617</td>\n",
       "    </tr>\n",
       "    <tr>\n",
       "      <th>2</th>\n",
       "      <td>1</td>\n",
       "      <td>3</td>\n",
       "      <td>4</td>\n",
       "      <td>1028.0</td>\n",
       "      <td>1515.0</td>\n",
       "      <td>15</td>\n",
       "      <td>527.0</td>\n",
       "      <td>552.0</td>\n",
       "      <td>511.0</td>\n",
       "      <td>18.0</td>\n",
       "      <td>210</td>\n",
       "      <td>129</td>\n",
       "      <td>4243</td>\n",
       "      <td>0</td>\n",
       "      <td>0</td>\n",
       "      <td>8.051233</td>\n",
       "    </tr>\n",
       "    <tr>\n",
       "      <th>3</th>\n",
       "      <td>1</td>\n",
       "      <td>5</td>\n",
       "      <td>6</td>\n",
       "      <td>1129.0</td>\n",
       "      <td>1700.0</td>\n",
       "      <td>15</td>\n",
       "      <td>571.0</td>\n",
       "      <td>552.0</td>\n",
       "      <td>525.0</td>\n",
       "      <td>79.0</td>\n",
       "      <td>210</td>\n",
       "      <td>129</td>\n",
       "      <td>4243</td>\n",
       "      <td>1</td>\n",
       "      <td>1</td>\n",
       "      <td>7.430823</td>\n",
       "    </tr>\n",
       "    <tr>\n",
       "      <th>4</th>\n",
       "      <td>1</td>\n",
       "      <td>6</td>\n",
       "      <td>7</td>\n",
       "      <td>1038.0</td>\n",
       "      <td>1554.0</td>\n",
       "      <td>15</td>\n",
       "      <td>556.0</td>\n",
       "      <td>552.0</td>\n",
       "      <td>527.0</td>\n",
       "      <td>28.0</td>\n",
       "      <td>210</td>\n",
       "      <td>129</td>\n",
       "      <td>4243</td>\n",
       "      <td>1</td>\n",
       "      <td>1</td>\n",
       "      <td>7.631295</td>\n",
       "    </tr>\n",
       "    <tr>\n",
       "      <th>...</th>\n",
       "      <td>...</td>\n",
       "      <td>...</td>\n",
       "      <td>...</td>\n",
       "      <td>...</td>\n",
       "      <td>...</td>\n",
       "      <td>...</td>\n",
       "      <td>...</td>\n",
       "      <td>...</td>\n",
       "      <td>...</td>\n",
       "      <td>...</td>\n",
       "      <td>...</td>\n",
       "      <td>...</td>\n",
       "      <td>...</td>\n",
       "      <td>...</td>\n",
       "      <td>...</td>\n",
       "      <td>...</td>\n",
       "    </tr>\n",
       "    <tr>\n",
       "      <th>3473</th>\n",
       "      <td>12</td>\n",
       "      <td>10</td>\n",
       "      <td>3</td>\n",
       "      <td>1149.0</td>\n",
       "      <td>1627.0</td>\n",
       "      <td>6</td>\n",
       "      <td>578.0</td>\n",
       "      <td>580.0</td>\n",
       "      <td>554.0</td>\n",
       "      <td>74.0</td>\n",
       "      <td>18</td>\n",
       "      <td>129</td>\n",
       "      <td>4502</td>\n",
       "      <td>0</td>\n",
       "      <td>1</td>\n",
       "      <td>7.788927</td>\n",
       "    </tr>\n",
       "    <tr>\n",
       "      <th>3474</th>\n",
       "      <td>12</td>\n",
       "      <td>11</td>\n",
       "      <td>4</td>\n",
       "      <td>1229.0</td>\n",
       "      <td>1644.0</td>\n",
       "      <td>6</td>\n",
       "      <td>555.0</td>\n",
       "      <td>580.0</td>\n",
       "      <td>533.0</td>\n",
       "      <td>114.0</td>\n",
       "      <td>18</td>\n",
       "      <td>129</td>\n",
       "      <td>4502</td>\n",
       "      <td>0</td>\n",
       "      <td>1</td>\n",
       "      <td>8.111712</td>\n",
       "    </tr>\n",
       "    <tr>\n",
       "      <th>3475</th>\n",
       "      <td>12</td>\n",
       "      <td>11</td>\n",
       "      <td>4</td>\n",
       "      <td>1720.0</td>\n",
       "      <td>708.0</td>\n",
       "      <td>6</td>\n",
       "      <td>528.0</td>\n",
       "      <td>522.0</td>\n",
       "      <td>498.0</td>\n",
       "      <td>30.0</td>\n",
       "      <td>129</td>\n",
       "      <td>18</td>\n",
       "      <td>4502</td>\n",
       "      <td>0</td>\n",
       "      <td>1</td>\n",
       "      <td>8.526515</td>\n",
       "    </tr>\n",
       "    <tr>\n",
       "      <th>3476</th>\n",
       "      <td>12</td>\n",
       "      <td>12</td>\n",
       "      <td>5</td>\n",
       "      <td>1057.0</td>\n",
       "      <td>1541.0</td>\n",
       "      <td>6</td>\n",
       "      <td>584.0</td>\n",
       "      <td>580.0</td>\n",
       "      <td>556.0</td>\n",
       "      <td>22.0</td>\n",
       "      <td>18</td>\n",
       "      <td>129</td>\n",
       "      <td>4502</td>\n",
       "      <td>0</td>\n",
       "      <td>1</td>\n",
       "      <td>7.708904</td>\n",
       "    </tr>\n",
       "    <tr>\n",
       "      <th>3477</th>\n",
       "      <td>12</td>\n",
       "      <td>12</td>\n",
       "      <td>5</td>\n",
       "      <td>1714.0</td>\n",
       "      <td>647.0</td>\n",
       "      <td>6</td>\n",
       "      <td>513.0</td>\n",
       "      <td>522.0</td>\n",
       "      <td>492.0</td>\n",
       "      <td>24.0</td>\n",
       "      <td>129</td>\n",
       "      <td>18</td>\n",
       "      <td>4502</td>\n",
       "      <td>0</td>\n",
       "      <td>1</td>\n",
       "      <td>8.775828</td>\n",
       "    </tr>\n",
       "  </tbody>\n",
       "</table>\n",
       "<p>3478 rows × 16 columns</p>\n",
       "</div>"
      ],
      "text/plain": [
       "      Month  DayofMonth  DayOfWeek  DepTime  ArrTime  UniqueCarrier  \\\n",
       "0         1           1          2   1030.0   1541.0             15   \n",
       "1         1           2          3   1037.0   1535.0             15   \n",
       "2         1           3          4   1028.0   1515.0             15   \n",
       "3         1           5          6   1129.0   1700.0             15   \n",
       "4         1           6          7   1038.0   1554.0             15   \n",
       "...     ...         ...        ...      ...      ...            ...   \n",
       "3473     12          10          3   1149.0   1627.0              6   \n",
       "3474     12          11          4   1229.0   1644.0              6   \n",
       "3475     12          11          4   1720.0    708.0              6   \n",
       "3476     12          12          5   1057.0   1541.0              6   \n",
       "3477     12          12          5   1714.0    647.0              6   \n",
       "\n",
       "      ActualElapsedTime  CRSElapsedTime  AirTime  DepDelay  Origin  Dest  \\\n",
       "0                 551.0           552.0    517.0      20.0     210   129   \n",
       "1                 538.0           552.0    515.0      27.0     210   129   \n",
       "2                 527.0           552.0    511.0      18.0     210   129   \n",
       "3                 571.0           552.0    525.0      79.0     210   129   \n",
       "4                 556.0           552.0    527.0      28.0     210   129   \n",
       "...                 ...             ...      ...       ...     ...   ...   \n",
       "3473              578.0           580.0    554.0      74.0      18   129   \n",
       "3474              555.0           580.0    533.0     114.0      18   129   \n",
       "3475              528.0           522.0    498.0      30.0     129    18   \n",
       "3476              584.0           580.0    556.0      22.0      18   129   \n",
       "3477              513.0           522.0    492.0      24.0     129    18   \n",
       "\n",
       "      Distance  weekend  ArrDelay_class  velocidad  \n",
       "0         4243        0               1   7.700544  \n",
       "1         4243        0               1   7.886617  \n",
       "2         4243        0               0   8.051233  \n",
       "3         4243        1               1   7.430823  \n",
       "4         4243        1               1   7.631295  \n",
       "...        ...      ...             ...        ...  \n",
       "3473      4502        0               1   7.788927  \n",
       "3474      4502        0               1   8.111712  \n",
       "3475      4502        0               1   8.526515  \n",
       "3476      4502        0               1   7.708904  \n",
       "3477      4502        0               1   8.775828  \n",
       "\n",
       "[3478 rows x 16 columns]"
      ]
     },
     "execution_count": 95,
     "metadata": {},
     "output_type": "execute_result"
    }
   ],
   "source": [
    "df_velocidade1 = pd.DataFrame(df_new.loc[df_new['Distance'] > 3000]).reset_index(drop=True)\n",
    "\n",
    "df_velocidade1"
   ]
  },
  {
   "cell_type": "code",
   "execution_count": 103,
   "metadata": {},
   "outputs": [
    {
     "name": "stdout",
     "output_type": "stream",
     "text": [
      "(3478, 16)\n",
      "2762\n",
      "8.048453294232944\n",
      "None\n"
     ]
    }
   ],
   "source": [
    "print(df_velocidade1.shape)\n",
    "print(df_velocidade1['ArrDelay_class'].sum())\n",
    "print(print(df_velocidade1['velocidad'].mean()))"
   ]
  },
  {
   "cell_type": "code",
   "execution_count": 96,
   "metadata": {},
   "outputs": [
    {
     "data": {
      "text/html": [
       "<div>\n",
       "<style scoped>\n",
       "    .dataframe tbody tr th:only-of-type {\n",
       "        vertical-align: middle;\n",
       "    }\n",
       "\n",
       "    .dataframe tbody tr th {\n",
       "        vertical-align: top;\n",
       "    }\n",
       "\n",
       "    .dataframe thead th {\n",
       "        text-align: right;\n",
       "    }\n",
       "</style>\n",
       "<table border=\"1\" class=\"dataframe\">\n",
       "  <thead>\n",
       "    <tr style=\"text-align: right;\">\n",
       "      <th></th>\n",
       "      <th>Month</th>\n",
       "      <th>DayofMonth</th>\n",
       "      <th>DayOfWeek</th>\n",
       "      <th>DepTime</th>\n",
       "      <th>ArrTime</th>\n",
       "      <th>UniqueCarrier</th>\n",
       "      <th>ActualElapsedTime</th>\n",
       "      <th>CRSElapsedTime</th>\n",
       "      <th>AirTime</th>\n",
       "      <th>DepDelay</th>\n",
       "      <th>Origin</th>\n",
       "      <th>Dest</th>\n",
       "      <th>Distance</th>\n",
       "      <th>weekend</th>\n",
       "      <th>ArrDelay_class</th>\n",
       "      <th>velocidad</th>\n",
       "    </tr>\n",
       "  </thead>\n",
       "  <tbody>\n",
       "    <tr>\n",
       "      <th>0</th>\n",
       "      <td>1</td>\n",
       "      <td>3</td>\n",
       "      <td>4</td>\n",
       "      <td>2003.0</td>\n",
       "      <td>2211.0</td>\n",
       "      <td>17</td>\n",
       "      <td>128.0</td>\n",
       "      <td>150.0</td>\n",
       "      <td>116.0</td>\n",
       "      <td>8.0</td>\n",
       "      <td>135</td>\n",
       "      <td>284</td>\n",
       "      <td>810</td>\n",
       "      <td>0</td>\n",
       "      <td>0</td>\n",
       "      <td>6.328125</td>\n",
       "    </tr>\n",
       "    <tr>\n",
       "      <th>1</th>\n",
       "      <td>1</td>\n",
       "      <td>3</td>\n",
       "      <td>4</td>\n",
       "      <td>754.0</td>\n",
       "      <td>1002.0</td>\n",
       "      <td>17</td>\n",
       "      <td>128.0</td>\n",
       "      <td>145.0</td>\n",
       "      <td>113.0</td>\n",
       "      <td>19.0</td>\n",
       "      <td>135</td>\n",
       "      <td>284</td>\n",
       "      <td>810</td>\n",
       "      <td>0</td>\n",
       "      <td>1</td>\n",
       "      <td>6.328125</td>\n",
       "    </tr>\n",
       "    <tr>\n",
       "      <th>2</th>\n",
       "      <td>1</td>\n",
       "      <td>3</td>\n",
       "      <td>4</td>\n",
       "      <td>628.0</td>\n",
       "      <td>804.0</td>\n",
       "      <td>17</td>\n",
       "      <td>96.0</td>\n",
       "      <td>90.0</td>\n",
       "      <td>76.0</td>\n",
       "      <td>8.0</td>\n",
       "      <td>140</td>\n",
       "      <td>48</td>\n",
       "      <td>515</td>\n",
       "      <td>0</td>\n",
       "      <td>1</td>\n",
       "      <td>5.364583</td>\n",
       "    </tr>\n",
       "    <tr>\n",
       "      <th>3</th>\n",
       "      <td>1</td>\n",
       "      <td>3</td>\n",
       "      <td>4</td>\n",
       "      <td>1829.0</td>\n",
       "      <td>1959.0</td>\n",
       "      <td>17</td>\n",
       "      <td>90.0</td>\n",
       "      <td>90.0</td>\n",
       "      <td>77.0</td>\n",
       "      <td>34.0</td>\n",
       "      <td>140</td>\n",
       "      <td>48</td>\n",
       "      <td>515</td>\n",
       "      <td>0</td>\n",
       "      <td>1</td>\n",
       "      <td>5.722222</td>\n",
       "    </tr>\n",
       "    <tr>\n",
       "      <th>4</th>\n",
       "      <td>1</td>\n",
       "      <td>3</td>\n",
       "      <td>4</td>\n",
       "      <td>1940.0</td>\n",
       "      <td>2121.0</td>\n",
       "      <td>17</td>\n",
       "      <td>101.0</td>\n",
       "      <td>115.0</td>\n",
       "      <td>87.0</td>\n",
       "      <td>25.0</td>\n",
       "      <td>140</td>\n",
       "      <td>149</td>\n",
       "      <td>688</td>\n",
       "      <td>0</td>\n",
       "      <td>1</td>\n",
       "      <td>6.811881</td>\n",
       "    </tr>\n",
       "    <tr>\n",
       "      <th>...</th>\n",
       "      <td>...</td>\n",
       "      <td>...</td>\n",
       "      <td>...</td>\n",
       "      <td>...</td>\n",
       "      <td>...</td>\n",
       "      <td>...</td>\n",
       "      <td>...</td>\n",
       "      <td>...</td>\n",
       "      <td>...</td>\n",
       "      <td>...</td>\n",
       "      <td>...</td>\n",
       "      <td>...</td>\n",
       "      <td>...</td>\n",
       "      <td>...</td>\n",
       "      <td>...</td>\n",
       "      <td>...</td>\n",
       "    </tr>\n",
       "    <tr>\n",
       "      <th>1924888</th>\n",
       "      <td>12</td>\n",
       "      <td>13</td>\n",
       "      <td>6</td>\n",
       "      <td>1250.0</td>\n",
       "      <td>1617.0</td>\n",
       "      <td>6</td>\n",
       "      <td>147.0</td>\n",
       "      <td>152.0</td>\n",
       "      <td>120.0</td>\n",
       "      <td>30.0</td>\n",
       "      <td>199</td>\n",
       "      <td>18</td>\n",
       "      <td>906</td>\n",
       "      <td>1</td>\n",
       "      <td>1</td>\n",
       "      <td>6.163265</td>\n",
       "    </tr>\n",
       "    <tr>\n",
       "      <th>1924889</th>\n",
       "      <td>12</td>\n",
       "      <td>13</td>\n",
       "      <td>6</td>\n",
       "      <td>657.0</td>\n",
       "      <td>904.0</td>\n",
       "      <td>6</td>\n",
       "      <td>127.0</td>\n",
       "      <td>109.0</td>\n",
       "      <td>78.0</td>\n",
       "      <td>57.0</td>\n",
       "      <td>241</td>\n",
       "      <td>18</td>\n",
       "      <td>481</td>\n",
       "      <td>1</td>\n",
       "      <td>1</td>\n",
       "      <td>3.787402</td>\n",
       "    </tr>\n",
       "    <tr>\n",
       "      <th>1924890</th>\n",
       "      <td>12</td>\n",
       "      <td>13</td>\n",
       "      <td>6</td>\n",
       "      <td>1007.0</td>\n",
       "      <td>1149.0</td>\n",
       "      <td>6</td>\n",
       "      <td>162.0</td>\n",
       "      <td>143.0</td>\n",
       "      <td>122.0</td>\n",
       "      <td>80.0</td>\n",
       "      <td>18</td>\n",
       "      <td>136</td>\n",
       "      <td>689</td>\n",
       "      <td>1</td>\n",
       "      <td>1</td>\n",
       "      <td>4.253086</td>\n",
       "    </tr>\n",
       "    <tr>\n",
       "      <th>1924891</th>\n",
       "      <td>12</td>\n",
       "      <td>13</td>\n",
       "      <td>6</td>\n",
       "      <td>1251.0</td>\n",
       "      <td>1446.0</td>\n",
       "      <td>6</td>\n",
       "      <td>115.0</td>\n",
       "      <td>117.0</td>\n",
       "      <td>89.0</td>\n",
       "      <td>11.0</td>\n",
       "      <td>135</td>\n",
       "      <td>18</td>\n",
       "      <td>533</td>\n",
       "      <td>1</td>\n",
       "      <td>1</td>\n",
       "      <td>4.634783</td>\n",
       "    </tr>\n",
       "    <tr>\n",
       "      <th>1924892</th>\n",
       "      <td>12</td>\n",
       "      <td>13</td>\n",
       "      <td>6</td>\n",
       "      <td>1110.0</td>\n",
       "      <td>1413.0</td>\n",
       "      <td>6</td>\n",
       "      <td>123.0</td>\n",
       "      <td>135.0</td>\n",
       "      <td>104.0</td>\n",
       "      <td>7.0</td>\n",
       "      <td>250</td>\n",
       "      <td>18</td>\n",
       "      <td>874</td>\n",
       "      <td>1</td>\n",
       "      <td>0</td>\n",
       "      <td>7.105691</td>\n",
       "    </tr>\n",
       "  </tbody>\n",
       "</table>\n",
       "<p>1924893 rows × 16 columns</p>\n",
       "</div>"
      ],
      "text/plain": [
       "         Month  DayofMonth  DayOfWeek  DepTime  ArrTime  UniqueCarrier  \\\n",
       "0            1           3          4   2003.0   2211.0             17   \n",
       "1            1           3          4    754.0   1002.0             17   \n",
       "2            1           3          4    628.0    804.0             17   \n",
       "3            1           3          4   1829.0   1959.0             17   \n",
       "4            1           3          4   1940.0   2121.0             17   \n",
       "...        ...         ...        ...      ...      ...            ...   \n",
       "1924888     12          13          6   1250.0   1617.0              6   \n",
       "1924889     12          13          6    657.0    904.0              6   \n",
       "1924890     12          13          6   1007.0   1149.0              6   \n",
       "1924891     12          13          6   1251.0   1446.0              6   \n",
       "1924892     12          13          6   1110.0   1413.0              6   \n",
       "\n",
       "         ActualElapsedTime  CRSElapsedTime  AirTime  DepDelay  Origin  Dest  \\\n",
       "0                    128.0           150.0    116.0       8.0     135   284   \n",
       "1                    128.0           145.0    113.0      19.0     135   284   \n",
       "2                     96.0            90.0     76.0       8.0     140    48   \n",
       "3                     90.0            90.0     77.0      34.0     140    48   \n",
       "4                    101.0           115.0     87.0      25.0     140   149   \n",
       "...                    ...             ...      ...       ...     ...   ...   \n",
       "1924888              147.0           152.0    120.0      30.0     199    18   \n",
       "1924889              127.0           109.0     78.0      57.0     241    18   \n",
       "1924890              162.0           143.0    122.0      80.0      18   136   \n",
       "1924891              115.0           117.0     89.0      11.0     135    18   \n",
       "1924892              123.0           135.0    104.0       7.0     250    18   \n",
       "\n",
       "         Distance  weekend  ArrDelay_class  velocidad  \n",
       "0             810        0               0   6.328125  \n",
       "1             810        0               1   6.328125  \n",
       "2             515        0               1   5.364583  \n",
       "3             515        0               1   5.722222  \n",
       "4             688        0               1   6.811881  \n",
       "...           ...      ...             ...        ...  \n",
       "1924888       906        1               1   6.163265  \n",
       "1924889       481        1               1   3.787402  \n",
       "1924890       689        1               1   4.253086  \n",
       "1924891       533        1               1   4.634783  \n",
       "1924892       874        1               0   7.105691  \n",
       "\n",
       "[1924893 rows x 16 columns]"
      ]
     },
     "execution_count": 96,
     "metadata": {},
     "output_type": "execute_result"
    }
   ],
   "source": [
    "df_velocidade2 = pd.DataFrame(df_new.loc[df_new['Distance'] <= 3000]).reset_index(drop=True)\n",
    "\n",
    "df_velocidade2"
   ]
  },
  {
   "cell_type": "code",
   "execution_count": 102,
   "metadata": {},
   "outputs": [
    {
     "name": "stdout",
     "output_type": "stream",
     "text": [
      "(1924893, 16)\n",
      "1720653\n",
      "5.248737401400288\n",
      "None\n"
     ]
    }
   ],
   "source": [
    "print(df_velocidade2.shape)\n",
    "print(df_velocidade2['ArrDelay_class'].sum())\n",
    "print(print(df_velocidade2['velocidad'].mean()))"
   ]
  },
  {
   "cell_type": "markdown",
   "metadata": {},
   "source": [
    "Donde la distancia del vuelo fue mayor que 3000 miles, hubo menos retrasos (2762) y el promedio de la velocidad fue de 8.0 miles/min entre esos vuelos. Esto representa 79% de los vuelos cuya la distancia es mayor a 3000 miles.\n",
    "\n",
    "Donde la distancia del vuelo fue menor o igual que 3000 miles, hubo más retrasos (1720653) y el promedio de la velocidad fue de 5.2 miles/min entre esos vuelos. Esto representa 89% de los vuelos cuya la distancia es menor o igual a 3000 miles.\n"
   ]
  },
  {
   "cell_type": "markdown",
   "metadata": {},
   "source": [
    "Ahora que el atributo velocidad (miles/min) fue creado, vamos separar novamente el dataset y  normalizarlo."
   ]
  },
  {
   "cell_type": "code",
   "execution_count": 65,
   "metadata": {},
   "outputs": [
    {
     "data": {
      "text/plain": [
       "array([[-1.47, -1.45,  0.01,  1.08,  1.1 ,  0.99, -0.07,  0.22,  0.11,\n",
       "        -0.66, -0.14,  1.66,  0.08, -0.6 ,  0.71],\n",
       "       [-1.47, -1.45,  0.01, -1.7 , -1.11,  0.99, -0.07,  0.15,  0.07,\n",
       "        -0.45, -0.14,  1.66,  0.08, -0.6 ,  0.71],\n",
       "       [-1.47, -1.45,  0.01, -1.98, -1.47,  0.99, -0.52, -0.62, -0.47,\n",
       "        -0.66, -0.08, -1.26, -0.44, -0.6 ,  0.07],\n",
       "       [-1.47, -1.45,  0.01,  0.69,  0.64,  0.99, -0.6 , -0.62, -0.46,\n",
       "        -0.17, -0.08, -1.26, -0.44, -0.6 ,  0.31],\n",
       "       [-1.47, -1.45,  0.01,  0.94,  0.93,  0.99, -0.45, -0.27, -0.31,\n",
       "        -0.34, -0.08, -0.01, -0.13, -0.6 ,  1.04]])"
      ]
     },
     "execution_count": 65,
     "metadata": {},
     "output_type": "execute_result"
    }
   ],
   "source": [
    "#Separar el dataset\n",
    "y2 = df_new['ArrDelay_class']\n",
    "\n",
    "X2 = df_new.drop('ArrDelay_class',axis=1)\n",
    "\n",
    "#Normalizar los datos\n",
    "\n",
    "X2 = preprocessing.StandardScaler().fit(X2).transform(X2)\n",
    "X2[0:5]"
   ]
  },
  {
   "cell_type": "code",
   "execution_count": 104,
   "metadata": {},
   "outputs": [
    {
     "name": "stdout",
     "output_type": "stream",
     "text": [
      "Train set: (1349859, 15) (1349859,)\n",
      "Test set: (578512, 15) (578512,)\n"
     ]
    }
   ],
   "source": [
    "#Train and test\n",
    "X_train2, X_test2, y_train2, y_test2 = train_test_split( X2, y2, test_size=0.3, random_state=4)\n",
    "\n",
    "print ('Train set:', X_train2.shape,  y_train2.shape)\n",
    "print ('Test set:', X_test2.shape,  y_test2.shape)"
   ]
  },
  {
   "cell_type": "markdown",
   "metadata": {},
   "source": [
    "Verificaremos si hubo alguna mejoria en el modelo Logistic Regression, cuya acuracia fue la mayor de los cuatro modelos."
   ]
  },
  {
   "cell_type": "code",
   "execution_count": 105,
   "metadata": {},
   "outputs": [],
   "source": [
    "#Modelo con un nuevo dataset acrecido del nuevo atributo 'velocida'\n",
    "LR2 = LogisticRegression(C=0.01, \n",
    "                        solver='sag').fit(X_train2,y_train2)\n",
    "\n",
    "#prediction\n",
    "yhat_lr2 = LR2.predict(X_test2)"
   ]
  },
  {
   "cell_type": "code",
   "execution_count": 106,
   "metadata": {},
   "outputs": [
    {
     "name": "stdout",
     "output_type": "stream",
     "text": [
      "              precision    recall  f1-score   support\n",
      "\n",
      "           0       1.00      0.80      0.89     61262\n",
      "           1       0.98      1.00      0.99    517250\n",
      "\n",
      "    accuracy                           0.98    578512\n",
      "   macro avg       0.99      0.90      0.94    578512\n",
      "weighted avg       0.98      0.98      0.98    578512\n",
      "\n"
     ]
    }
   ],
   "source": [
    "print (classification_report(y_test2, yhat_lr2))"
   ]
  },
  {
   "cell_type": "markdown",
   "metadata": {},
   "source": [
    "La precision de los vuelos no retrasados aumento de 0.99 para 1 y su recall aumeto de 0.79 para 0.80.\n",
    "\n",
    "Los valores para los vuelos retrasados se mantivieron los mismos."
   ]
  },
  {
   "cell_type": "markdown",
   "metadata": {},
   "source": [
    "### Exercises 6\n",
    "**No use la variable DepDelay al hacer predicciones**"
   ]
  },
  {
   "cell_type": "markdown",
   "metadata": {},
   "source": [
    "Vamos eliminar la variable 'DepDelay'"
   ]
  },
  {
   "cell_type": "code",
   "execution_count": 110,
   "metadata": {},
   "outputs": [
    {
     "data": {
      "text/plain": [
       "array([[-1.47, -1.45,  0.01,  1.08,  1.1 ,  0.99, -0.07,  0.22,  0.11,\n",
       "        -0.14,  1.66,  0.08, -0.6 ,  0.71],\n",
       "       [-1.47, -1.45,  0.01, -1.7 , -1.11,  0.99, -0.07,  0.15,  0.07,\n",
       "        -0.14,  1.66,  0.08, -0.6 ,  0.71],\n",
       "       [-1.47, -1.45,  0.01, -1.98, -1.47,  0.99, -0.52, -0.62, -0.47,\n",
       "        -0.08, -1.26, -0.44, -0.6 ,  0.07],\n",
       "       [-1.47, -1.45,  0.01,  0.69,  0.64,  0.99, -0.6 , -0.62, -0.46,\n",
       "        -0.08, -1.26, -0.44, -0.6 ,  0.31],\n",
       "       [-1.47, -1.45,  0.01,  0.94,  0.93,  0.99, -0.45, -0.27, -0.31,\n",
       "        -0.08, -0.01, -0.13, -0.6 ,  1.04]])"
      ]
     },
     "execution_count": 110,
     "metadata": {},
     "output_type": "execute_result"
    }
   ],
   "source": [
    "#Separar el dataset\n",
    "y3 = df_new['ArrDelay_class']\n",
    "\n",
    "X3 = df_new.drop(['ArrDelay_class', 'DepDelay'],axis=1)\n",
    "\n",
    "#Normalizar los datos\n",
    "\n",
    "X3 = preprocessing.StandardScaler().fit(X3).transform(X3)\n",
    "X3[0:5]"
   ]
  },
  {
   "cell_type": "code",
   "execution_count": 111,
   "metadata": {},
   "outputs": [
    {
     "name": "stdout",
     "output_type": "stream",
     "text": [
      "Train set: (1349859, 14) (1349859,)\n",
      "Test set: (578512, 14) (578512,)\n"
     ]
    }
   ],
   "source": [
    "#Train and test\n",
    "X_train3, X_test3, y_train3, y_test3 = train_test_split( X3, y3, test_size=0.3, random_state=8)\n",
    "\n",
    "print ('Train set:', X_train3.shape,  y_train3.shape)\n",
    "print ('Test set:', X_test3.shape,  y_test3.shape)"
   ]
  },
  {
   "cell_type": "markdown",
   "metadata": {},
   "source": [
    "#### Logistic Regression - sin 'DepDelay'"
   ]
  },
  {
   "cell_type": "code",
   "execution_count": 112,
   "metadata": {},
   "outputs": [
    {
     "name": "stdout",
     "output_type": "stream",
     "text": [
      "              precision    recall  f1-score   support\n",
      "\n",
      "           0       0.51      0.15      0.24     61477\n",
      "           1       0.91      0.98      0.94    517035\n",
      "\n",
      "    accuracy                           0.89    578512\n",
      "   macro avg       0.71      0.57      0.59    578512\n",
      "weighted avg       0.87      0.89      0.87    578512\n",
      "\n"
     ]
    }
   ],
   "source": [
    "#Modelo con un nuevo dataset acrecido del nuevo atributo 'velocida' y sin el atributo 'DepDelay'\n",
    "LR3 = LogisticRegression(C=0.01, \n",
    "                        solver='sag').fit(X_train3,y_train3)\n",
    "\n",
    "#prediction\n",
    "yhat_lr3 = LR3.predict(X_test3)\n",
    "print (classification_report(y_test3, yhat_lr3))"
   ]
  },
  {
   "cell_type": "markdown",
   "metadata": {},
   "source": [
    "#### KNN - sin 'DepDelay'"
   ]
  },
  {
   "cell_type": "code",
   "execution_count": 114,
   "metadata": {},
   "outputs": [
    {
     "name": "stdout",
     "output_type": "stream",
     "text": [
      "              precision    recall  f1-score   support\n",
      "\n",
      "           0       0.37      0.18      0.24     61477\n",
      "           1       0.91      0.96      0.94    517035\n",
      "\n",
      "    accuracy                           0.88    578512\n",
      "   macro avg       0.64      0.57      0.59    578512\n",
      "weighted avg       0.85      0.88      0.86    578512\n",
      "\n"
     ]
    }
   ],
   "source": [
    "#Modelo con un nuevo dataset acrecido del nuevo atributo 'velocida' y sin el atributo 'DepDelay'\n",
    "k = 3\n",
    "#Train Model and Predict  \n",
    "class_knn3 = KNeighborsClassifier(n_neighbors = k).fit(X_train3,y_train3)\n",
    "\n",
    "\n",
    "#prediction\n",
    "yhat_knn3 = class_knn3.predict(X_test3)\n",
    "print (classification_report(y_test3, yhat_knn3))"
   ]
  },
  {
   "cell_type": "markdown",
   "metadata": {},
   "source": [
    "#### Decision Tree - sin 'DepDelay'"
   ]
  },
  {
   "cell_type": "code",
   "execution_count": 116,
   "metadata": {},
   "outputs": [
    {
     "name": "stderr",
     "output_type": "stream",
     "text": [
      "/Applications/anaconda3/lib/python3.8/site-packages/sklearn/metrics/_classification.py:1221: UndefinedMetricWarning: Precision and F-score are ill-defined and being set to 0.0 in labels with no predicted samples. Use `zero_division` parameter to control this behavior.\n",
      "  _warn_prf(average, modifier, msg_start, len(result))\n"
     ]
    },
    {
     "name": "stdout",
     "output_type": "stream",
     "text": [
      "              precision    recall  f1-score   support\n",
      "\n",
      "           0       0.00      0.00      0.00     61477\n",
      "           1       0.89      1.00      0.94    517035\n",
      "\n",
      "    accuracy                           0.89    578512\n",
      "   macro avg       0.45      0.50      0.47    578512\n",
      "weighted avg       0.80      0.89      0.84    578512\n",
      "\n"
     ]
    }
   ],
   "source": [
    "#Modelo con un nuevo dataset acrecido del nuevo atributo 'velocida' y sin el atributo 'DepDelay'\n",
    "loanTree3 = DecisionTreeClassifier(criterion=\"entropy\", max_depth = 4)\n",
    "loanTree3.fit(X_train3,y_train3)\n",
    "#prediction\n",
    "predTree3 = loanTree3.predict(X_test3)\n",
    "print (classification_report(y_test3, predTree3))"
   ]
  },
  {
   "cell_type": "markdown",
   "metadata": {},
   "source": [
    "#### Naive Bayes - sin 'DepDelay'"
   ]
  },
  {
   "cell_type": "code",
   "execution_count": 117,
   "metadata": {},
   "outputs": [
    {
     "name": "stdout",
     "output_type": "stream",
     "text": [
      "              precision    recall  f1-score   support\n",
      "\n",
      "           0       0.20      0.22      0.21     61477\n",
      "           1       0.91      0.90      0.90    517035\n",
      "\n",
      "    accuracy                           0.82    578512\n",
      "   macro avg       0.55      0.56      0.55    578512\n",
      "weighted avg       0.83      0.82      0.83    578512\n",
      "\n"
     ]
    }
   ],
   "source": [
    "nbclf3 = GaussianNB().fit(X_train3, y_train3)\n",
    "\n",
    "yhat_nb3 = nbclf3.predict(X_test3)\n",
    "\n",
    "print (classification_report(y_test3, yhat_nb3))"
   ]
  },
  {
   "cell_type": "markdown",
   "metadata": {},
   "source": [
    "#### Conclusion\n",
    "\n",
    "La analisis ha mostrado que durante la primavera y el otono de 2018 son los periodos donde hubieron menos retardos en el año . EL mes de junio seguido de el mes de deciembre fueron los meses con más vuelos con retrasos en la llegada. Esto és por que junio es un  mes de  verano donde las personas viajan más y por lo tanto hay más vuelos, y en deciembre es un mes de festivos donde tambien las personas viajan más.\n",
    "\n",
    "Los resultados também mostraron que hay mas retardos durante la semana que en el fin de semana.\n",
    "\n",
    "Hay una tendencia mayor en haver retrasos de los vuelos cuya distancia sean menores que 3000 miles y el promedio de la velocidad sea de 5.2 miles/min (312 millas/hora).\n",
    "\n",
    "* **Analisis considendo el atributo DepArray ( retraso  en la del vuelo):**\n",
    "\n",
    "El objetivo de la analisis es de prever los **vuelos con retraso ('ArrDelay_class' = 1)**. Los cuatro clasificadores tuvieron una alta precision (0.98 - Logistic Regression, 0.92 - KNN y 0.90 - Decision Tree, 0.93 - Naive Bayes). Esto significa que todos los vuelos previstos como retrasados tuvieron el acerto acima de 90% en los cuatro clasificadores.\n",
    "\n",
    "\n",
    "El recall de los vuelos retrasados para los cuatro clasificadores tambien tuvieron la proporcion  minima de 0.89 y maxima de 1. Esta es la proporción de vuelos con retrasos que fueron detectadas correctamente por los clasificadores. Entonces para clasificacion de los vuelos con retrasos, los cuatros clasificadores son buenos considerando el recall.\n",
    "\n",
    "Sin embargo, para clasificacion de los **vuelos sin retraso('ArrDelay_class' = 0)**, el mejor clasificador es el Logstic Regression con su acuracia de 0.99 de y recall de 0.79.\n",
    "\n",
    "Despues de aplical el *cross validation* en todos los modelos, ellos,  excepto el KNN , tubieron la acuracia igual en las duas validacions.\n",
    "Esto no significa que el modelo KNN se sobreajusta mal (overfitting) pero el  funciona peor que el modelo de Logistic Regression. \n",
    "\n",
    "Con la adicion de la variable **velocidad** al dataset, el modelo de Logist Regression tube su precision y recall de los vuelos non retrasados aumentados. O sea, la percentage de los vuelos sin retraso que fueron clasificados como sin retrasos  aumento de 0.79 para 0.8. \n",
    "\n",
    "De los cuatro modelos ( Logistic Regression, KNN, Decision Tree  Naive Bayes), **el clasificador Logistic Regrision fuel el que tube mejor evaluación para clasificar los vuelos retrasados en la llegada**. Los otros tres tuviron resultados similares pero con valores de pecision y recall un poco abajo de los de Logist Regression.\n",
    "\n",
    "* **Analisis sin el atributo DepArray:**\n",
    "\n",
    "Cuanto a los **vuelos con retraso** , los cuatro clasificadores tuvieron una  precision abajo de los clasificadore que consideraron el atributo 'DepArray', pero aun acima de xxx% (0.91 - Logistic Regression, 0.91 - KNN y 0.89 - Decision Tree, 091 - Naive Bayes). Esto significa que todos los vuelos previstos como retrasados tuvieron el acerto acima de 89% en los cuatro clasificadores.\n",
    "\n",
    "El recall de los vuelos retrasados para los cuatro clasificadores tambien tuvieron la proporcion  minima de 0.90 y maxima de 1. Esta es la proporción de vuelos con retrasos que fueron detectadas correctamente por los clasificadores. Entonces para clasificacion de los vuelos con retrasos, los cuatros clasificadores son buenos considerando el recall.\n",
    "\n",
    "\n",
    "Sin embargo, hubo una peora en las precisions de los vuelos sin retraso de todos los clasificadores, incluso para el clasificador Decision Tree donde la precision fue de 0.0. Lo mismo ocurrió con los recalls de los vuelos sin retraso: una peora significativa.\n",
    "\n",
    "Para los **vuelos con atraso ArDelay_class =1)**, no hubo cambio significativo entre la precision y los recalls para los dataset con y sin el atributo **DeArray)**. Pero para los vuelos sin retraso, la remocion del atributo DepArray contribuió para una peora en su clasificacion.\n",
    "\n",
    "\n",
    "**Sugestions**\n",
    "\n",
    "Otros parametros tambíen pueden ser modificsdos como la **inversa de la fuerza de regularización (C)**,  el tamaño de los dados del treino y test, o mismo el tamaño de la muestra para que el modelo funcione más rapido y para que no haga pierda de accuracia."
   ]
  },
  {
   "cell_type": "code",
   "execution_count": null,
   "metadata": {},
   "outputs": [],
   "source": []
  }
 ],
 "metadata": {
  "kernelspec": {
   "display_name": "Python 3",
   "language": "python",
   "name": "python3"
  },
  "language_info": {
   "codemirror_mode": {
    "name": "ipython",
    "version": 3
   },
   "file_extension": ".py",
   "mimetype": "text/x-python",
   "name": "python",
   "nbconvert_exporter": "python",
   "pygments_lexer": "ipython3",
   "version": "3.8.5"
  }
 },
 "nbformat": 4,
 "nbformat_minor": 4
}
