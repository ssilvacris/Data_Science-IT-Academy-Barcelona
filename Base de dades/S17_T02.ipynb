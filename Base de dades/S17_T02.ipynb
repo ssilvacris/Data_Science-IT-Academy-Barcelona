{
 "cells": [
  {
   "cell_type": "markdown",
   "metadata": {},
   "source": [
    "<h1 align=center><font size = 5>Data Science amb Python</font></h1>\n",
    "\n",
    "\n",
    "\n",
    "## Sprint 17 \n",
    "#### S17 T02: Base de dades MySQL\n",
    "\n",
    "\n",
    "#### Cristiane de Souza da Silva\n",
    "\n",
    "Juny 2021"
   ]
  },
  {
   "cell_type": "markdown",
   "metadata": {},
   "source": [
    "## Description\n",
    "\n",
    "**Create database with MySQL.**"
   ]
  },
  {
   "cell_type": "markdown",
   "metadata": {},
   "source": [
    "### Nivel 1\n",
    "\n",
    "#### - Exercises 1\n",
    "Create a simple relational database using MySQL (https://www.mysql.com/) and connect it to Python"
   ]
  },
  {
   "cell_type": "code",
   "execution_count": 1,
   "metadata": {},
   "outputs": [
    {
     "name": "stdout",
     "output_type": "stream",
     "text": [
      "Requirement already satisfied: mysql-connector-python in /Applications/anaconda3/lib/python3.8/site-packages (8.0.25)\n",
      "Requirement already satisfied: protobuf>=3.0.0 in /Applications/anaconda3/lib/python3.8/site-packages (from mysql-connector-python) (3.17.3)\n",
      "Requirement already satisfied: six>=1.9 in /Applications/anaconda3/lib/python3.8/site-packages (from protobuf>=3.0.0->mysql-connector-python) (1.15.0)\n"
     ]
    }
   ],
   "source": [
    "!pip install mysql-connector-python"
   ]
  },
  {
   "cell_type": "code",
   "execution_count": 2,
   "metadata": {},
   "outputs": [
    {
     "name": "stdout",
     "output_type": "stream",
     "text": [
      "<mysql.connector.connection.MySQLConnection object at 0x7f8d458a1340>\n"
     ]
    }
   ],
   "source": [
    "import mysql.connector\n",
    "\n",
    "\n",
    "mydb = mysql.connector.connect(host=\"localhost\",\n",
    "                               user=\"root\",\n",
    "                               password=\"password\",\n",
    "                              database=\"employees_database\")\n",
    "\n",
    "print(mydb)"
   ]
  },
  {
   "cell_type": "markdown",
   "metadata": {},
   "source": [
    "The database \"employees_database\" was created in mysql workbench and it was connected to the pyhton.\n",
    "\n",
    "Now I'll create a table 'employees' and input some values on it."
   ]
  },
  {
   "cell_type": "code",
   "execution_count": 3,
   "metadata": {},
   "outputs": [],
   "source": [
    "mycursor = mydb.cursor()\n",
    "\n",
    "mycursor.execute(\"CREATE TABLE employees(emp_id CHAR(9),f_name VARCHAR(15),l_name VARCHAR(15),b_date DATE ,salary DECIMAL(6,2),dep_id CHAR(9))\")"
   ]
  },
  {
   "cell_type": "code",
   "execution_count": 5,
   "metadata": {},
   "outputs": [],
   "source": [
    "sql = \"INSERT INTO employees (emp_id, f_name, l_name, b_date, salary, dep_id) VALUES (%s, %s, %s, %s, %s, %s)\"\n",
    "val = [('EMP645789', 'Maria', 'Silva', '1975-08-04', 1860.90, 'FIN000567'),\n",
    "          ('EMP235789', 'Ana', 'Castillo', '1984-07-09',  1960.70, 'TEC000987'),\n",
    "          ('EMP235112', 'Jose', 'Borit','1982-12-14', 1760.70, 'TEC000987'),\n",
    "          ('EMP895134', 'Idalina', 'Tamas','1989-11-25', 1760.70, 'ADM000524'),\n",
    "          ('EMP895135', 'Jaume', 'Martínez','1987-06-25',  1560.70, 'ADM000524'), \n",
    "          ('EMP895185', 'Cynthia', 'Measor','1990-01-09', 1560.70, 'TEC000987'),\n",
    "          ('EMP895131', 'Alonso', 'Mugg','1965-07-09', 1960.70, 'TEC000987'),\n",
    "          ('EMP895101', 'Judy', 'Ribey','1983-02-09',  1760.70, 'TEC000987')\n",
    "         ]\n",
    "\n",
    "mycursor.executemany(sql, val)\n",
    "\n",
    "mydb.commit()\n",
    "\n"
   ]
  },
  {
   "cell_type": "markdown",
   "metadata": {},
   "source": [
    "### Nivel 2\n",
    "\n",
    "#### - Exercises 2\n",
    "\n",
    "Show that you can upload some simple queries to a Pandas Dataframe."
   ]
  },
  {
   "cell_type": "code",
   "execution_count": 6,
   "metadata": {},
   "outputs": [],
   "source": [
    "# import the library pandas\n",
    "import pandas as pd"
   ]
  },
  {
   "cell_type": "code",
   "execution_count": 7,
   "metadata": {},
   "outputs": [
    {
     "data": {
      "text/html": [
       "<div>\n",
       "<style scoped>\n",
       "    .dataframe tbody tr th:only-of-type {\n",
       "        vertical-align: middle;\n",
       "    }\n",
       "\n",
       "    .dataframe tbody tr th {\n",
       "        vertical-align: top;\n",
       "    }\n",
       "\n",
       "    .dataframe thead th {\n",
       "        text-align: right;\n",
       "    }\n",
       "</style>\n",
       "<table border=\"1\" class=\"dataframe\">\n",
       "  <thead>\n",
       "    <tr style=\"text-align: right;\">\n",
       "      <th></th>\n",
       "      <th>emp_id</th>\n",
       "      <th>f_name</th>\n",
       "      <th>l_name</th>\n",
       "      <th>b_date</th>\n",
       "      <th>salary</th>\n",
       "      <th>dep_id</th>\n",
       "    </tr>\n",
       "  </thead>\n",
       "  <tbody>\n",
       "    <tr>\n",
       "      <th>0</th>\n",
       "      <td>EMP645789</td>\n",
       "      <td>Maria</td>\n",
       "      <td>Silva</td>\n",
       "      <td>1975-08-04</td>\n",
       "      <td>1860.9</td>\n",
       "      <td>FIN000567</td>\n",
       "    </tr>\n",
       "    <tr>\n",
       "      <th>1</th>\n",
       "      <td>EMP235789</td>\n",
       "      <td>Ana</td>\n",
       "      <td>Castillo</td>\n",
       "      <td>1984-07-09</td>\n",
       "      <td>1960.7</td>\n",
       "      <td>TEC000987</td>\n",
       "    </tr>\n",
       "    <tr>\n",
       "      <th>2</th>\n",
       "      <td>EMP235112</td>\n",
       "      <td>Jose</td>\n",
       "      <td>Borit</td>\n",
       "      <td>1982-12-14</td>\n",
       "      <td>1760.7</td>\n",
       "      <td>TEC000987</td>\n",
       "    </tr>\n",
       "    <tr>\n",
       "      <th>3</th>\n",
       "      <td>EMP895134</td>\n",
       "      <td>Idalina</td>\n",
       "      <td>Tamas</td>\n",
       "      <td>1989-11-25</td>\n",
       "      <td>1760.7</td>\n",
       "      <td>ADM000524</td>\n",
       "    </tr>\n",
       "    <tr>\n",
       "      <th>4</th>\n",
       "      <td>EMP895135</td>\n",
       "      <td>Jaume</td>\n",
       "      <td>Martínez</td>\n",
       "      <td>1987-06-25</td>\n",
       "      <td>1560.7</td>\n",
       "      <td>ADM000524</td>\n",
       "    </tr>\n",
       "    <tr>\n",
       "      <th>5</th>\n",
       "      <td>EMP895185</td>\n",
       "      <td>Cynthia</td>\n",
       "      <td>Measor</td>\n",
       "      <td>1990-01-09</td>\n",
       "      <td>1560.7</td>\n",
       "      <td>TEC000987</td>\n",
       "    </tr>\n",
       "    <tr>\n",
       "      <th>6</th>\n",
       "      <td>EMP895131</td>\n",
       "      <td>Alonso</td>\n",
       "      <td>Mugg</td>\n",
       "      <td>1965-07-09</td>\n",
       "      <td>1960.7</td>\n",
       "      <td>TEC000987</td>\n",
       "    </tr>\n",
       "    <tr>\n",
       "      <th>7</th>\n",
       "      <td>EMP895101</td>\n",
       "      <td>Judy</td>\n",
       "      <td>Ribey</td>\n",
       "      <td>1983-02-09</td>\n",
       "      <td>1760.7</td>\n",
       "      <td>TEC000987</td>\n",
       "    </tr>\n",
       "  </tbody>\n",
       "</table>\n",
       "</div>"
      ],
      "text/plain": [
       "      emp_id   f_name    l_name      b_date  salary     dep_id\n",
       "0  EMP645789    Maria     Silva  1975-08-04  1860.9  FIN000567\n",
       "1  EMP235789      Ana  Castillo  1984-07-09  1960.7  TEC000987\n",
       "2  EMP235112     Jose     Borit  1982-12-14  1760.7  TEC000987\n",
       "3  EMP895134  Idalina     Tamas  1989-11-25  1760.7  ADM000524\n",
       "4  EMP895135    Jaume  Martínez  1987-06-25  1560.7  ADM000524\n",
       "5  EMP895185  Cynthia    Measor  1990-01-09  1560.7  TEC000987\n",
       "6  EMP895131   Alonso      Mugg  1965-07-09  1960.7  TEC000987\n",
       "7  EMP895101     Judy     Ribey  1983-02-09  1760.7  TEC000987"
      ]
     },
     "execution_count": 7,
     "metadata": {},
     "output_type": "execute_result"
    }
   ],
   "source": [
    "# create a dataframe with the function read_sql from pandas\n",
    "'''\n",
    "Create a daframe with all values.\n",
    "'''\n",
    "\n",
    "df = pd.read_sql(\"\"\"\n",
    "SELECT *\n",
    "FROM employees\"\"\", \n",
    "con = mydb)\n",
    "\n",
    "df\n"
   ]
  },
  {
   "cell_type": "code",
   "execution_count": 8,
   "metadata": {},
   "outputs": [
    {
     "data": {
      "text/html": [
       "<div>\n",
       "<style scoped>\n",
       "    .dataframe tbody tr th:only-of-type {\n",
       "        vertical-align: middle;\n",
       "    }\n",
       "\n",
       "    .dataframe tbody tr th {\n",
       "        vertical-align: top;\n",
       "    }\n",
       "\n",
       "    .dataframe thead th {\n",
       "        text-align: right;\n",
       "    }\n",
       "</style>\n",
       "<table border=\"1\" class=\"dataframe\">\n",
       "  <thead>\n",
       "    <tr style=\"text-align: right;\">\n",
       "      <th></th>\n",
       "      <th>f_name</th>\n",
       "      <th>salary</th>\n",
       "    </tr>\n",
       "  </thead>\n",
       "  <tbody>\n",
       "    <tr>\n",
       "      <th>0</th>\n",
       "      <td>Alonso</td>\n",
       "      <td>1960.7</td>\n",
       "    </tr>\n",
       "    <tr>\n",
       "      <th>1</th>\n",
       "      <td>Ana</td>\n",
       "      <td>1960.7</td>\n",
       "    </tr>\n",
       "    <tr>\n",
       "      <th>2</th>\n",
       "      <td>Idalina</td>\n",
       "      <td>1760.7</td>\n",
       "    </tr>\n",
       "    <tr>\n",
       "      <th>3</th>\n",
       "      <td>Jose</td>\n",
       "      <td>1760.7</td>\n",
       "    </tr>\n",
       "    <tr>\n",
       "      <th>4</th>\n",
       "      <td>Judy</td>\n",
       "      <td>1760.7</td>\n",
       "    </tr>\n",
       "    <tr>\n",
       "      <th>5</th>\n",
       "      <td>Maria</td>\n",
       "      <td>1860.9</td>\n",
       "    </tr>\n",
       "  </tbody>\n",
       "</table>\n",
       "</div>"
      ],
      "text/plain": [
       "    f_name  salary\n",
       "0   Alonso  1960.7\n",
       "1      Ana  1960.7\n",
       "2  Idalina  1760.7\n",
       "3     Jose  1760.7\n",
       "4     Judy  1760.7\n",
       "5    Maria  1860.9"
      ]
     },
     "execution_count": 8,
     "metadata": {},
     "output_type": "execute_result"
    }
   ],
   "source": [
    "'''\n",
    "Create a daframe with salaries bigger than 1600\n",
    "in  ascending order by employees' name.\n",
    "'''\n",
    "\n",
    "df_salary = pd.read_sql(\"\"\"\n",
    "SELECT f_name, salary\n",
    "FROM employees\n",
    "WHERE salary > 1600\n",
    "ORDER BY f_name\"\"\", con = mydb)\n",
    "\n",
    "df_salary"
   ]
  },
  {
   "cell_type": "code",
   "execution_count": 9,
   "metadata": {},
   "outputs": [
    {
     "data": {
      "text/html": [
       "<div>\n",
       "<style scoped>\n",
       "    .dataframe tbody tr th:only-of-type {\n",
       "        vertical-align: middle;\n",
       "    }\n",
       "\n",
       "    .dataframe tbody tr th {\n",
       "        vertical-align: top;\n",
       "    }\n",
       "\n",
       "    .dataframe thead th {\n",
       "        text-align: right;\n",
       "    }\n",
       "</style>\n",
       "<table border=\"1\" class=\"dataframe\">\n",
       "  <thead>\n",
       "    <tr style=\"text-align: right;\">\n",
       "      <th></th>\n",
       "      <th>f_name</th>\n",
       "      <th>b_date</th>\n",
       "    </tr>\n",
       "  </thead>\n",
       "  <tbody>\n",
       "    <tr>\n",
       "      <th>0</th>\n",
       "      <td>Maria</td>\n",
       "      <td>1975-08-04</td>\n",
       "    </tr>\n",
       "    <tr>\n",
       "      <th>1</th>\n",
       "      <td>Alonso</td>\n",
       "      <td>1965-07-09</td>\n",
       "    </tr>\n",
       "  </tbody>\n",
       "</table>\n",
       "</div>"
      ],
      "text/plain": [
       "   f_name      b_date\n",
       "0   Maria  1975-08-04\n",
       "1  Alonso  1965-07-09"
      ]
     },
     "execution_count": 9,
     "metadata": {},
     "output_type": "execute_result"
    }
   ],
   "source": [
    "'''\n",
    "Create a daframe with people borned\n",
    "before 1980.\n",
    "'''\n",
    "\n",
    "df_date = pd.read_sql(\"\"\"\n",
    "SELECT f_name, b_date\n",
    "FROM employees\n",
    "WHERE b_date < '1980-01-01'\"\"\", \n",
    "                      con = mydb)\n",
    "\n",
    "df_date"
   ]
  },
  {
   "cell_type": "markdown",
   "metadata": {},
   "source": [
    "### Nivel 3\n",
    "\n",
    "#### - Exercise 3\n",
    "\n",
    "Generate a graph that summarizes the data.\n",
    "\n"
   ]
  },
  {
   "cell_type": "code",
   "execution_count": 10,
   "metadata": {},
   "outputs": [
    {
     "data": {
      "text/html": [
       "<div>\n",
       "<style scoped>\n",
       "    .dataframe tbody tr th:only-of-type {\n",
       "        vertical-align: middle;\n",
       "    }\n",
       "\n",
       "    .dataframe tbody tr th {\n",
       "        vertical-align: top;\n",
       "    }\n",
       "\n",
       "    .dataframe thead th {\n",
       "        text-align: right;\n",
       "    }\n",
       "</style>\n",
       "<table border=\"1\" class=\"dataframe\">\n",
       "  <thead>\n",
       "    <tr style=\"text-align: right;\">\n",
       "      <th></th>\n",
       "      <th>dep_id</th>\n",
       "      <th>salary</th>\n",
       "    </tr>\n",
       "  </thead>\n",
       "  <tbody>\n",
       "    <tr>\n",
       "      <th>0</th>\n",
       "      <td>ADM000524</td>\n",
       "      <td>1660.7</td>\n",
       "    </tr>\n",
       "    <tr>\n",
       "      <th>1</th>\n",
       "      <td>FIN000567</td>\n",
       "      <td>1860.9</td>\n",
       "    </tr>\n",
       "    <tr>\n",
       "      <th>2</th>\n",
       "      <td>TEC000987</td>\n",
       "      <td>1800.7</td>\n",
       "    </tr>\n",
       "  </tbody>\n",
       "</table>\n",
       "</div>"
      ],
      "text/plain": [
       "      dep_id  salary\n",
       "0  ADM000524  1660.7\n",
       "1  FIN000567  1860.9\n",
       "2  TEC000987  1800.7"
      ]
     },
     "execution_count": 10,
     "metadata": {},
     "output_type": "execute_result"
    }
   ],
   "source": [
    "# import library seaborn\n",
    "import matplotlib.pyplot as plt\n",
    "import seaborn as sns\n",
    "\n",
    "# evaluate the average salary by departament\n",
    "\n",
    "salary_avg = pd.DataFrame(df.groupby('dep_id')['salary'].mean()).reset_index()\n",
    "salary_avg\n"
   ]
  },
  {
   "cell_type": "code",
   "execution_count": 26,
   "metadata": {},
   "outputs": [
    {
     "data": {
      "image/png": "[encoded data removed]",
      "text/plain": [
       "<Figure size 576x360 with 1 Axes>"
      ]
     },
     "metadata": {},
     "output_type": "display_data"
    }
   ],
   "source": [
    "plt.figure(figsize=(8,5))\n",
    "\n",
    "sns.set_theme(style=\"whitegrid\")\n",
    "sns.barplot(x = 'dep_id', y = 'salary', data =salary_avg )\n",
    "plt.title('Average Salary per Department');\n"
   ]
  },
  {
   "cell_type": "markdown",
   "metadata": {},
   "source": [
    "We can see that the FIN000567 department ( finances) is the one which has the biggest average salary, followed by the TEC000987 ( technology) and ADM000524 ( administration)."
   ]
  },
  {
   "cell_type": "markdown",
   "metadata": {},
   "source": [
    "Let's see how is the correlation between salary and age."
   ]
  },
  {
   "cell_type": "code",
   "execution_count": 12,
   "metadata": {},
   "outputs": [
    {
     "name": "stdout",
     "output_type": "stream",
     "text": [
      "<class 'pandas.core.frame.DataFrame'>\n",
      "RangeIndex: 8 entries, 0 to 7\n",
      "Data columns (total 6 columns):\n",
      " #   Column  Non-Null Count  Dtype  \n",
      "---  ------  --------------  -----  \n",
      " 0   emp_id  8 non-null      object \n",
      " 1   f_name  8 non-null      object \n",
      " 2   l_name  8 non-null      object \n",
      " 3   b_date  8 non-null      object \n",
      " 4   salary  8 non-null      float64\n",
      " 5   dep_id  8 non-null      object \n",
      "dtypes: float64(1), object(5)\n",
      "memory usage: 512.0+ bytes\n"
     ]
    }
   ],
   "source": [
    "#copy the df dataframe\n",
    "df_new = df.copy()\n",
    "\n",
    "# see its information\n",
    "\n",
    "df_new.info()"
   ]
  },
  {
   "cell_type": "code",
   "execution_count": 13,
   "metadata": {},
   "outputs": [
    {
     "name": "stdout",
     "output_type": "stream",
     "text": [
      "<class 'pandas.core.frame.DataFrame'>\n",
      "RangeIndex: 8 entries, 0 to 7\n",
      "Data columns (total 6 columns):\n",
      " #   Column  Non-Null Count  Dtype         \n",
      "---  ------  --------------  -----         \n",
      " 0   emp_id  8 non-null      object        \n",
      " 1   f_name  8 non-null      object        \n",
      " 2   l_name  8 non-null      object        \n",
      " 3   b_date  8 non-null      datetime64[ns]\n",
      " 4   salary  8 non-null      float64       \n",
      " 5   dep_id  8 non-null      object        \n",
      "dtypes: datetime64[ns](1), float64(1), object(4)\n",
      "memory usage: 512.0+ bytes\n"
     ]
    }
   ],
   "source": [
    "#convert date to datetime\n",
    "\n",
    "df_new['b_date'] = pd.to_datetime(df['b_date'])\n",
    "df_new.info()"
   ]
  },
  {
   "cell_type": "code",
   "execution_count": 14,
   "metadata": {},
   "outputs": [
    {
     "data": {
      "text/html": [
       "<div>\n",
       "<style scoped>\n",
       "    .dataframe tbody tr th:only-of-type {\n",
       "        vertical-align: middle;\n",
       "    }\n",
       "\n",
       "    .dataframe tbody tr th {\n",
       "        vertical-align: top;\n",
       "    }\n",
       "\n",
       "    .dataframe thead th {\n",
       "        text-align: right;\n",
       "    }\n",
       "</style>\n",
       "<table border=\"1\" class=\"dataframe\">\n",
       "  <thead>\n",
       "    <tr style=\"text-align: right;\">\n",
       "      <th></th>\n",
       "      <th>emp_id</th>\n",
       "      <th>f_name</th>\n",
       "      <th>l_name</th>\n",
       "      <th>b_date</th>\n",
       "      <th>salary</th>\n",
       "      <th>dep_id</th>\n",
       "    </tr>\n",
       "  </thead>\n",
       "  <tbody>\n",
       "    <tr>\n",
       "      <th>0</th>\n",
       "      <td>EMP645789</td>\n",
       "      <td>Maria</td>\n",
       "      <td>Silva</td>\n",
       "      <td>1975-08-04</td>\n",
       "      <td>1860.9</td>\n",
       "      <td>FIN000567</td>\n",
       "    </tr>\n",
       "    <tr>\n",
       "      <th>1</th>\n",
       "      <td>EMP235789</td>\n",
       "      <td>Ana</td>\n",
       "      <td>Castillo</td>\n",
       "      <td>1984-07-09</td>\n",
       "      <td>1960.7</td>\n",
       "      <td>TEC000987</td>\n",
       "    </tr>\n",
       "    <tr>\n",
       "      <th>2</th>\n",
       "      <td>EMP235112</td>\n",
       "      <td>Jose</td>\n",
       "      <td>Borit</td>\n",
       "      <td>1982-12-14</td>\n",
       "      <td>1760.7</td>\n",
       "      <td>TEC000987</td>\n",
       "    </tr>\n",
       "    <tr>\n",
       "      <th>3</th>\n",
       "      <td>EMP895134</td>\n",
       "      <td>Idalina</td>\n",
       "      <td>Tamas</td>\n",
       "      <td>1989-11-25</td>\n",
       "      <td>1760.7</td>\n",
       "      <td>ADM000524</td>\n",
       "    </tr>\n",
       "    <tr>\n",
       "      <th>4</th>\n",
       "      <td>EMP895135</td>\n",
       "      <td>Jaume</td>\n",
       "      <td>Martínez</td>\n",
       "      <td>1987-06-25</td>\n",
       "      <td>1560.7</td>\n",
       "      <td>ADM000524</td>\n",
       "    </tr>\n",
       "    <tr>\n",
       "      <th>5</th>\n",
       "      <td>EMP895185</td>\n",
       "      <td>Cynthia</td>\n",
       "      <td>Measor</td>\n",
       "      <td>1990-01-09</td>\n",
       "      <td>1560.7</td>\n",
       "      <td>TEC000987</td>\n",
       "    </tr>\n",
       "    <tr>\n",
       "      <th>6</th>\n",
       "      <td>EMP895131</td>\n",
       "      <td>Alonso</td>\n",
       "      <td>Mugg</td>\n",
       "      <td>1965-07-09</td>\n",
       "      <td>1960.7</td>\n",
       "      <td>TEC000987</td>\n",
       "    </tr>\n",
       "    <tr>\n",
       "      <th>7</th>\n",
       "      <td>EMP895101</td>\n",
       "      <td>Judy</td>\n",
       "      <td>Ribey</td>\n",
       "      <td>1983-02-09</td>\n",
       "      <td>1760.7</td>\n",
       "      <td>TEC000987</td>\n",
       "    </tr>\n",
       "  </tbody>\n",
       "</table>\n",
       "</div>"
      ],
      "text/plain": [
       "      emp_id   f_name    l_name     b_date  salary     dep_id\n",
       "0  EMP645789    Maria     Silva 1975-08-04  1860.9  FIN000567\n",
       "1  EMP235789      Ana  Castillo 1984-07-09  1960.7  TEC000987\n",
       "2  EMP235112     Jose     Borit 1982-12-14  1760.7  TEC000987\n",
       "3  EMP895134  Idalina     Tamas 1989-11-25  1760.7  ADM000524\n",
       "4  EMP895135    Jaume  Martínez 1987-06-25  1560.7  ADM000524\n",
       "5  EMP895185  Cynthia    Measor 1990-01-09  1560.7  TEC000987\n",
       "6  EMP895131   Alonso      Mugg 1965-07-09  1960.7  TEC000987\n",
       "7  EMP895101     Judy     Ribey 1983-02-09  1760.7  TEC000987"
      ]
     },
     "execution_count": 14,
     "metadata": {},
     "output_type": "execute_result"
    }
   ],
   "source": [
    "df_new"
   ]
  },
  {
   "cell_type": "code",
   "execution_count": 16,
   "metadata": {},
   "outputs": [],
   "source": [
    "#Create a age column\n",
    "import datetime\n",
    "\n",
    "def from_dob_to_age(born):\n",
    "    today = datetime.date.today()\n",
    "    return today.year - born.year - ((today.month, today.day) < (born.month, born.day))\n",
    "\n",
    "\n",
    "df_new['age'] = df_new['b_date'].apply(lambda x: from_dob_to_age(x))\n"
   ]
  },
  {
   "cell_type": "code",
   "execution_count": 17,
   "metadata": {},
   "outputs": [
    {
     "data": {
      "text/html": [
       "<div>\n",
       "<style scoped>\n",
       "    .dataframe tbody tr th:only-of-type {\n",
       "        vertical-align: middle;\n",
       "    }\n",
       "\n",
       "    .dataframe tbody tr th {\n",
       "        vertical-align: top;\n",
       "    }\n",
       "\n",
       "    .dataframe thead th {\n",
       "        text-align: right;\n",
       "    }\n",
       "</style>\n",
       "<table border=\"1\" class=\"dataframe\">\n",
       "  <thead>\n",
       "    <tr style=\"text-align: right;\">\n",
       "      <th></th>\n",
       "      <th>emp_id</th>\n",
       "      <th>f_name</th>\n",
       "      <th>l_name</th>\n",
       "      <th>b_date</th>\n",
       "      <th>salary</th>\n",
       "      <th>dep_id</th>\n",
       "      <th>age</th>\n",
       "    </tr>\n",
       "  </thead>\n",
       "  <tbody>\n",
       "    <tr>\n",
       "      <th>0</th>\n",
       "      <td>EMP645789</td>\n",
       "      <td>Maria</td>\n",
       "      <td>Silva</td>\n",
       "      <td>1975-08-04</td>\n",
       "      <td>1860.9</td>\n",
       "      <td>FIN000567</td>\n",
       "      <td>45</td>\n",
       "    </tr>\n",
       "    <tr>\n",
       "      <th>1</th>\n",
       "      <td>EMP235789</td>\n",
       "      <td>Ana</td>\n",
       "      <td>Castillo</td>\n",
       "      <td>1984-07-09</td>\n",
       "      <td>1960.7</td>\n",
       "      <td>TEC000987</td>\n",
       "      <td>36</td>\n",
       "    </tr>\n",
       "    <tr>\n",
       "      <th>2</th>\n",
       "      <td>EMP235112</td>\n",
       "      <td>Jose</td>\n",
       "      <td>Borit</td>\n",
       "      <td>1982-12-14</td>\n",
       "      <td>1760.7</td>\n",
       "      <td>TEC000987</td>\n",
       "      <td>38</td>\n",
       "    </tr>\n",
       "    <tr>\n",
       "      <th>3</th>\n",
       "      <td>EMP895134</td>\n",
       "      <td>Idalina</td>\n",
       "      <td>Tamas</td>\n",
       "      <td>1989-11-25</td>\n",
       "      <td>1760.7</td>\n",
       "      <td>ADM000524</td>\n",
       "      <td>31</td>\n",
       "    </tr>\n",
       "    <tr>\n",
       "      <th>4</th>\n",
       "      <td>EMP895135</td>\n",
       "      <td>Jaume</td>\n",
       "      <td>Martínez</td>\n",
       "      <td>1987-06-25</td>\n",
       "      <td>1560.7</td>\n",
       "      <td>ADM000524</td>\n",
       "      <td>34</td>\n",
       "    </tr>\n",
       "    <tr>\n",
       "      <th>5</th>\n",
       "      <td>EMP895185</td>\n",
       "      <td>Cynthia</td>\n",
       "      <td>Measor</td>\n",
       "      <td>1990-01-09</td>\n",
       "      <td>1560.7</td>\n",
       "      <td>TEC000987</td>\n",
       "      <td>31</td>\n",
       "    </tr>\n",
       "    <tr>\n",
       "      <th>6</th>\n",
       "      <td>EMP895131</td>\n",
       "      <td>Alonso</td>\n",
       "      <td>Mugg</td>\n",
       "      <td>1965-07-09</td>\n",
       "      <td>1960.7</td>\n",
       "      <td>TEC000987</td>\n",
       "      <td>55</td>\n",
       "    </tr>\n",
       "    <tr>\n",
       "      <th>7</th>\n",
       "      <td>EMP895101</td>\n",
       "      <td>Judy</td>\n",
       "      <td>Ribey</td>\n",
       "      <td>1983-02-09</td>\n",
       "      <td>1760.7</td>\n",
       "      <td>TEC000987</td>\n",
       "      <td>38</td>\n",
       "    </tr>\n",
       "  </tbody>\n",
       "</table>\n",
       "</div>"
      ],
      "text/plain": [
       "      emp_id   f_name    l_name     b_date  salary     dep_id  age\n",
       "0  EMP645789    Maria     Silva 1975-08-04  1860.9  FIN000567   45\n",
       "1  EMP235789      Ana  Castillo 1984-07-09  1960.7  TEC000987   36\n",
       "2  EMP235112     Jose     Borit 1982-12-14  1760.7  TEC000987   38\n",
       "3  EMP895134  Idalina     Tamas 1989-11-25  1760.7  ADM000524   31\n",
       "4  EMP895135    Jaume  Martínez 1987-06-25  1560.7  ADM000524   34\n",
       "5  EMP895185  Cynthia    Measor 1990-01-09  1560.7  TEC000987   31\n",
       "6  EMP895131   Alonso      Mugg 1965-07-09  1960.7  TEC000987   55\n",
       "7  EMP895101     Judy     Ribey 1983-02-09  1760.7  TEC000987   38"
      ]
     },
     "execution_count": 17,
     "metadata": {},
     "output_type": "execute_result"
    }
   ],
   "source": [
    "df_new"
   ]
  },
  {
   "cell_type": "code",
   "execution_count": 25,
   "metadata": {},
   "outputs": [
    {
     "data": {
      "image/png": "[encoded data removed]",
      "text/plain": [
       "<Figure size 576x360 with 1 Axes>"
      ]
     },
     "metadata": {},
     "output_type": "display_data"
    }
   ],
   "source": [
    "plt.figure(figsize=(8,5))\n",
    "sns.regplot(x=\"age\", y=\"salary\", data=df_new);"
   ]
  },
  {
   "cell_type": "code",
   "execution_count": 19,
   "metadata": {},
   "outputs": [
    {
     "data": {
      "text/html": [
       "<div>\n",
       "<style scoped>\n",
       "    .dataframe tbody tr th:only-of-type {\n",
       "        vertical-align: middle;\n",
       "    }\n",
       "\n",
       "    .dataframe tbody tr th {\n",
       "        vertical-align: top;\n",
       "    }\n",
       "\n",
       "    .dataframe thead th {\n",
       "        text-align: right;\n",
       "    }\n",
       "</style>\n",
       "<table border=\"1\" class=\"dataframe\">\n",
       "  <thead>\n",
       "    <tr style=\"text-align: right;\">\n",
       "      <th></th>\n",
       "      <th>salary</th>\n",
       "      <th>age</th>\n",
       "    </tr>\n",
       "  </thead>\n",
       "  <tbody>\n",
       "    <tr>\n",
       "      <th>salary</th>\n",
       "      <td>1.000000</td>\n",
       "      <td>0.668432</td>\n",
       "    </tr>\n",
       "    <tr>\n",
       "      <th>age</th>\n",
       "      <td>0.668432</td>\n",
       "      <td>1.000000</td>\n",
       "    </tr>\n",
       "  </tbody>\n",
       "</table>\n",
       "</div>"
      ],
      "text/plain": [
       "          salary       age\n",
       "salary  1.000000  0.668432\n",
       "age     0.668432  1.000000"
      ]
     },
     "execution_count": 19,
     "metadata": {},
     "output_type": "execute_result"
    }
   ],
   "source": [
    "df_new.corr()"
   ]
  },
  {
   "cell_type": "markdown",
   "metadata": {},
   "source": [
    "The graph shows that there is a positive correlation between age and salary, that is, salary grows with age. However the correlation is not very high as shown by the correlation coefficient, 0.67. This means that, in this case, the biggest salary does not always belong to the eldest."
   ]
  },
  {
   "cell_type": "code",
   "execution_count": 21,
   "metadata": {},
   "outputs": [
    {
     "data": {
      "text/html": [
       "<div>\n",
       "<style scoped>\n",
       "    .dataframe tbody tr th:only-of-type {\n",
       "        vertical-align: middle;\n",
       "    }\n",
       "\n",
       "    .dataframe tbody tr th {\n",
       "        vertical-align: top;\n",
       "    }\n",
       "\n",
       "    .dataframe thead th {\n",
       "        text-align: right;\n",
       "    }\n",
       "</style>\n",
       "<table border=\"1\" class=\"dataframe\">\n",
       "  <thead>\n",
       "    <tr style=\"text-align: right;\">\n",
       "      <th></th>\n",
       "      <th>dep_id</th>\n",
       "      <th>age</th>\n",
       "    </tr>\n",
       "  </thead>\n",
       "  <tbody>\n",
       "    <tr>\n",
       "      <th>0</th>\n",
       "      <td>ADM000524</td>\n",
       "      <td>32.5</td>\n",
       "    </tr>\n",
       "    <tr>\n",
       "      <th>1</th>\n",
       "      <td>FIN000567</td>\n",
       "      <td>45.0</td>\n",
       "    </tr>\n",
       "    <tr>\n",
       "      <th>2</th>\n",
       "      <td>TEC000987</td>\n",
       "      <td>39.6</td>\n",
       "    </tr>\n",
       "  </tbody>\n",
       "</table>\n",
       "</div>"
      ],
      "text/plain": [
       "      dep_id   age\n",
       "0  ADM000524  32.5\n",
       "1  FIN000567  45.0\n",
       "2  TEC000987  39.6"
      ]
     },
     "execution_count": 21,
     "metadata": {},
     "output_type": "execute_result"
    }
   ],
   "source": [
    "# evaluate the average age by departament\n",
    "\n",
    "age_avg = pd.DataFrame(df_new.groupby('dep_id')['age'].mean()).reset_index()\n",
    "age_avg"
   ]
  },
  {
   "cell_type": "code",
   "execution_count": 27,
   "metadata": {},
   "outputs": [
    {
     "data": {
      "image/png": "[encoded data removed]",
      "text/plain": [
       "<Figure size 576x360 with 1 Axes>"
      ]
     },
     "metadata": {},
     "output_type": "display_data"
    }
   ],
   "source": [
    "plt.figure(figsize=(8,5))\n",
    "\n",
    "sns.set_theme(style=\"whitegrid\")\n",
    "sns.barplot(x = 'dep_id', y = 'age', data =age_avg )\n",
    "plt.title('Average Age per Department');"
   ]
  },
  {
   "cell_type": "markdown",
   "metadata": {},
   "source": [
    "The graph above shows that the Finance department has the biggest average age among the three departemnts , 45.\n",
    "\n",
    "however, more people would be needed in this department as there is only one."
   ]
  },
  {
   "cell_type": "code",
   "execution_count": null,
   "metadata": {},
   "outputs": [],
   "source": []
  }
 ],
 "metadata": {
  "kernelspec": {
   "display_name": "Python 3",
   "language": "python",
   "name": "python3"
  },
  "language_info": {
   "codemirror_mode": {
    "name": "ipython",
    "version": 3
   },
   "file_extension": ".py",
   "mimetype": "text/x-python",
   "name": "python",
   "nbconvert_exporter": "python",
   "pygments_lexer": "ipython3",
   "version": "3.8.5"
  }
 },
 "nbformat": 4,
 "nbformat_minor": 4
}
