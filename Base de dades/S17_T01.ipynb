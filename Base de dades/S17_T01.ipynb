{
 "cells": [
  {
   "cell_type": "markdown",
   "metadata": {},
   "source": [
    "<h1 align=center><font size = 5>Data Science amb Python</font></h1>\n",
    "\n",
    "\n",
    "\n",
    "## Sprint 17 \n",
    "#### S17 T01: Bases de dades relacionals\n",
    "\n",
    "#### Cristiane de Souza da Silva\n",
    "\n",
    "Juny 2021"
   ]
  },
  {
   "cell_type": "markdown",
   "metadata": {},
   "source": [
    "## Description\n",
    "\n",
    "**Learn to create a relational model and entity-relationship diagram.**"
   ]
  },
  {
   "cell_type": "markdown",
   "metadata": {},
   "source": [
    "### Nivel 1\n",
    "\n",
    "#### - Exercises 1\n",
    "Create a sample relational database using a text or handwritten document. Design it to contain the following tables, and establish the relationships you deem necessary between them:\n",
    "\n",
    "- Purchasing table (transactions)\n",
    "\n",
    "- Table of establishments\n",
    "\n",
    "- Table of workers\n",
    "\n",
    "- Table of customers\n",
    "\n",
    "- Table of products\n",
    "\n",
    "- Product type table\n",
    "\n",
    "Define the properties of the relationships (1: 1, 1: n, n: n), and create some of the variables that might contain, for example:\n",
    "\n",
    "\n",
    "\n",
    "Table of establishments\n",
    "\n",
    "- Establishment ID (single key)\n",
    "\n",
    "-\tFirst name\n",
    "\n",
    "- Location\n",
    "\n",
    "- Surface"
   ]
  },
  {
   "cell_type": "markdown",
   "metadata": {},
   "source": [
    "### Nivel 2\n",
    "\n",
    "#### - Exercises 2\n",
    "\n",
    "Use an entity-relationship diagram creation program like http://dia-installer.de to create the diagram."
   ]
  },
  {
   "cell_type": "markdown",
   "metadata": {},
   "source": [
    "**Hereunder you can see the database with the 6 tables requested and their respective relationships**."
   ]
  },
  {
   "cell_type": "markdown",
   "metadata": {},
   "source": [
    "<img src=\"img_relation.png\">"
   ]
  },
  {
   "cell_type": "markdown",
   "metadata": {},
   "source": [
    "### Nivel 3\n",
    "\n",
    "#### - Exercise 3\n",
    "\n",
    "Use the MySQL Workbench to create a relational model.\n",
    "\n"
   ]
  },
  {
   "cell_type": "markdown",
   "metadata": {},
   "source": [
    "Follow below the relational model created in MySql Workbench"
   ]
  },
  {
   "cell_type": "markdown",
   "metadata": {},
   "source": [
    "<img src=\"database_sprint_17.png\">"
   ]
  },
  {
   "cell_type": "code",
   "execution_count": null,
   "metadata": {},
   "outputs": [],
   "source": []
  }
 ],
 "metadata": {
  "kernelspec": {
   "display_name": "Python 3",
   "language": "python",
   "name": "python3"
  },
  "language_info": {
   "codemirror_mode": {
    "name": "ipython",
    "version": 3
   },
   "file_extension": ".py",
   "mimetype": "text/x-python",
   "name": "python",
   "nbconvert_exporter": "python",
   "pygments_lexer": "ipython3",
   "version": "3.8.5"
  }
 },
 "nbformat": 4,
 "nbformat_minor": 4
}
