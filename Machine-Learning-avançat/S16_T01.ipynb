{
 "cells": [
  {
   "cell_type": "markdown",
   "metadata": {},
   "source": [
    "<h1 align=center><font size = 5>Data Science amb Python</font></h1>\n",
    "\n",
    "\n",
    "\n",
    "## Sprint 16 \n",
    "#### S16 T01: Pipelines, grid search i text mining\n",
    "\n",
    "#### Cristiane de Souza da Silva\n",
    "\n",
    "Juny 2021"
   ]
  },
  {
   "cell_type": "markdown",
   "metadata": {},
   "source": [
    "**Descripción\n",
    "Comenzamos a familiarizarnos con Pipelines, grid search y text mining !!! Empezamos con unos cuantos ejercicios básicos**"
   ]
  },
  {
   "cell_type": "markdown",
   "metadata": {},
   "source": [
    "## Nivel 1"
   ]
  },
  {
   "cell_type": "markdown",
   "metadata": {},
   "source": [
    "### - Ejercicio 1\n",
    "**Coge el conjunto de datos que quieras y realiza un pipeline y un gridsearch aplicando el algoritmo de Random Forest.**"
   ]
  },
  {
   "cell_type": "markdown",
   "metadata": {},
   "source": [
    "El dataset escojido fue obtido en el sito Kaggle ([dataset](https://www.kaggle.com/blastchar/telco-customer-churn)).\n",
    "\n",
    "\n",
    "El conjunto de datos incluye información sobre:\n",
    "\n",
    "* Clientes que se fueron en el último mes: la columna se llama **Churn**\n",
    "\n",
    "* Servicios a los que se ha suscrito cada cliente: teléfono, varias líneas, Internet, seguridad en línea, respaldo en línea, protección de dispositivos, soporte técnico y transmisión de TV y películas.\n",
    "\n",
    "* Información de la cuenta del cliente: cuánto tiempo ha sido cliente, contrato, método de pago, facturación electrónica, cargos mensuales y cargos totales.\n",
    "\n",
    "* Información demográfica sobre los clientes: sexo (gender), rango de edad (age range) y si tienen socios (Partners) y dependientes(Dependents)"
   ]
  },
  {
   "cell_type": "code",
   "execution_count": 1,
   "metadata": {},
   "outputs": [],
   "source": [
    "# Importar las librerias\n",
    "\n",
    "import numpy as np\n",
    "import pandas as pd\n",
    "import matplotlib.pylab as plt"
   ]
  },
  {
   "cell_type": "code",
   "execution_count": 2,
   "metadata": {},
   "outputs": [
    {
     "data": {
      "text/html": [
       "<div>\n",
       "<style scoped>\n",
       "    .dataframe tbody tr th:only-of-type {\n",
       "        vertical-align: middle;\n",
       "    }\n",
       "\n",
       "    .dataframe tbody tr th {\n",
       "        vertical-align: top;\n",
       "    }\n",
       "\n",
       "    .dataframe thead th {\n",
       "        text-align: right;\n",
       "    }\n",
       "</style>\n",
       "<table border=\"1\" class=\"dataframe\">\n",
       "  <thead>\n",
       "    <tr style=\"text-align: right;\">\n",
       "      <th></th>\n",
       "      <th>customerID</th>\n",
       "      <th>gender</th>\n",
       "      <th>SeniorCitizen</th>\n",
       "      <th>Partner</th>\n",
       "      <th>Dependents</th>\n",
       "      <th>tenure</th>\n",
       "      <th>PhoneService</th>\n",
       "      <th>MultipleLines</th>\n",
       "      <th>InternetService</th>\n",
       "      <th>OnlineSecurity</th>\n",
       "      <th>...</th>\n",
       "      <th>DeviceProtection</th>\n",
       "      <th>TechSupport</th>\n",
       "      <th>StreamingTV</th>\n",
       "      <th>StreamingMovies</th>\n",
       "      <th>Contract</th>\n",
       "      <th>PaperlessBilling</th>\n",
       "      <th>PaymentMethod</th>\n",
       "      <th>MonthlyCharges</th>\n",
       "      <th>TotalCharges</th>\n",
       "      <th>Churn</th>\n",
       "    </tr>\n",
       "  </thead>\n",
       "  <tbody>\n",
       "    <tr>\n",
       "      <th>0</th>\n",
       "      <td>7590-VHVEG</td>\n",
       "      <td>Female</td>\n",
       "      <td>0</td>\n",
       "      <td>Yes</td>\n",
       "      <td>No</td>\n",
       "      <td>1</td>\n",
       "      <td>No</td>\n",
       "      <td>No phone service</td>\n",
       "      <td>DSL</td>\n",
       "      <td>No</td>\n",
       "      <td>...</td>\n",
       "      <td>No</td>\n",
       "      <td>No</td>\n",
       "      <td>No</td>\n",
       "      <td>No</td>\n",
       "      <td>Month-to-month</td>\n",
       "      <td>Yes</td>\n",
       "      <td>Electronic check</td>\n",
       "      <td>29.85</td>\n",
       "      <td>29.85</td>\n",
       "      <td>No</td>\n",
       "    </tr>\n",
       "    <tr>\n",
       "      <th>1</th>\n",
       "      <td>5575-GNVDE</td>\n",
       "      <td>Male</td>\n",
       "      <td>0</td>\n",
       "      <td>No</td>\n",
       "      <td>No</td>\n",
       "      <td>34</td>\n",
       "      <td>Yes</td>\n",
       "      <td>No</td>\n",
       "      <td>DSL</td>\n",
       "      <td>Yes</td>\n",
       "      <td>...</td>\n",
       "      <td>Yes</td>\n",
       "      <td>No</td>\n",
       "      <td>No</td>\n",
       "      <td>No</td>\n",
       "      <td>One year</td>\n",
       "      <td>No</td>\n",
       "      <td>Mailed check</td>\n",
       "      <td>56.95</td>\n",
       "      <td>1889.5</td>\n",
       "      <td>No</td>\n",
       "    </tr>\n",
       "    <tr>\n",
       "      <th>2</th>\n",
       "      <td>3668-QPYBK</td>\n",
       "      <td>Male</td>\n",
       "      <td>0</td>\n",
       "      <td>No</td>\n",
       "      <td>No</td>\n",
       "      <td>2</td>\n",
       "      <td>Yes</td>\n",
       "      <td>No</td>\n",
       "      <td>DSL</td>\n",
       "      <td>Yes</td>\n",
       "      <td>...</td>\n",
       "      <td>No</td>\n",
       "      <td>No</td>\n",
       "      <td>No</td>\n",
       "      <td>No</td>\n",
       "      <td>Month-to-month</td>\n",
       "      <td>Yes</td>\n",
       "      <td>Mailed check</td>\n",
       "      <td>53.85</td>\n",
       "      <td>108.15</td>\n",
       "      <td>Yes</td>\n",
       "    </tr>\n",
       "    <tr>\n",
       "      <th>3</th>\n",
       "      <td>7795-CFOCW</td>\n",
       "      <td>Male</td>\n",
       "      <td>0</td>\n",
       "      <td>No</td>\n",
       "      <td>No</td>\n",
       "      <td>45</td>\n",
       "      <td>No</td>\n",
       "      <td>No phone service</td>\n",
       "      <td>DSL</td>\n",
       "      <td>Yes</td>\n",
       "      <td>...</td>\n",
       "      <td>Yes</td>\n",
       "      <td>Yes</td>\n",
       "      <td>No</td>\n",
       "      <td>No</td>\n",
       "      <td>One year</td>\n",
       "      <td>No</td>\n",
       "      <td>Bank transfer (automatic)</td>\n",
       "      <td>42.30</td>\n",
       "      <td>1840.75</td>\n",
       "      <td>No</td>\n",
       "    </tr>\n",
       "    <tr>\n",
       "      <th>4</th>\n",
       "      <td>9237-HQITU</td>\n",
       "      <td>Female</td>\n",
       "      <td>0</td>\n",
       "      <td>No</td>\n",
       "      <td>No</td>\n",
       "      <td>2</td>\n",
       "      <td>Yes</td>\n",
       "      <td>No</td>\n",
       "      <td>Fiber optic</td>\n",
       "      <td>No</td>\n",
       "      <td>...</td>\n",
       "      <td>No</td>\n",
       "      <td>No</td>\n",
       "      <td>No</td>\n",
       "      <td>No</td>\n",
       "      <td>Month-to-month</td>\n",
       "      <td>Yes</td>\n",
       "      <td>Electronic check</td>\n",
       "      <td>70.70</td>\n",
       "      <td>151.65</td>\n",
       "      <td>Yes</td>\n",
       "    </tr>\n",
       "  </tbody>\n",
       "</table>\n",
       "<p>5 rows × 21 columns</p>\n",
       "</div>"
      ],
      "text/plain": [
       "   customerID  gender  SeniorCitizen Partner Dependents  tenure PhoneService  \\\n",
       "0  7590-VHVEG  Female              0     Yes         No       1           No   \n",
       "1  5575-GNVDE    Male              0      No         No      34          Yes   \n",
       "2  3668-QPYBK    Male              0      No         No       2          Yes   \n",
       "3  7795-CFOCW    Male              0      No         No      45           No   \n",
       "4  9237-HQITU  Female              0      No         No       2          Yes   \n",
       "\n",
       "      MultipleLines InternetService OnlineSecurity  ... DeviceProtection  \\\n",
       "0  No phone service             DSL             No  ...               No   \n",
       "1                No             DSL            Yes  ...              Yes   \n",
       "2                No             DSL            Yes  ...               No   \n",
       "3  No phone service             DSL            Yes  ...              Yes   \n",
       "4                No     Fiber optic             No  ...               No   \n",
       "\n",
       "  TechSupport StreamingTV StreamingMovies        Contract PaperlessBilling  \\\n",
       "0          No          No              No  Month-to-month              Yes   \n",
       "1          No          No              No        One year               No   \n",
       "2          No          No              No  Month-to-month              Yes   \n",
       "3         Yes          No              No        One year               No   \n",
       "4          No          No              No  Month-to-month              Yes   \n",
       "\n",
       "               PaymentMethod MonthlyCharges  TotalCharges Churn  \n",
       "0           Electronic check          29.85         29.85    No  \n",
       "1               Mailed check          56.95        1889.5    No  \n",
       "2               Mailed check          53.85        108.15   Yes  \n",
       "3  Bank transfer (automatic)          42.30       1840.75    No  \n",
       "4           Electronic check          70.70        151.65   Yes  \n",
       "\n",
       "[5 rows x 21 columns]"
      ]
     },
     "execution_count": 2,
     "metadata": {},
     "output_type": "execute_result"
    }
   ],
   "source": [
    "# Importar el dataset\n",
    "df = pd.read_csv('WA_Fn-UseC_-Telco-Customer-Churn.csv')\n",
    "df.head()"
   ]
  },
  {
   "cell_type": "code",
   "execution_count": 3,
   "metadata": {},
   "outputs": [
    {
     "name": "stdout",
     "output_type": "stream",
     "text": [
      "<class 'pandas.core.frame.DataFrame'>\n",
      "RangeIndex: 7043 entries, 0 to 7042\n",
      "Data columns (total 21 columns):\n",
      " #   Column            Non-Null Count  Dtype  \n",
      "---  ------            --------------  -----  \n",
      " 0   customerID        7043 non-null   object \n",
      " 1   gender            7043 non-null   object \n",
      " 2   SeniorCitizen     7043 non-null   int64  \n",
      " 3   Partner           7043 non-null   object \n",
      " 4   Dependents        7043 non-null   object \n",
      " 5   tenure            7043 non-null   int64  \n",
      " 6   PhoneService      7043 non-null   object \n",
      " 7   MultipleLines     7043 non-null   object \n",
      " 8   InternetService   7043 non-null   object \n",
      " 9   OnlineSecurity    7043 non-null   object \n",
      " 10  OnlineBackup      7043 non-null   object \n",
      " 11  DeviceProtection  7043 non-null   object \n",
      " 12  TechSupport       7043 non-null   object \n",
      " 13  StreamingTV       7043 non-null   object \n",
      " 14  StreamingMovies   7043 non-null   object \n",
      " 15  Contract          7043 non-null   object \n",
      " 16  PaperlessBilling  7043 non-null   object \n",
      " 17  PaymentMethod     7043 non-null   object \n",
      " 18  MonthlyCharges    7043 non-null   float64\n",
      " 19  TotalCharges      7043 non-null   object \n",
      " 20  Churn             7043 non-null   object \n",
      "dtypes: float64(1), int64(2), object(18)\n",
      "memory usage: 1.1+ MB\n"
     ]
    }
   ],
   "source": [
    "# Informaciones sobre los datos\n",
    "df.info()"
   ]
  },
  {
   "cell_type": "markdown",
   "metadata": {},
   "source": [
    "Hay 7043 entradas, 21 colunas y nungun valor faltante."
   ]
  },
  {
   "cell_type": "markdown",
   "metadata": {},
   "source": [
    "Desafortunadamente, Random Forest de Sklearn no manejan variables categóricas.\n",
    "El siguiente código convierte *strings* en valores booleanos . "
   ]
  },
  {
   "cell_type": "code",
   "execution_count": 4,
   "metadata": {},
   "outputs": [
    {
     "data": {
      "text/plain": [
       "(7043, 10)"
      ]
     },
     "execution_count": 4,
     "metadata": {},
     "output_type": "execute_result"
    }
   ],
   "source": [
    "# Primero, vamos eliminar algunas colunas qui non serian necesarias\n",
    "df_transform = df.copy()\n",
    "\n",
    "df_transform = df_transform.drop(['customerID', 'PhoneService',\n",
    "                                  'MultipleLines', 'OnlineSecurity','DeviceProtection',\n",
    "                                  'TechSupport','StreamingTV','StreamingMovies',\n",
    "                                  'PaperlessBilling','MonthlyCharges', 'TotalCharges'],\n",
    "                                  axis=1)\n",
    "df_transform.shape"
   ]
  },
  {
   "cell_type": "code",
   "execution_count": 5,
   "metadata": {},
   "outputs": [],
   "source": [
    "#Remover la coluna \"Churn\"\n",
    "\n",
    "df_transform_no_churn = df_transform.drop('Churn', axis=1)"
   ]
  },
  {
   "cell_type": "code",
   "execution_count": 6,
   "metadata": {},
   "outputs": [],
   "source": [
    "# Seleccionar los object (string) \n",
    "mask = df_transform_no_churn.dtypes == np.object\n",
    "categorical_cols = df_transform_no_churn.columns[mask]"
   ]
  },
  {
   "cell_type": "code",
   "execution_count": 7,
   "metadata": {},
   "outputs": [
    {
     "data": {
      "text/plain": [
       "12"
      ]
     },
     "execution_count": 7,
     "metadata": {},
     "output_type": "execute_result"
    }
   ],
   "source": [
    "# Determine how many extra columns would be created\n",
    "num_ohc_cols = (df_transform_no_churn[categorical_cols]\n",
    "                .apply(lambda x: x.nunique())\n",
    "                .sort_values(ascending=False))\n",
    "\n",
    "\n",
    "# No need to encode if there is only one value\n",
    "small_num_ohc_cols = num_ohc_cols.loc[num_ohc_cols>1]\n",
    "\n",
    "# Number of one-hot columns is one less than the number of categories\n",
    "small_num_ohc_cols -= 1\n",
    "\n",
    "# This is quite a few extra columns!\n",
    "small_num_ohc_cols.sum()"
   ]
  },
  {
   "cell_type": "code",
   "execution_count": 8,
   "metadata": {},
   "outputs": [],
   "source": [
    "from sklearn.preprocessing import OneHotEncoder, LabelEncoder\n",
    "\n",
    "# Copy of the data\n",
    "df_data_ohc = df_transform_no_churn.copy()\n",
    "\n",
    "# The encoders\n",
    "le = LabelEncoder()\n",
    "ohc = OneHotEncoder()\n",
    "\n",
    "for col in num_ohc_cols.index:\n",
    "    \n",
    "    # Integer encode the string categories\n",
    "    dat = le.fit_transform(df_data_ohc[col]).astype(np.int)\n",
    "    \n",
    "    # Remove the original column from the dataframe\n",
    "    df_data_ohc = df_data_ohc.drop(col, axis=1)\n",
    "\n",
    "    # One hot encode the data--this returns a sparse array\n",
    "    new_dat = ohc.fit_transform(dat.reshape(-1,1))\n",
    "\n",
    "    # Create unique column names\n",
    "    n_cols = new_dat.shape[1]\n",
    "    col_names = ['_'.join([col, str(x)]) for x in range(n_cols)]\n",
    "\n",
    "    # Create the new dataframe\n",
    "    new_df = pd.DataFrame(new_dat.toarray(), \n",
    "                          index=df_data_ohc.index, \n",
    "                          columns=col_names)\n",
    "\n",
    "    # Append the new data to the dataframe\n",
    "    df_data_ohc = pd.concat([df_data_ohc, new_df], axis=1)"
   ]
  },
  {
   "cell_type": "code",
   "execution_count": 9,
   "metadata": {},
   "outputs": [
    {
     "data": {
      "text/html": [
       "<div>\n",
       "<style scoped>\n",
       "    .dataframe tbody tr th:only-of-type {\n",
       "        vertical-align: middle;\n",
       "    }\n",
       "\n",
       "    .dataframe tbody tr th {\n",
       "        vertical-align: top;\n",
       "    }\n",
       "\n",
       "    .dataframe thead th {\n",
       "        text-align: right;\n",
       "    }\n",
       "</style>\n",
       "<table border=\"1\" class=\"dataframe\">\n",
       "  <thead>\n",
       "    <tr style=\"text-align: right;\">\n",
       "      <th></th>\n",
       "      <th>SeniorCitizen</th>\n",
       "      <th>tenure</th>\n",
       "      <th>PaymentMethod_0</th>\n",
       "      <th>PaymentMethod_1</th>\n",
       "      <th>PaymentMethod_2</th>\n",
       "      <th>PaymentMethod_3</th>\n",
       "      <th>Contract_0</th>\n",
       "      <th>Contract_1</th>\n",
       "      <th>Contract_2</th>\n",
       "      <th>OnlineBackup_0</th>\n",
       "      <th>...</th>\n",
       "      <th>OnlineBackup_2</th>\n",
       "      <th>InternetService_0</th>\n",
       "      <th>InternetService_1</th>\n",
       "      <th>InternetService_2</th>\n",
       "      <th>Dependents_0</th>\n",
       "      <th>Dependents_1</th>\n",
       "      <th>Partner_0</th>\n",
       "      <th>Partner_1</th>\n",
       "      <th>gender_0</th>\n",
       "      <th>gender_1</th>\n",
       "    </tr>\n",
       "  </thead>\n",
       "  <tbody>\n",
       "    <tr>\n",
       "      <th>0</th>\n",
       "      <td>0</td>\n",
       "      <td>1</td>\n",
       "      <td>0.0</td>\n",
       "      <td>0.0</td>\n",
       "      <td>1.0</td>\n",
       "      <td>0.0</td>\n",
       "      <td>1.0</td>\n",
       "      <td>0.0</td>\n",
       "      <td>0.0</td>\n",
       "      <td>0.0</td>\n",
       "      <td>...</td>\n",
       "      <td>1.0</td>\n",
       "      <td>1.0</td>\n",
       "      <td>0.0</td>\n",
       "      <td>0.0</td>\n",
       "      <td>1.0</td>\n",
       "      <td>0.0</td>\n",
       "      <td>0.0</td>\n",
       "      <td>1.0</td>\n",
       "      <td>1.0</td>\n",
       "      <td>0.0</td>\n",
       "    </tr>\n",
       "    <tr>\n",
       "      <th>1</th>\n",
       "      <td>0</td>\n",
       "      <td>34</td>\n",
       "      <td>0.0</td>\n",
       "      <td>0.0</td>\n",
       "      <td>0.0</td>\n",
       "      <td>1.0</td>\n",
       "      <td>0.0</td>\n",
       "      <td>1.0</td>\n",
       "      <td>0.0</td>\n",
       "      <td>1.0</td>\n",
       "      <td>...</td>\n",
       "      <td>0.0</td>\n",
       "      <td>1.0</td>\n",
       "      <td>0.0</td>\n",
       "      <td>0.0</td>\n",
       "      <td>1.0</td>\n",
       "      <td>0.0</td>\n",
       "      <td>1.0</td>\n",
       "      <td>0.0</td>\n",
       "      <td>0.0</td>\n",
       "      <td>1.0</td>\n",
       "    </tr>\n",
       "    <tr>\n",
       "      <th>2</th>\n",
       "      <td>0</td>\n",
       "      <td>2</td>\n",
       "      <td>0.0</td>\n",
       "      <td>0.0</td>\n",
       "      <td>0.0</td>\n",
       "      <td>1.0</td>\n",
       "      <td>1.0</td>\n",
       "      <td>0.0</td>\n",
       "      <td>0.0</td>\n",
       "      <td>0.0</td>\n",
       "      <td>...</td>\n",
       "      <td>1.0</td>\n",
       "      <td>1.0</td>\n",
       "      <td>0.0</td>\n",
       "      <td>0.0</td>\n",
       "      <td>1.0</td>\n",
       "      <td>0.0</td>\n",
       "      <td>1.0</td>\n",
       "      <td>0.0</td>\n",
       "      <td>0.0</td>\n",
       "      <td>1.0</td>\n",
       "    </tr>\n",
       "    <tr>\n",
       "      <th>3</th>\n",
       "      <td>0</td>\n",
       "      <td>45</td>\n",
       "      <td>1.0</td>\n",
       "      <td>0.0</td>\n",
       "      <td>0.0</td>\n",
       "      <td>0.0</td>\n",
       "      <td>0.0</td>\n",
       "      <td>1.0</td>\n",
       "      <td>0.0</td>\n",
       "      <td>1.0</td>\n",
       "      <td>...</td>\n",
       "      <td>0.0</td>\n",
       "      <td>1.0</td>\n",
       "      <td>0.0</td>\n",
       "      <td>0.0</td>\n",
       "      <td>1.0</td>\n",
       "      <td>0.0</td>\n",
       "      <td>1.0</td>\n",
       "      <td>0.0</td>\n",
       "      <td>0.0</td>\n",
       "      <td>1.0</td>\n",
       "    </tr>\n",
       "    <tr>\n",
       "      <th>4</th>\n",
       "      <td>0</td>\n",
       "      <td>2</td>\n",
       "      <td>0.0</td>\n",
       "      <td>0.0</td>\n",
       "      <td>1.0</td>\n",
       "      <td>0.0</td>\n",
       "      <td>1.0</td>\n",
       "      <td>0.0</td>\n",
       "      <td>0.0</td>\n",
       "      <td>1.0</td>\n",
       "      <td>...</td>\n",
       "      <td>0.0</td>\n",
       "      <td>0.0</td>\n",
       "      <td>1.0</td>\n",
       "      <td>0.0</td>\n",
       "      <td>1.0</td>\n",
       "      <td>0.0</td>\n",
       "      <td>1.0</td>\n",
       "      <td>0.0</td>\n",
       "      <td>1.0</td>\n",
       "      <td>0.0</td>\n",
       "    </tr>\n",
       "  </tbody>\n",
       "</table>\n",
       "<p>5 rows × 21 columns</p>\n",
       "</div>"
      ],
      "text/plain": [
       "   SeniorCitizen  tenure  PaymentMethod_0  PaymentMethod_1  PaymentMethod_2  \\\n",
       "0              0       1              0.0              0.0              1.0   \n",
       "1              0      34              0.0              0.0              0.0   \n",
       "2              0       2              0.0              0.0              0.0   \n",
       "3              0      45              1.0              0.0              0.0   \n",
       "4              0       2              0.0              0.0              1.0   \n",
       "\n",
       "   PaymentMethod_3  Contract_0  Contract_1  Contract_2  OnlineBackup_0  ...  \\\n",
       "0              0.0         1.0         0.0         0.0             0.0  ...   \n",
       "1              1.0         0.0         1.0         0.0             1.0  ...   \n",
       "2              1.0         1.0         0.0         0.0             0.0  ...   \n",
       "3              0.0         0.0         1.0         0.0             1.0  ...   \n",
       "4              0.0         1.0         0.0         0.0             1.0  ...   \n",
       "\n",
       "   OnlineBackup_2  InternetService_0  InternetService_1  InternetService_2  \\\n",
       "0             1.0                1.0                0.0                0.0   \n",
       "1             0.0                1.0                0.0                0.0   \n",
       "2             1.0                1.0                0.0                0.0   \n",
       "3             0.0                1.0                0.0                0.0   \n",
       "4             0.0                0.0                1.0                0.0   \n",
       "\n",
       "   Dependents_0  Dependents_1  Partner_0  Partner_1  gender_0  gender_1  \n",
       "0           1.0           0.0        0.0        1.0       1.0       0.0  \n",
       "1           1.0           0.0        1.0        0.0       0.0       1.0  \n",
       "2           1.0           0.0        1.0        0.0       0.0       1.0  \n",
       "3           1.0           0.0        1.0        0.0       0.0       1.0  \n",
       "4           1.0           0.0        1.0        0.0       1.0       0.0  \n",
       "\n",
       "[5 rows x 21 columns]"
      ]
     },
     "execution_count": 9,
     "metadata": {},
     "output_type": "execute_result"
    }
   ],
   "source": [
    "df_data_ohc.head()"
   ]
  },
  {
   "cell_type": "code",
   "execution_count": 10,
   "metadata": {},
   "outputs": [],
   "source": [
    "# Dividir los datos\n",
    "\n",
    "X = df_data_ohc.copy()\n",
    "\n",
    "churn_result = df['Churn']\n",
    "y = np.where(churn_result == 'Yes',1,0)"
   ]
  },
  {
   "cell_type": "markdown",
   "metadata": {},
   "source": [
    "La coluna 'Churn' será el nuestro target.  Vamos verificar si sus valores estan balanceados"
   ]
  },
  {
   "cell_type": "code",
   "execution_count": 11,
   "metadata": {},
   "outputs": [
    {
     "name": "stdout",
     "output_type": "stream",
     "text": [
      "(7043, 21)\n",
      "(7043,)\n"
     ]
    }
   ],
   "source": [
    "print(X.shape)\n",
    "print(y.shape)"
   ]
  },
  {
   "cell_type": "code",
   "execution_count": 12,
   "metadata": {},
   "outputs": [
    {
     "data": {
      "text/plain": [
       "(array([0, 1]), array([5174, 1869]))"
      ]
     },
     "execution_count": 12,
     "metadata": {},
     "output_type": "execute_result"
    }
   ],
   "source": [
    "np.unique(y, return_counts=True)"
   ]
  },
  {
   "cell_type": "markdown",
   "metadata": {},
   "source": [
    "Hay 5174 valores para no churn y 1869 valores para churn. O sea, hay más clientes que se quedan."
   ]
  },
  {
   "cell_type": "markdown",
   "metadata": {},
   "source": [
    "#### Pipeline"
   ]
  },
  {
   "cell_type": "code",
   "execution_count": 13,
   "metadata": {},
   "outputs": [],
   "source": [
    "from sklearn.pipeline import Pipeline\n",
    "from sklearn.preprocessing import StandardScaler\n",
    "from sklearn.ensemble import RandomForestClassifier\n",
    "from sklearn.model_selection import train_test_split\n",
    "from sklearn.model_selection import cross_val_score\n",
    "from sklearn.model_selection import GridSearchCV"
   ]
  },
  {
   "cell_type": "code",
   "execution_count": 14,
   "metadata": {},
   "outputs": [],
   "source": [
    "steps=[('scale',StandardScaler()), \n",
    "      ('random', RandomForestClassifier())]\n",
    "\n",
    "pipeline = Pipeline(steps)"
   ]
  },
  {
   "cell_type": "markdown",
   "metadata": {},
   "source": [
    "El parámetro de estratificación conservará la proporción de objetivo como en el conjunto de datos original, en el tren y en los conjuntos de datos de prueba también."
   ]
  },
  {
   "cell_type": "code",
   "execution_count": 15,
   "metadata": {},
   "outputs": [],
   "source": [
    "X_train, X_test, y_train, y_test = train_test_split(X, y, test_size = 0.25, random_state=42, stratify = y)"
   ]
  },
  {
   "cell_type": "markdown",
   "metadata": {},
   "source": [
    "Para el modelo Random Forest, voy a  utilizar  los parametros **max_depth, min_samples_leaf, n_estimators**."
   ]
  },
  {
   "cell_type": "code",
   "execution_count": 16,
   "metadata": {},
   "outputs": [],
   "source": [
    "parameters = [\n",
    "    {'random__max_depth':[5 ,10, 15, 25],\n",
    "              'random__min_samples_leaf':[1, 2, 4, 8],\n",
    "             'random__n_estimators':[100, 300, 400, 700],\n",
    "    'random__min_samples_split':[5, 10, 20, 50]}]"
   ]
  },
  {
   "cell_type": "markdown",
   "metadata": {},
   "source": [
    "Ahora utilizaremos el **GridSearchCV** con el pipeline y cross validation con 4 pliegues."
   ]
  },
  {
   "cell_type": "code",
   "execution_count": 17,
   "metadata": {},
   "outputs": [],
   "source": [
    "grid = GridSearchCV(pipeline, param_grid = parameters, cv = 4)"
   ]
  },
  {
   "cell_type": "code",
   "execution_count": 18,
   "metadata": {},
   "outputs": [
    {
     "name": "stdout",
     "output_type": "stream",
     "text": [
      "score = 0.79\n",
      "Pipeline(steps=[('scale', StandardScaler()),\n",
      "                ('random',\n",
      "                 RandomForestClassifier(max_depth=10, min_samples_leaf=8,\n",
      "                                        min_samples_split=50,\n",
      "                                        n_estimators=300))])\n"
     ]
    }
   ],
   "source": [
    "grid.fit(X_train, y_train)\n",
    "\n",
    "print( \"score = %3.2f\" %(grid.score(X_test, y_test)))\n",
    "\n",
    "print(grid.best_estimator_)"
   ]
  },
  {
   "cell_type": "markdown",
   "metadata": {},
   "source": [
    "Podemos ver que la mejor putaje del modelo Random Forest fue de 0.79 con los parametros max_depth=25, min_samples_leaf=4, min_samples_split=50, y n_estimators=700."
   ]
  },
  {
   "cell_type": "code",
   "execution_count": 19,
   "metadata": {},
   "outputs": [],
   "source": [
    "# Vamos predecir\n",
    "\n",
    "rf = RandomForestClassifier(max_depth=25, min_samples_leaf=4, min_samples_split=50,\n",
    "                                        n_estimators=700).fit(X_train, y_train)\n",
    "yhat_rf = rf.predict(X_test)"
   ]
  },
  {
   "cell_type": "code",
   "execution_count": 20,
   "metadata": {},
   "outputs": [
    {
     "name": "stdout",
     "output_type": "stream",
     "text": [
      "[[ 217  250]\n",
      " [ 125 1169]]\n"
     ]
    }
   ],
   "source": [
    "from sklearn.metrics import classification_report, confusion_matrix\n",
    "import itertools\n",
    "def plot_confusion_matrix(cm, classes,\n",
    "                          normalize=False,\n",
    "                          title='Confusion matrix',\n",
    "                          cmap=plt.cm.Blues):\n",
    "    \"\"\"\n",
    "    This function prints and plots the confusion matrix.\n",
    "    Normalization can be applied by setting `normalize=True`.\n",
    "    \"\"\"\n",
    "    if normalize:\n",
    "        cm = cm.astype('float') / cm.sum(axis=1)[:, np.newaxis]\n",
    "        print(\"Normalized confusion matrix\")\n",
    "    else:\n",
    "        print('Confusion matrix, without normalization')\n",
    "\n",
    "    print(cm)\n",
    "\n",
    "    plt.imshow(cm, interpolation='nearest', cmap=cmap)\n",
    "    plt.title(title)\n",
    "    plt.colorbar()\n",
    "    tick_marks = np.arange(len(classes))\n",
    "    plt.xticks(tick_marks, classes, rotation=45)\n",
    "    plt.yticks(tick_marks, classes)\n",
    "\n",
    "    fmt = '.2f' if normalize else 'd'\n",
    "    thresh = cm.max() / 2.\n",
    "    for i, j in itertools.product(range(cm.shape[0]), range(cm.shape[1])):\n",
    "        plt.text(j, i, format(cm[i, j], fmt),\n",
    "                 horizontalalignment=\"center\",\n",
    "                 color=\"white\" if cm[i, j] > thresh else \"black\")\n",
    "\n",
    "    plt.tight_layout()\n",
    "    plt.ylabel('True label')\n",
    "    plt.xlabel('Predicted label')\n",
    "print(confusion_matrix(y_test, yhat_rf, labels=[1,0]))"
   ]
  },
  {
   "cell_type": "code",
   "execution_count": 21,
   "metadata": {},
   "outputs": [
    {
     "name": "stdout",
     "output_type": "stream",
     "text": [
      "Confusion matrix, without normalization\n",
      "[[ 217  250]\n",
      " [ 125 1169]]\n"
     ]
    },
    {
     "data": {
      "image/png": "[encoded data removed]",
      "text/plain": [
       "<Figure size 432x288 with 2 Axes>"
      ]
     },
     "metadata": {
      "needs_background": "light"
     },
     "output_type": "display_data"
    }
   ],
   "source": [
    "# Compute confusion matrix\n",
    "cnf_matrix = confusion_matrix(y_test, yhat_rf, labels=[1,0])\n",
    "np.set_printoptions(precision=2)\n",
    "\n",
    "\n",
    "# Plot non-normalized confusion matrix\n",
    "plt.figure()\n",
    "plot_confusion_matrix(cnf_matrix, classes=['ArrDelay_class=1','ArrDelay_class=0'],\n",
    "                      normalize= False,  title='Confusion matrix')"
   ]
  },
  {
   "cell_type": "markdown",
   "metadata": {},
   "source": [
    "\n",
    "El clasificador previó **217** casos abandono dde los clientes **(true positive)**, y **125** fueron previstos como abandono( positivos )pero en realidad eran no abandono **(false positives)**.\n",
    "\n",
    "\n",
    "Por otro lado, **1169** casos donde no hube abandno de los clientes  fueron previstos correctamente (true negative) pero **250** casos que eran positivos pero fureon previstos como negativos **(false negativos)**.\n"
   ]
  },
  {
   "cell_type": "code",
   "execution_count": 22,
   "metadata": {},
   "outputs": [
    {
     "name": "stdout",
     "output_type": "stream",
     "text": [
      "              precision    recall  f1-score   support\n",
      "\n",
      "           0       0.82      0.90      0.86      1294\n",
      "           1       0.63      0.46      0.54       467\n",
      "\n",
      "    accuracy                           0.79      1761\n",
      "   macro avg       0.73      0.68      0.70      1761\n",
      "weighted avg       0.77      0.79      0.78      1761\n",
      "\n"
     ]
    }
   ],
   "source": [
    "print (classification_report(y_test, yhat_rf))"
   ]
  },
  {
   "cell_type": "markdown",
   "metadata": {},
   "source": [
    "La precision del los positivos y negativos son  0.62 y 0.83 respectivamente. Entre todos las situacions  que el clasificador previó como abandono, 63% estavan certos. \n",
    "\n",
    "El recall de esta analise fue de 0.46 para las situacions  en que  hubo abandono e los clientes. Entre los casos donde **realmente no hubo abandono** , **90%** fueron previstos como tal. \n",
    "\n",
    "La precisión promedio para este clasificador es el promedio de la puntuación F1 para ambas etiquetas, que es 0.78 en nuestro caso."
   ]
  },
  {
   "cell_type": "code",
   "execution_count": 23,
   "metadata": {},
   "outputs": [
    {
     "data": {
      "image/png": "[encoded data removed]",
      "text/plain": [
       "<Figure size 432x288 with 1 Axes>"
      ]
     },
     "metadata": {
      "needs_background": "light"
     },
     "output_type": "display_data"
    }
   ],
   "source": [
    "from sklearn import metrics\n",
    "from sklearn.metrics import roc_curve, auc\n",
    "\n",
    "\n",
    "metrics.plot_roc_curve(rf, X_test, y_test)  \n",
    "plt.plot([0, 1], [0, 1], 'k--')\n",
    "plt.show()                                   "
   ]
  },
  {
   "cell_type": "markdown",
   "metadata": {},
   "source": [
    "Cuanto mayor es la recuperación (True Positive Rate), más falsos positivos (False Positive Rate) produce el clasificador. Nuestro clasificaor es un bueno por que esta lejos de la línea e puntos que representa la curva ROC (hacia la esquina superior izquierda).\n",
    "\n",
    "En neste dataset,  hay casi tres vezes más negativos  (5174) en comparación con los positivos (1869). La curva precision/recall  deja claro que el clasificador tiene margen de mejora (la curva podría estar más cerca de la esquina superior izquierda)."
   ]
  },
  {
   "cell_type": "markdown",
   "metadata": {},
   "source": [
    "### - Ejercicio 2\n",
    "**Coge un texto en inglés que quieras, y calcula la frecuencia de las palabras**"
   ]
  },
  {
   "cell_type": "markdown",
   "metadata": {},
   "source": [
    "El siguiente [texto](https://www.nytimes.com/2021/06/08/arts/television/loki-review.html) proviene del New York Times y trata sobre una reseña de la serie **Loki**."
   ]
  },
  {
   "cell_type": "code",
   "execution_count": 24,
   "metadata": {},
   "outputs": [],
   "source": [
    "# cargar las bibliotecas\n",
    "import nltk"
   ]
  },
  {
   "cell_type": "code",
   "execution_count": 25,
   "metadata": {},
   "outputs": [
    {
     "data": {
      "text/plain": [
       "str"
      ]
     },
     "execution_count": 25,
     "metadata": {},
     "output_type": "execute_result"
    }
   ],
   "source": [
    "text = open('text_sprint_16_01.txt').read()\n",
    "type(text)"
   ]
  },
  {
   "cell_type": "code",
   "execution_count": 26,
   "metadata": {},
   "outputs": [
    {
     "name": "stdout",
     "output_type": "stream",
     "text": [
      "['A', 'little', 'lightness', 'is', 'welcome', ',', 'and', 'the', '45-minute', 'episodes', 'of', '“', 'Loki', '”', '(', 'premiering', 'Wednesday', ')', 'fly', 'by', 'painlessly', ',', 'though', 'they', 'may', 'not', 'deliver', 'quite', 'as', 'much', 'jokey', 'satisfaction', 'per', 'minute', 'as', 'you', '’', 'd', 'like', '.', 'If', 'the', 'writing', 'has', 'dull', 'patches', ',', 'there', '’', 's', 'always', 'the', 'company', 'of', 'a', 'stellar', 'cast', ',', 'headlined', 'by', 'Tom', 'Hiddleston', 'as', 'Loki', 'and', 'filled', 'out', 'by', 'Owen', 'Wilson', 'as', 'Loki', '’', 's', 'detective', 'partner', 'from', 'the', 'Time', 'Variance', 'Authority', ',', 'Wunmi', 'Mosaku', 'as', 'a', 'SWAT', 'cop', 'of', 'the', 'pure', 'time', 'stream', 'and', 'Gugu', 'Mbatha-Raw', 'as', 'a', 'judge', 'in', 'time', 'court', '.', 'The', 'focus', 'on', 'time', 'is', 'the', 'vehicle', 'by', 'which', 'Marvel', 'once', 'again', 'brings', 'back', 'Loki', ',', 'who', 'was', 'killed', 'two', '“', 'Avengers', '”', 'films', 'ago', '.', 'In', 'the', 'most', 'recent', 'film', ',', '“', 'Avengers', ':', 'Endgame', ',', '”', 'a', 'time-travel', 'plotline', 'enabled', 'him', 'to', 'make', 'a', 'cameo', 'reappearance', ';', 'that', 'wrinkle', 'in', 'the', 'continuum', 'is', 'now', ',', 'in', 'the', 'series', ',', 'the', 'explanation', 'for', 'his', 'apprehension', 'by', 'the', 'T.V.A.', ',', 'which', 'monitors', 'past', ',', 'present', 'and', 'future', 'for', 'divergences', 'from', 'the', 'proper', 'course', 'of', 'events', '.', '(', 'That', 'implies', 'predestination', ',', 'raising', 'a', 'lot', 'of', 'troubling', 'questions', 'for', 'the', 'larger', 'Marvel', 'universe', ',', 'which', 'are', 'addressed', 'briefly', 'and', 'unsatisfactorily', '.', ')']\n"
     ]
    }
   ],
   "source": [
    "#Tokenización de palabras\n",
    "from nltk.tokenize import word_tokenize\n",
    "\n",
    "tokenized_word=word_tokenize(text)\n",
    "print(tokenized_word)"
   ]
  },
  {
   "cell_type": "code",
   "execution_count": 27,
   "metadata": {},
   "outputs": [
    {
     "data": {
      "text/plain": [
       "'!\"#$%&\\'()*+,-./:;<=>?@[\\\\]^_`{|}~'"
      ]
     },
     "execution_count": 27,
     "metadata": {},
     "output_type": "execute_result"
    }
   ],
   "source": [
    "#Remover puntuacion\n",
    "import string\n",
    "string.punctuation\n"
   ]
  },
  {
   "cell_type": "code",
   "execution_count": 28,
   "metadata": {},
   "outputs": [
    {
     "data": {
      "text/plain": [
       "['A',\n",
       " 'little',\n",
       " 'lightness',\n",
       " 'is',\n",
       " 'welcome',\n",
       " 'and',\n",
       " 'the',\n",
       " '45-minute',\n",
       " 'episodes',\n",
       " 'of',\n",
       " '“',\n",
       " 'Loki',\n",
       " '”',\n",
       " 'premiering',\n",
       " 'Wednesday',\n",
       " 'fly',\n",
       " 'by',\n",
       " 'painlessly',\n",
       " 'though',\n",
       " 'they',\n",
       " 'may',\n",
       " 'not',\n",
       " 'deliver',\n",
       " 'quite',\n",
       " 'as',\n",
       " 'much',\n",
       " 'jokey',\n",
       " 'satisfaction',\n",
       " 'per',\n",
       " 'minute',\n",
       " 'as',\n",
       " 'you',\n",
       " '’',\n",
       " 'd',\n",
       " 'like',\n",
       " 'If',\n",
       " 'the',\n",
       " 'writing',\n",
       " 'has',\n",
       " 'dull',\n",
       " 'patches',\n",
       " 'there',\n",
       " '’',\n",
       " 's',\n",
       " 'always',\n",
       " 'the',\n",
       " 'company',\n",
       " 'of',\n",
       " 'a',\n",
       " 'stellar',\n",
       " 'cast',\n",
       " 'headlined',\n",
       " 'by',\n",
       " 'Tom',\n",
       " 'Hiddleston',\n",
       " 'as',\n",
       " 'Loki',\n",
       " 'and',\n",
       " 'filled',\n",
       " 'out',\n",
       " 'by',\n",
       " 'Owen',\n",
       " 'Wilson',\n",
       " 'as',\n",
       " 'Loki',\n",
       " '’',\n",
       " 's',\n",
       " 'detective',\n",
       " 'partner',\n",
       " 'from',\n",
       " 'the',\n",
       " 'Time',\n",
       " 'Variance',\n",
       " 'Authority',\n",
       " 'Wunmi',\n",
       " 'Mosaku',\n",
       " 'as',\n",
       " 'a',\n",
       " 'SWAT',\n",
       " 'cop',\n",
       " 'of',\n",
       " 'the',\n",
       " 'pure',\n",
       " 'time',\n",
       " 'stream',\n",
       " 'and',\n",
       " 'Gugu',\n",
       " 'Mbatha-Raw',\n",
       " 'as',\n",
       " 'a',\n",
       " 'judge',\n",
       " 'in',\n",
       " 'time',\n",
       " 'court',\n",
       " 'The',\n",
       " 'focus',\n",
       " 'on',\n",
       " 'time',\n",
       " 'is',\n",
       " 'the',\n",
       " 'vehicle',\n",
       " 'by',\n",
       " 'which',\n",
       " 'Marvel',\n",
       " 'once',\n",
       " 'again',\n",
       " 'brings',\n",
       " 'back',\n",
       " 'Loki',\n",
       " 'who',\n",
       " 'was',\n",
       " 'killed',\n",
       " 'two',\n",
       " '“',\n",
       " 'Avengers',\n",
       " '”',\n",
       " 'films',\n",
       " 'ago',\n",
       " 'In',\n",
       " 'the',\n",
       " 'most',\n",
       " 'recent',\n",
       " 'film',\n",
       " '“',\n",
       " 'Avengers',\n",
       " 'Endgame',\n",
       " '”',\n",
       " 'a',\n",
       " 'time-travel',\n",
       " 'plotline',\n",
       " 'enabled',\n",
       " 'him',\n",
       " 'to',\n",
       " 'make',\n",
       " 'a',\n",
       " 'cameo',\n",
       " 'reappearance',\n",
       " 'that',\n",
       " 'wrinkle',\n",
       " 'in',\n",
       " 'the',\n",
       " 'continuum',\n",
       " 'is',\n",
       " 'now',\n",
       " 'in',\n",
       " 'the',\n",
       " 'series',\n",
       " 'the',\n",
       " 'explanation',\n",
       " 'for',\n",
       " 'his',\n",
       " 'apprehension',\n",
       " 'by',\n",
       " 'the',\n",
       " 'T.V.A.',\n",
       " 'which',\n",
       " 'monitors',\n",
       " 'past',\n",
       " 'present',\n",
       " 'and',\n",
       " 'future',\n",
       " 'for',\n",
       " 'divergences',\n",
       " 'from',\n",
       " 'the',\n",
       " 'proper',\n",
       " 'course',\n",
       " 'of',\n",
       " 'events',\n",
       " 'That',\n",
       " 'implies',\n",
       " 'predestination',\n",
       " 'raising',\n",
       " 'a',\n",
       " 'lot',\n",
       " 'of',\n",
       " 'troubling',\n",
       " 'questions',\n",
       " 'for',\n",
       " 'the',\n",
       " 'larger',\n",
       " 'Marvel',\n",
       " 'universe',\n",
       " 'which',\n",
       " 'are',\n",
       " 'addressed',\n",
       " 'briefly',\n",
       " 'and',\n",
       " 'unsatisfactorily']"
      ]
     },
     "execution_count": 28,
     "metadata": {},
     "output_type": "execute_result"
    }
   ],
   "source": [
    "tokenized_word = [char for char in tokenized_word if char not in string.punctuation]\n",
    "tokenized_word"
   ]
  },
  {
   "cell_type": "code",
   "execution_count": 29,
   "metadata": {},
   "outputs": [
    {
     "name": "stdout",
     "output_type": "stream",
     "text": [
      "<FreqDist with 132 samples and 189 outcomes>\n"
     ]
    }
   ],
   "source": [
    "# Frequencia\n",
    "\n",
    "from nltk.probability import FreqDist\n",
    "\n",
    "fdist = FreqDist(tokenized_word)\n",
    "print(fdist)"
   ]
  },
  {
   "cell_type": "code",
   "execution_count": 30,
   "metadata": {},
   "outputs": [
    {
     "data": {
      "text/plain": [
       "[('the', 13), ('as', 6)]"
      ]
     },
     "execution_count": 30,
     "metadata": {},
     "output_type": "execute_result"
    }
   ],
   "source": [
    "fdist.most_common(2)"
   ]
  },
  {
   "cell_type": "code",
   "execution_count": 31,
   "metadata": {},
   "outputs": [
    {
     "data": {
      "image/png": "[encoded data removed]",
      "text/plain": [
       "<Figure size 864x576 with 1 Axes>"
      ]
     },
     "metadata": {
      "needs_background": "light"
     },
     "output_type": "display_data"
    }
   ],
   "source": [
    "# Frequency Distribution Plot\n",
    "import matplotlib.pyplot as plt\n",
    "\n",
    "plt.figure(figsize=(12,8))\n",
    "fdist.plot(30,cumulative=False)\n",
    "plt.show()"
   ]
  },
  {
   "cell_type": "markdown",
   "metadata": {},
   "source": [
    "## Nivel 2"
   ]
  },
  {
   "cell_type": "markdown",
   "metadata": {},
   "source": [
    "### Ejercicio 1\n",
    "**Quitar las stopwords y realiza stemming a tu conjunto de datos.**"
   ]
  },
  {
   "cell_type": "code",
   "execution_count": 32,
   "metadata": {},
   "outputs": [
    {
     "name": "stdout",
     "output_type": "stream",
     "text": [
      "{'what', 'at', 'all', 'are', 'myself', 'his', \"hadn't\", 'needn', 'shouldn', 'up', \"haven't\", 'where', 'our', 'how', \"needn't\", 'i', \"don't\", 'from', 'should', 'so', 'some', \"didn't\", 've', 'with', 'will', 'the', 'wasn', 'below', 'being', \"you're\", \"she's\", 't', 's', 'herself', 'shan', 'hadn', 'them', 'we', 'whom', 'yourself', 'here', 'ourselves', 'most', 'this', 'if', \"weren't\", \"you'd\", 'her', 'and', 'same', 'against', 'just', 'more', 'having', \"shan't\", 'y', 'that', 'both', 'weren', 'out', \"you'll\", 'then', 'have', 'those', 'been', 'do', 'under', 'didn', 'my', \"isn't\", \"mustn't\", 'off', 'as', 'me', 'because', \"wasn't\", 'but', 'she', 'above', 'an', 'o', 'nor', 'there', 'll', 'has', 'own', 'won', 'into', 'himself', 're', 'doing', 'not', 'no', 'other', 'each', 'about', 'a', 'haven', 'itself', 'of', 'these', 'again', 'd', \"doesn't\", 'than', 'such', 'had', 'can', \"couldn't\", 'why', 'your', \"you've\", 'between', 'before', 'him', 'it', 'which', 'in', 'wouldn', 'by', 'during', 'only', 'for', 'very', 'couldn', 'until', \"aren't\", \"wouldn't\", 'does', 'on', 'was', 'm', 'were', 'yourselves', 'its', 'ain', 'themselves', 'over', \"shouldn't\", 'too', 'few', 'doesn', 'isn', 'any', 'or', \"won't\", \"mightn't\", 'they', 'once', 'he', 'mightn', 'is', 'while', 'further', \"should've\", \"hasn't\", 'am', 'don', 'through', 'when', 'mustn', \"that'll\", 'who', 'to', 'aren', 'ma', 'now', 'after', 'down', 'hasn', 'hers', 'ours', 'their', 'you', 'theirs', 'did', \"it's\", 'be', 'yours'}\n"
     ]
    }
   ],
   "source": [
    "# Remover 'stopwords'\n",
    "\n",
    "from nltk.corpus import stopwords\n",
    "stop_words= set(stopwords.words(\"english\"))\n",
    "print(stop_words)"
   ]
  },
  {
   "cell_type": "code",
   "execution_count": 33,
   "metadata": {},
   "outputs": [
    {
     "name": "stdout",
     "output_type": "stream",
     "text": [
      "Tokenized Sentence: ['A', 'little', 'lightness', 'is', 'welcome', 'and', 'the', '45-minute', 'episodes', 'of', '“', 'Loki', '”', 'premiering', 'Wednesday', 'fly', 'by', 'painlessly', 'though', 'they', 'may', 'not', 'deliver', 'quite', 'as', 'much', 'jokey', 'satisfaction', 'per', 'minute', 'as', 'you', '’', 'd', 'like', 'If', 'the', 'writing', 'has', 'dull', 'patches', 'there', '’', 's', 'always', 'the', 'company', 'of', 'a', 'stellar', 'cast', 'headlined', 'by', 'Tom', 'Hiddleston', 'as', 'Loki', 'and', 'filled', 'out', 'by', 'Owen', 'Wilson', 'as', 'Loki', '’', 's', 'detective', 'partner', 'from', 'the', 'Time', 'Variance', 'Authority', 'Wunmi', 'Mosaku', 'as', 'a', 'SWAT', 'cop', 'of', 'the', 'pure', 'time', 'stream', 'and', 'Gugu', 'Mbatha-Raw', 'as', 'a', 'judge', 'in', 'time', 'court', 'The', 'focus', 'on', 'time', 'is', 'the', 'vehicle', 'by', 'which', 'Marvel', 'once', 'again', 'brings', 'back', 'Loki', 'who', 'was', 'killed', 'two', '“', 'Avengers', '”', 'films', 'ago', 'In', 'the', 'most', 'recent', 'film', '“', 'Avengers', 'Endgame', '”', 'a', 'time-travel', 'plotline', 'enabled', 'him', 'to', 'make', 'a', 'cameo', 'reappearance', 'that', 'wrinkle', 'in', 'the', 'continuum', 'is', 'now', 'in', 'the', 'series', 'the', 'explanation', 'for', 'his', 'apprehension', 'by', 'the', 'T.V.A.', 'which', 'monitors', 'past', 'present', 'and', 'future', 'for', 'divergences', 'from', 'the', 'proper', 'course', 'of', 'events', 'That', 'implies', 'predestination', 'raising', 'a', 'lot', 'of', 'troubling', 'questions', 'for', 'the', 'larger', 'Marvel', 'universe', 'which', 'are', 'addressed', 'briefly', 'and', 'unsatisfactorily']\n",
      "Filterd Sentence: ['A', 'little', 'lightness', 'welcome', '45-minute', 'episodes', '“', 'Loki', '”', 'premiering', 'Wednesday', 'fly', 'painlessly', 'though', 'may', 'deliver', 'quite', 'much', 'jokey', 'satisfaction', 'per', 'minute', '’', 'like', 'If', 'writing', 'dull', 'patches', '’', 'always', 'company', 'stellar', 'cast', 'headlined', 'Tom', 'Hiddleston', 'Loki', 'filled', 'Owen', 'Wilson', 'Loki', '’', 'detective', 'partner', 'Time', 'Variance', 'Authority', 'Wunmi', 'Mosaku', 'SWAT', 'cop', 'pure', 'time', 'stream', 'Gugu', 'Mbatha-Raw', 'judge', 'time', 'court', 'The', 'focus', 'time', 'vehicle', 'Marvel', 'brings', 'back', 'Loki', 'killed', 'two', '“', 'Avengers', '”', 'films', 'ago', 'In', 'recent', 'film', '“', 'Avengers', 'Endgame', '”', 'time-travel', 'plotline', 'enabled', 'make', 'cameo', 'reappearance', 'wrinkle', 'continuum', 'series', 'explanation', 'apprehension', 'T.V.A.', 'monitors', 'past', 'present', 'future', 'divergences', 'proper', 'course', 'events', 'That', 'implies', 'predestination', 'raising', 'lot', 'troubling', 'questions', 'larger', 'Marvel', 'universe', 'addressed', 'briefly', 'unsatisfactorily']\n"
     ]
    }
   ],
   "source": [
    "filtered_sent=[]\n",
    "for w in tokenized_word:\n",
    "    if w not in stop_words:\n",
    "        filtered_sent.append(w)\n",
    "print(\"Tokenized Sentence:\",tokenized_word)\n",
    "print(\"Filterd Sentence:\",filtered_sent)"
   ]
  },
  {
   "cell_type": "code",
   "execution_count": 34,
   "metadata": {},
   "outputs": [
    {
     "name": "stdout",
     "output_type": "stream",
     "text": [
      "Filtered Sentence: ['A', 'little', 'lightness', 'welcome', '45-minute', 'episodes', '“', 'Loki', '”', 'premiering', 'Wednesday', 'fly', 'painlessly', 'though', 'may', 'deliver', 'quite', 'much', 'jokey', 'satisfaction', 'per', 'minute', '’', 'like', 'If', 'writing', 'dull', 'patches', '’', 'always', 'company', 'stellar', 'cast', 'headlined', 'Tom', 'Hiddleston', 'Loki', 'filled', 'Owen', 'Wilson', 'Loki', '’', 'detective', 'partner', 'Time', 'Variance', 'Authority', 'Wunmi', 'Mosaku', 'SWAT', 'cop', 'pure', 'time', 'stream', 'Gugu', 'Mbatha-Raw', 'judge', 'time', 'court', 'The', 'focus', 'time', 'vehicle', 'Marvel', 'brings', 'back', 'Loki', 'killed', 'two', '“', 'Avengers', '”', 'films', 'ago', 'In', 'recent', 'film', '“', 'Avengers', 'Endgame', '”', 'time-travel', 'plotline', 'enabled', 'make', 'cameo', 'reappearance', 'wrinkle', 'continuum', 'series', 'explanation', 'apprehension', 'T.V.A.', 'monitors', 'past', 'present', 'future', 'divergences', 'proper', 'course', 'events', 'That', 'implies', 'predestination', 'raising', 'lot', 'troubling', 'questions', 'larger', 'Marvel', 'universe', 'addressed', 'briefly', 'unsatisfactorily']\n",
      "Stemmed Sentence: ['A', 'littl', 'light', 'welcom', '45-minut', 'episod', '“', 'loki', '”', 'premier', 'wednesday', 'fli', 'painlessli', 'though', 'may', 'deliv', 'quit', 'much', 'jokey', 'satisfact', 'per', 'minut', '’', 'like', 'If', 'write', 'dull', 'patch', '’', 'alway', 'compani', 'stellar', 'cast', 'headlin', 'tom', 'hiddleston', 'loki', 'fill', 'owen', 'wilson', 'loki', '’', 'detect', 'partner', 'time', 'varianc', 'author', 'wunmi', 'mosaku', 'swat', 'cop', 'pure', 'time', 'stream', 'gugu', 'mbatha-raw', 'judg', 'time', 'court', 'the', 'focu', 'time', 'vehicl', 'marvel', 'bring', 'back', 'loki', 'kill', 'two', '“', 'aveng', '”', 'film', 'ago', 'In', 'recent', 'film', '“', 'aveng', 'endgam', '”', 'time-travel', 'plotlin', 'enabl', 'make', 'cameo', 'reappear', 'wrinkl', 'continuum', 'seri', 'explan', 'apprehens', 't.v.a.', 'monitor', 'past', 'present', 'futur', 'diverg', 'proper', 'cours', 'event', 'that', 'impli', 'predestin', 'rais', 'lot', 'troubl', 'question', 'larger', 'marvel', 'univers', 'address', 'briefli', 'unsatisfactorili']\n"
     ]
    }
   ],
   "source": [
    "# Stemming\n",
    "from nltk.stem import PorterStemmer\n",
    "from nltk.tokenize import sent_tokenize, word_tokenize\n",
    "\n",
    "ps = PorterStemmer()\n",
    "\n",
    "stemmed_words=[]\n",
    "for w in filtered_sent:\n",
    "    stemmed_words.append(ps.stem(w))\n",
    "\n",
    "print(\"Filtered Sentence:\",filtered_sent)\n",
    "print(\"Stemmed Sentence:\",stemmed_words)"
   ]
  },
  {
   "cell_type": "markdown",
   "metadata": {},
   "source": [
    "**También opté por eliminar palabras con menos de dos letras.**"
   ]
  },
  {
   "cell_type": "code",
   "execution_count": 42,
   "metadata": {},
   "outputs": [
    {
     "data": {
      "text/plain": [
       "['littl',\n",
       " 'light',\n",
       " 'welcom',\n",
       " '45-minut',\n",
       " 'episod',\n",
       " 'loki',\n",
       " 'premier',\n",
       " 'wednesday',\n",
       " 'fli',\n",
       " 'painlessli',\n",
       " 'though',\n",
       " 'may',\n",
       " 'deliv',\n",
       " 'quit',\n",
       " 'much',\n",
       " 'jokey',\n",
       " 'satisfact',\n",
       " 'per',\n",
       " 'minut',\n",
       " 'like',\n",
       " 'write',\n",
       " 'dull',\n",
       " 'patch',\n",
       " 'alway',\n",
       " 'compani',\n",
       " 'stellar',\n",
       " 'cast',\n",
       " 'headlin',\n",
       " 'tom',\n",
       " 'hiddleston',\n",
       " 'loki',\n",
       " 'fill',\n",
       " 'owen',\n",
       " 'wilson',\n",
       " 'loki',\n",
       " 'detect',\n",
       " 'partner',\n",
       " 'time',\n",
       " 'varianc',\n",
       " 'author',\n",
       " 'wunmi',\n",
       " 'mosaku',\n",
       " 'swat',\n",
       " 'cop',\n",
       " 'pure',\n",
       " 'time',\n",
       " 'stream',\n",
       " 'gugu',\n",
       " 'mbatha-raw',\n",
       " 'judg',\n",
       " 'time',\n",
       " 'court',\n",
       " 'the',\n",
       " 'focu',\n",
       " 'time',\n",
       " 'vehicl',\n",
       " 'marvel',\n",
       " 'bring',\n",
       " 'back',\n",
       " 'loki',\n",
       " 'kill',\n",
       " 'two',\n",
       " 'aveng',\n",
       " 'film',\n",
       " 'ago',\n",
       " 'recent',\n",
       " 'film',\n",
       " 'aveng',\n",
       " 'endgam',\n",
       " 'time-travel',\n",
       " 'plotlin',\n",
       " 'enabl',\n",
       " 'make',\n",
       " 'cameo',\n",
       " 'reappear',\n",
       " 'wrinkl',\n",
       " 'continuum',\n",
       " 'seri',\n",
       " 'explan',\n",
       " 'apprehens',\n",
       " 't.v.a.',\n",
       " 'monitor',\n",
       " 'past',\n",
       " 'present',\n",
       " 'futur',\n",
       " 'diverg',\n",
       " 'proper',\n",
       " 'cours',\n",
       " 'event',\n",
       " 'that',\n",
       " 'impli',\n",
       " 'predestin',\n",
       " 'rais',\n",
       " 'lot',\n",
       " 'troubl',\n",
       " 'question',\n",
       " 'larger',\n",
       " 'marvel',\n",
       " 'univers',\n",
       " 'address',\n",
       " 'briefli',\n",
       " 'unsatisfactorili']"
      ]
     },
     "execution_count": 42,
     "metadata": {},
     "output_type": "execute_result"
    }
   ],
   "source": [
    "# remove words less than three letters\n",
    "stemmed_words_new = [word for word in stemmed_words if len(word) > 2]\n",
    "stemmed_words_new"
   ]
  },
  {
   "cell_type": "code",
   "execution_count": 64,
   "metadata": {},
   "outputs": [
    {
     "data": {
      "image/png": "[encoded data removed]",
      "text/plain": [
       "<Figure size 864x576 with 1 Axes>"
      ]
     },
     "metadata": {
      "needs_background": "light"
     },
     "output_type": "display_data"
    }
   ],
   "source": [
    "# Nueva frequencia\n",
    "\n",
    "#fdist_new = FreqDist(stemmed_words_new)\n",
    "#fdist_new.most_common(2)\n",
    "all_words = FreqDist(stemmed_words_new)\n",
    "#Plot\n",
    "plt.figure(figsize=(12,8))\n",
    "#fdist_new.plot(30,cumulative=False)\n",
    "#plt.show()\n",
    "\n",
    "all_words.plot(30,cumulative=False)\n",
    "plt.show()"
   ]
  },
  {
   "cell_type": "markdown",
   "metadata": {},
   "source": [
    "## Nivel 3"
   ]
  },
  {
   "cell_type": "markdown",
   "metadata": {},
   "source": [
    "### Ejercicio 1\n",
    "**Realiza sentimiento analysis a tu conjunto de datos.**"
   ]
  },
  {
   "cell_type": "markdown",
   "metadata": {},
   "source": [
    "Usando el analizador de sentimientos previamente entrenado de NLTK\n",
    "\n",
    "NLTK ya tiene incorporado un analizador de sentimientos previamente capacitado llamado VADER (Valence Aware Dictionary y sEntiment Reasoner).\n",
    "\n",
    "Para usar VADER ( Valence Aware Dictionary for Sentiment Reasoning), primero  es necesario cargar **vader lexicon** :  una herramienta de análisis de sentimientos basada en reglas y léxico que está específicamente en sintonía con los sentimientos expresados en las redes sociales y funciona bien en textos de otros dominios. \n",
    "\n",
    "Entonces, vamos crear una instancia de nltk.sentiment.SentimentIntensityAnalyzer, luego use .polarity_scores () en una cadena sin procesar:"
   ]
  },
  {
   "cell_type": "code",
   "execution_count": 76,
   "metadata": {},
   "outputs": [
    {
     "name": "stderr",
     "output_type": "stream",
     "text": [
      "[nltk_data] Downloading package vader_lexicon to\n",
      "[nltk_data]     /Users/cristianedesouzadasilva/nltk_data...\n"
     ]
    },
    {
     "data": {
      "text/plain": [
       "True"
      ]
     },
     "execution_count": 76,
     "metadata": {},
     "output_type": "execute_result"
    }
   ],
   "source": [
    "# cargar vader lexicon\n",
    "nltk.download('vader_lexicon')"
   ]
  },
  {
   "cell_type": "code",
   "execution_count": 78,
   "metadata": {},
   "outputs": [
    {
     "data": {
      "text/plain": [
       "{'neg': 0.072, 'neu': 0.826, 'pos': 0.102, 'compound': 0.4019}"
      ]
     },
     "execution_count": 78,
     "metadata": {},
     "output_type": "execute_result"
    }
   ],
   "source": [
    "from nltk.sentiment import SentimentIntensityAnalyzer\n",
    "sia = SentimentIntensityAnalyzer()\n",
    "sia.polarity_scores(text)"
   ]
  },
  {
   "cell_type": "markdown",
   "metadata": {},
   "source": [
    "VADER devuelve un diccionario de partituras en cada una o cuatro categorías:\n",
    "\n",
    "* negative sentiment : 0.072\n",
    "\n",
    "* neutral sentiment : 0.826\n",
    "\n",
    "* positive sentiment : 0.102\n",
    "\n",
    "* compound : 0.4019\n",
    "    "
   ]
  },
  {
   "cell_type": "markdown",
   "metadata": {},
   "source": [
    "Las puntuaciones negativas, neutrales y positivas están relacionadas: todas suman 1.\n",
    "\n",
    "El puntaje compuesto es una métrica que calcula la suma de todas las calificaciones de léxico que se han normalizado entre -1 (más extremo negativo) y +1 (más extremo positivo).\n",
    "\n",
    "El texto analizado es un extracto de una reseña de una serie de televisión. Este tipo de texto tiende a ser neutral y, por lo tanto, en nuestro caso, el sentimiento neutral tuvo la puntuación más alta (0.826). Pero podemos decir que es casi imposible ser completamente neutral y el resultado muestra una puntuación positiva superior a la negativa.\n",
    "\n",
    "Esto demuestra que el autor exhibe un sentimiento neutral al escribir pero tiende al lado positivo."
   ]
  }
 ],
 "metadata": {
  "kernelspec": {
   "display_name": "Python 3",
   "language": "python",
   "name": "python3"
  },
  "language_info": {
   "codemirror_mode": {
    "name": "ipython",
    "version": 3
   },
   "file_extension": ".py",
   "mimetype": "text/x-python",
   "name": "python",
   "nbconvert_exporter": "python",
   "pygments_lexer": "ipython3",
   "version": "3.8.5"
  }
 },
 "nbformat": 4,
 "nbformat_minor": 4
}
