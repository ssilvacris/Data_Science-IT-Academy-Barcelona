{
 "cells": [
  {
   "cell_type": "markdown",
   "metadata": {},
   "source": [
    "<h1 align=center><font size = 5>Data Science amb Python</font></h1>\n",
    "\n",
    "\n",
    "\n",
    "## Sprint 19\n",
    "#### S19 T01: Interactive display with ElasticSearch Stack\n",
    "\n",
    "#### Cristiane de Souza da Silva\n",
    "\n",
    "July 2021"
   ]
  },
  {
   "cell_type": "markdown",
   "metadata": {},
   "source": [
    "### Description\n",
    "We are beginning to become familiar with the interactive display of graphics using Kibana."
   ]
  },
  {
   "cell_type": "markdown",
   "metadata": {},
   "source": [
    "#### Nivel 1\n",
    "\n",
    "* Exercise 1\n",
    "\n",
    "Download Kibana and display some graphs using Example datasets."
   ]
  },
  {
   "cell_type": "markdown",
   "metadata": {},
   "source": [
    "Here are some examples from sample data n Kibana\n",
    "\n",
    "<img src=\"examples.png\">"
   ]
  },
  {
   "cell_type": "markdown",
   "metadata": {},
   "source": [
    "#### Nivel 2\n",
    "\n",
    "* Exercise 1\n",
    "\n",
    "Implement a dashboard that interactively displays the data you choose."
   ]
  },
  {
   "cell_type": "markdown",
   "metadata": {},
   "source": [
    "The chosen dataset comes from the site [Kaggle](https://www.kaggle.com/kwadwoofosu/predict-test-scores-of-students) and contains information about a test written by some students.\n",
    "\n",
    "First, I will check if the dataset needs some cleaning."
   ]
  },
  {
   "cell_type": "code",
   "execution_count": 1,
   "metadata": {},
   "outputs": [
    {
     "data": {
      "text/html": [
       "<div>\n",
       "<style scoped>\n",
       "    .dataframe tbody tr th:only-of-type {\n",
       "        vertical-align: middle;\n",
       "    }\n",
       "\n",
       "    .dataframe tbody tr th {\n",
       "        vertical-align: top;\n",
       "    }\n",
       "\n",
       "    .dataframe thead th {\n",
       "        text-align: right;\n",
       "    }\n",
       "</style>\n",
       "<table border=\"1\" class=\"dataframe\">\n",
       "  <thead>\n",
       "    <tr style=\"text-align: right;\">\n",
       "      <th></th>\n",
       "      <th>school</th>\n",
       "      <th>school_setting</th>\n",
       "      <th>school_type</th>\n",
       "      <th>classroom</th>\n",
       "      <th>teaching_method</th>\n",
       "      <th>n_student</th>\n",
       "      <th>student_id</th>\n",
       "      <th>gender</th>\n",
       "      <th>lunch</th>\n",
       "      <th>pretest</th>\n",
       "      <th>posttest</th>\n",
       "    </tr>\n",
       "  </thead>\n",
       "  <tbody>\n",
       "    <tr>\n",
       "      <th>0</th>\n",
       "      <td>ANKYI</td>\n",
       "      <td>Urban</td>\n",
       "      <td>Non-public</td>\n",
       "      <td>6OL</td>\n",
       "      <td>Standard</td>\n",
       "      <td>20.0</td>\n",
       "      <td>2FHT3</td>\n",
       "      <td>Female</td>\n",
       "      <td>Does not qualify</td>\n",
       "      <td>62.0</td>\n",
       "      <td>72.0</td>\n",
       "    </tr>\n",
       "    <tr>\n",
       "      <th>1</th>\n",
       "      <td>ANKYI</td>\n",
       "      <td>Urban</td>\n",
       "      <td>Non-public</td>\n",
       "      <td>6OL</td>\n",
       "      <td>Standard</td>\n",
       "      <td>20.0</td>\n",
       "      <td>3JIVH</td>\n",
       "      <td>Female</td>\n",
       "      <td>Does not qualify</td>\n",
       "      <td>66.0</td>\n",
       "      <td>79.0</td>\n",
       "    </tr>\n",
       "    <tr>\n",
       "      <th>2</th>\n",
       "      <td>ANKYI</td>\n",
       "      <td>Urban</td>\n",
       "      <td>Non-public</td>\n",
       "      <td>6OL</td>\n",
       "      <td>Standard</td>\n",
       "      <td>20.0</td>\n",
       "      <td>3XOWE</td>\n",
       "      <td>Male</td>\n",
       "      <td>Does not qualify</td>\n",
       "      <td>64.0</td>\n",
       "      <td>76.0</td>\n",
       "    </tr>\n",
       "    <tr>\n",
       "      <th>3</th>\n",
       "      <td>ANKYI</td>\n",
       "      <td>Urban</td>\n",
       "      <td>Non-public</td>\n",
       "      <td>6OL</td>\n",
       "      <td>Standard</td>\n",
       "      <td>20.0</td>\n",
       "      <td>556O0</td>\n",
       "      <td>Female</td>\n",
       "      <td>Does not qualify</td>\n",
       "      <td>61.0</td>\n",
       "      <td>77.0</td>\n",
       "    </tr>\n",
       "    <tr>\n",
       "      <th>4</th>\n",
       "      <td>ANKYI</td>\n",
       "      <td>Urban</td>\n",
       "      <td>Non-public</td>\n",
       "      <td>6OL</td>\n",
       "      <td>Standard</td>\n",
       "      <td>20.0</td>\n",
       "      <td>74LOE</td>\n",
       "      <td>Male</td>\n",
       "      <td>Does not qualify</td>\n",
       "      <td>64.0</td>\n",
       "      <td>76.0</td>\n",
       "    </tr>\n",
       "  </tbody>\n",
       "</table>\n",
       "</div>"
      ],
      "text/plain": [
       "  school school_setting school_type classroom teaching_method  n_student  \\\n",
       "0  ANKYI          Urban  Non-public       6OL        Standard       20.0   \n",
       "1  ANKYI          Urban  Non-public       6OL        Standard       20.0   \n",
       "2  ANKYI          Urban  Non-public       6OL        Standard       20.0   \n",
       "3  ANKYI          Urban  Non-public       6OL        Standard       20.0   \n",
       "4  ANKYI          Urban  Non-public       6OL        Standard       20.0   \n",
       "\n",
       "  student_id  gender             lunch  pretest  posttest  \n",
       "0      2FHT3  Female  Does not qualify     62.0      72.0  \n",
       "1      3JIVH  Female  Does not qualify     66.0      79.0  \n",
       "2      3XOWE    Male  Does not qualify     64.0      76.0  \n",
       "3      556O0  Female  Does not qualify     61.0      77.0  \n",
       "4      74LOE    Male  Does not qualify     64.0      76.0  "
      ]
     },
     "execution_count": 1,
     "metadata": {},
     "output_type": "execute_result"
    }
   ],
   "source": [
    "#import libraries\n",
    "\n",
    "import pandas as pd \n",
    "\n",
    "#Load the dataset\n",
    "\n",
    "df_scores = pd.read_csv('test_scores.csv')\n",
    "df_scores.head()"
   ]
  },
  {
   "cell_type": "code",
   "execution_count": 3,
   "metadata": {},
   "outputs": [
    {
     "name": "stdout",
     "output_type": "stream",
     "text": [
      "<class 'pandas.core.frame.DataFrame'>\n",
      "RangeIndex: 2133 entries, 0 to 2132\n",
      "Data columns (total 11 columns):\n",
      " #   Column           Non-Null Count  Dtype  \n",
      "---  ------           --------------  -----  \n",
      " 0   school           2133 non-null   object \n",
      " 1   school_setting   2133 non-null   object \n",
      " 2   school_type      2133 non-null   object \n",
      " 3   classroom        2133 non-null   object \n",
      " 4   teaching_method  2133 non-null   object \n",
      " 5   n_student        2133 non-null   float64\n",
      " 6   student_id       2133 non-null   object \n",
      " 7   gender           2133 non-null   object \n",
      " 8   lunch            2133 non-null   object \n",
      " 9   pretest          2133 non-null   float64\n",
      " 10  posttest         2133 non-null   float64\n",
      "dtypes: float64(3), object(8)\n",
      "memory usage: 183.4+ KB\n"
     ]
    }
   ],
   "source": [
    "df_scores.info()"
   ]
  },
  {
   "cell_type": "code",
   "execution_count": 4,
   "metadata": {},
   "outputs": [
    {
     "data": {
      "text/plain": [
       "school             0\n",
       "school_setting     0\n",
       "school_type        0\n",
       "classroom          0\n",
       "teaching_method    0\n",
       "n_student          0\n",
       "student_id         0\n",
       "gender             0\n",
       "lunch              0\n",
       "pretest            0\n",
       "posttest           0\n",
       "dtype: int64"
      ]
     },
     "execution_count": 4,
     "metadata": {},
     "output_type": "execute_result"
    }
   ],
   "source": [
    "df_scores.isnull().sum()"
   ]
  },
  {
   "cell_type": "code",
   "execution_count": 6,
   "metadata": {},
   "outputs": [
    {
     "data": {
      "text/plain": [
       "Urban       906\n",
       "Suburban    717\n",
       "Rural       510\n",
       "Name: school_setting, dtype: int64"
      ]
     },
     "execution_count": 6,
     "metadata": {},
     "output_type": "execute_result"
    }
   ],
   "source": [
    "df_scores['school_setting'].value_counts()"
   ]
  },
  {
   "cell_type": "markdown",
   "metadata": {},
   "source": [
    "We can see there is no null values in the dataset."
   ]
  },
  {
   "cell_type": "markdown",
   "metadata": {},
   "source": [
    "Next, we can see some graphs from this dataset done on Kibana.\n",
    "\n",
    "<img src=\"img_1.png\">"
   ]
  },
  {
   "cell_type": "markdown",
   "metadata": {},
   "source": [
    "<img src=\"img_2.png\">"
   ]
  },
  {
   "cell_type": "markdown",
   "metadata": {},
   "source": [
    "#### Nivel 3\n",
    "\n",
    "- Exercise 1\n",
    "\n",
    "Implement a dashboard that generates graphics using each of the different types of graphics that Kibana offers."
   ]
  },
  {
   "cell_type": "markdown",
   "metadata": {},
   "source": [
    "<iframe src=\"http://localhost:5601/app/dashboards#/view/9e0f1c50-db27-11eb-ad61-af2718214e34?embed=true&_a=(description:'The%20dashboard%20contains%20information%20about%20a%20test%20written%20by%20some%20students.',filters:!(),fullScreenMode:!f,options:(hidePanelTitles:!f,useMargins:!t),panels:!((embeddableConfig:(enhancements:(),savedVis:(data:(aggs:!(),searchSource:(filter:!(),query:(language:kuery,query:''))),description:'',params:(fontSize:12,markdown:'%23%23%20Test%20Scores%20of%20students%0A%0AThis%20dashboard%20contains%20information%20about%20a%20test%20written%20by%20some%20students.%20It%20includes%20features%20such%20as%20School%20setting,%20School%20type,%20gender,%20pretest%20scores%20among%20others.',openLinksInNewTab:!f),title:'',type:markdown,uiState:())),gridData:(h:7,i:'0c683506-7a68-4338-b6c0-70dad3a2abc4',w:48,x:0,y:0),panelIndex:'0c683506-7a68-4338-b6c0-70dad3a2abc4',type:visualization,version:'7.13.2'),(embeddableConfig:(attributes:(references:!((id:'2d42f730-db1d-11eb-ad61-af2718214e34',name:indexpattern-datasource-current-indexpattern,type:index-pattern),(id:'2d42f730-db1d-11eb-ad61-af2718214e34',name:indexpattern-datasource-layer-0b28d562-8910-4f6b-87e1-598301e8804c,type:index-pattern)),state:(datasourceStates:(indexpattern:(layers:('0b28d562-8910-4f6b-87e1-598301e8804c':(columnOrder:!('0bac9bbf-bbbd-464a-a2c2-ef0b5cfd9d62'),columns:('0bac9bbf-bbbd-464a-a2c2-ef0b5cfd9d62':(customLabel:!t,dataType:number,isBucketed:!f,label:'Total%20Number%20of%20Students%20Evaluated',operationType:sum,scale:ratio,sourceField:n_student)),incompleteColumns:())))),filters:!(),query:(language:kuery,query:''),visualization:(accessor:'0bac9bbf-bbbd-464a-a2c2-ef0b5cfd9d62',layerId:'0b28d562-8910-4f6b-87e1-598301e8804c')),title:'',type:lens,visualizationType:lnsMetric),enhancements:(),hidePanelTitles:!f),gridData:(h:10,i:'35d07fea-3f39-4f2e-a805-79f890ba003f',w:19,x:0,y:7),panelIndex:'35d07fea-3f39-4f2e-a805-79f890ba003f',title:'Number%20of%20Students',type:lens,version:'7.13.2'),(embeddableConfig:(enhancements:(),hidePanelTitles:!f,savedVis:(data:(aggs:!(),searchSource:(filter:!(),query:(language:kuery,query:''))),description:'',params:(controls:!((fieldName:gender,id:'1625234754843',indexPattern:'2d42f730-db1d-11eb-ad61-af2718214e34',label:'Gender%20control',options:(dynamicOptions:!t,multiselect:!t,order:desc,size:5,type:terms),parent:'',type:list),(fieldName:posttest,id:'1625234790079',indexPattern:'2d42f730-db1d-11eb-ad61-af2718214e34',label:'Pos%20test%20grade',options:(decimalPlaces:0,step:10),parent:'',type:range),(fieldName:school_setting,id:'1625234887025',indexPattern:'2d42f730-db1d-11eb-ad61-af2718214e34',label:'School%20setting',options:(dynamicOptions:!t,multiselect:!t,order:desc,size:5,type:terms),parent:'',type:list)),pinFilters:!t,updateFiltersOnChange:!t,useTimeFilter:!f),title:'',type:input_control_vis,uiState:())),gridData:(h:10,i:'5cc7ee6c-ae6c-42f4-93ac-3abc31925a99',w:29,x:19,y:7),panelIndex:'5cc7ee6c-ae6c-42f4-93ac-3abc31925a99',title:Controls,type:visualization,version:'7.13.2'),(embeddableConfig:(attributes:(references:!((id:'2d42f730-db1d-11eb-ad61-af2718214e34',name:indexpattern-datasource-current-indexpattern,type:index-pattern),(id:'2d42f730-db1d-11eb-ad61-af2718214e34',name:indexpattern-datasource-layer-a8676bf6-a4bc-4c83-823e-cdc0ffe88e99,type:index-pattern)),state:(datasourceStates:(indexpattern:(layers:(a8676bf6-a4bc-4c83-823e-cdc0ffe88e99:(columnOrder:!('69c1a293-abc1-4343-b40d-00f8e1457262','016cbe10-b5fd-4235-98ee-75f91ca90f2d','15e05834-f598-40a5-8a81-ec840de20174'),columns:('016cbe10-b5fd-4235-98ee-75f91ca90f2d':(dataType:string,isBucketed:!t,label:'Top%20values%20of%20teaching_method',operationType:terms,params:(missingBucket:!f,orderBy:(columnId:'15e05834-f598-40a5-8a81-ec840de20174',type:column),orderDirection:desc,otherBucket:!t,size:3),scale:ordinal,sourceField:teaching_method),'15e05834-f598-40a5-8a81-ec840de20174':(dataType:number,isBucketed:!f,label:'Maximum%20of%20posttest',operationType:max,scale:ratio,sourceField:posttest),'69c1a293-abc1-4343-b40d-00f8e1457262':(dataType:string,isBucketed:!t,label:'Top%20values%20of%20school_type',operationType:terms,params:(missingBucket:!f,orderBy:(columnId:'15e05834-f598-40a5-8a81-ec840de20174',type:column),orderDirection:desc,otherBucket:!t,size:5),scale:ordinal,sourceField:school_type)),incompleteColumns:())))),filters:!(),query:(language:kuery,query:''),visualization:(axisTitlesVisibilitySettings:(x:!t,yLeft:!t,yRight:!t),fittingFunction:None,gridlinesVisibilitySettings:(x:!t,yLeft:!t,yRight:!t),layers:!((accessors:!('15e05834-f598-40a5-8a81-ec840de20174'),layerId:a8676bf6-a4bc-4c83-823e-cdc0ffe88e99,palette:(name:complimentary,type:palette),position:top,seriesType:bar,showGridlines:!f,splitAccessor:'016cbe10-b5fd-4235-98ee-75f91ca90f2d',xAccessor:'69c1a293-abc1-4343-b40d-00f8e1457262')),legend:(isVisible:!t,position:right),preferredSeriesType:bar,tickLabelsVisibilitySettings:(x:!t,yLeft:!t,yRight:!t),valueLabels:hide)),title:'',type:lens,visualizationType:lnsXY),enhancements:(),hidePanelTitles:!f),gridData:(h:15,i:'52264684-3fb8-4803-9933-023ee8ed1cef',w:24,x:24,y:17),panelIndex:'52264684-3fb8-4803-9933-023ee8ed1cef',title:'Post-test%20Grades%20According%20to%20School%20Type%20and%20Methodology',type:lens,version:'7.13.2'),(embeddableConfig:(attributes:(references:!((id:'2d42f730-db1d-11eb-ad61-af2718214e34',name:indexpattern-datasource-current-indexpattern,type:index-pattern),(id:'2d42f730-db1d-11eb-ad61-af2718214e34',name:indexpattern-datasource-layer-f15069aa-0a6f-44b2-8ceb-062191a7e9a6,type:index-pattern)),state:(datasourceStates:(indexpattern:(layers:(f15069aa-0a6f-44b2-8ceb-062191a7e9a6:(columnOrder:!(ac506775-f026-46ce-89ff-c8a70adf8f58,'7611ecb2-0787-4cdb-ab14-744f6b3c5aa9','5d43e275-c781-4767-9ded-f0a8f9670afd'),columns:('5d43e275-c781-4767-9ded-f0a8f9670afd':(dataType:number,isBucketed:!f,label:'Sum%20of%20n_student',operationType:sum,scale:ratio,sourceField:n_student),'7611ecb2-0787-4cdb-ab14-744f6b3c5aa9':(dataType:string,isBucketed:!t,label:'Top%20values%20of%20school_setting',operationType:terms,params:(missingBucket:!f,orderBy:(columnId:'5d43e275-c781-4767-9ded-f0a8f9670afd',type:column),orderDirection:desc,otherBucket:!t,size:3),scale:ordinal,sourceField:school_setting),ac506775-f026-46ce-89ff-c8a70adf8f58:(dataType:string,isBucketed:!t,label:'Top%20values%20of%20gender',operationType:terms,params:(missingBucket:!f,orderBy:(columnId:'5d43e275-c781-4767-9ded-f0a8f9670afd',type:column),orderDirection:desc,otherBucket:!t,size:5),scale:ordinal,sourceField:gender)),incompleteColumns:())))),filters:!(),query:(language:kuery,query:''),visualization:(axisTitlesVisibilitySettings:(x:!t,yLeft:!t,yRight:!t),fittingFunction:None,gridlinesVisibilitySettings:(x:!t,yLeft:!t,yRight:!t),layers:!((accessors:!('5d43e275-c781-4767-9ded-f0a8f9670afd'),layerId:f15069aa-0a6f-44b2-8ceb-062191a7e9a6,position:top,seriesType:bar_horizontal_percentage_stacked,showGridlines:!f,splitAccessor:'7611ecb2-0787-4cdb-ab14-744f6b3c5aa9',xAccessor:ac506775-f026-46ce-89ff-c8a70adf8f58,yConfig:!((axisMode:auto,forAccessor:'5d43e275-c781-4767-9ded-f0a8f9670afd')))),legend:(isVisible:!t,position:right,showSingleSeries:!t),preferredSeriesType:bar_horizontal_percentage_stacked,tickLabelsVisibilitySettings:(x:!t,yLeft:!t,yRight:!t),valueLabels:hide)),title:'',type:lens,visualizationType:lnsXY),enhancements:(dynamicActions:(events:!((action:(config:(dashboardId:'9e0f1c50-db27-11eb-ad61-af2718214e34',useCurrentDateRange:!t,useCurrentFilters:!t),factoryId:DASHBOARD_TO_DASHBOARD_DRILLDOWN,name:'Go%20to%20Dashboard'),eventId:f2be4734-d9e1-4ae7-b285-c1fec799b863,triggers:!(FILTER_TRIGGER))))),hidePanelTitles:!f),gridData:(h:15,i:'59d5c3d2-0e30-4fbb-81ce-135c3d7db207',w:24,x:0,y:17),id:'527d83d0-db31-11eb-ad61-af2718214e34',panelIndex:'59d5c3d2-0e30-4fbb-81ce-135c3d7db207',title:'Percentage%20of%20Students%20School%20Settings',type:lens,version:'7.13.2'),(embeddableConfig:(attributes:(references:!((id:'2d42f730-db1d-11eb-ad61-af2718214e34',name:indexpattern-datasource-current-indexpattern,type:index-pattern),(id:'2d42f730-db1d-11eb-ad61-af2718214e34',name:indexpattern-datasource-layer-95df7ec4-0cc8-4fba-93e0-5a407119517b,type:index-pattern)),state:(datasourceStates:(indexpattern:(layers:('95df7ec4-0cc8-4fba-93e0-5a407119517b':(columnOrder:!('6b4c78e3-481f-4351-8a0a-762769b3fc90','20c4db50-6d36-4fed-8e52-db80058ea0d5'),columns:('20c4db50-6d36-4fed-8e52-db80058ea0d5':(dataType:number,isBucketed:!f,label:'Count%20of%20records',operationType:count,scale:ratio,sourceField:Records),'6b4c78e3-481f-4351-8a0a-762769b3fc90':(dataType:string,isBucketed:!t,label:'Top%20values%20of%20gender',operationType:terms,params:(missingBucket:!f,orderBy:(columnId:'20c4db50-6d36-4fed-8e52-db80058ea0d5',type:column),orderDirection:desc,otherBucket:!t,size:5),scale:ordinal,sourceField:gender)),incompleteColumns:())))),filters:!(),query:(language:kuery,query:''),visualization:(layers:!((categoryDisplay:default,groups:!('6b4c78e3-481f-4351-8a0a-762769b3fc90'),layerId:'95df7ec4-0cc8-4fba-93e0-5a407119517b',legendDisplay:default,metric:'20c4db50-6d36-4fed-8e52-db80058ea0d5',nestedLegend:!f,numberDisplay:percent)),palette:(name:complimentary,type:palette),shape:donut)),title:'',type:lens,visualizationType:lnsPie),enhancements:(),hidePanelTitles:!f),gridData:(h:15,i:'3a07ea13-dd9a-43c6-8b18-ef442eff649c',w:24,x:24,y:32),panelIndex:'3a07ea13-dd9a-43c6-8b18-ef442eff649c',title:'Percentage%20of%20Student%20Gender',type:lens,version:'7.13.2'),(embeddableConfig:(attributes:(references:!((id:'2d42f730-db1d-11eb-ad61-af2718214e34',name:indexpattern-datasource-current-indexpattern,type:index-pattern),(id:'2d42f730-db1d-11eb-ad61-af2718214e34',name:indexpattern-datasource-layer-9e7b847f-f147-4d51-919c-2e1cfc2ba112,type:index-pattern)),state:(datasourceStates:(indexpattern:(layers:('9e7b847f-f147-4d51-919c-2e1cfc2ba112':(columnOrder:!(f7d4bba0-021d-43fb-a5b9-afabc8440276,cbab204d-c20d-48ca-a56e-142e0641f29f),columns:(cbab204d-c20d-48ca-a56e-142e0641f29f:(dataType:number,isBucketed:!f,label:'Sum%20of%20n_student',operationType:sum,scale:ratio,sourceField:n_student),f7d4bba0-021d-43fb-a5b9-afabc8440276:(dataType:string,isBucketed:!t,label:'Top%20values%20of%20school',operationType:terms,params:(missingBucket:!f,orderBy:(columnId:cbab204d-c20d-48ca-a56e-142e0641f29f,type:column),orderDirection:desc,otherBucket:!t,size:17),scale:ordinal,sourceField:school)),incompleteColumns:())))),filters:!(),query:(language:kuery,query:''),visualization:(layers:!((categoryDisplay:default,groups:!(f7d4bba0-021d-43fb-a5b9-afabc8440276,f7d4bba0-021d-43fb-a5b9-afabc8440276,f7d4bba0-021d-43fb-a5b9-afabc8440276,f7d4bba0-021d-43fb-a5b9-afabc8440276,f7d4bba0-021d-43fb-a5b9-afabc8440276,f7d4bba0-021d-43fb-a5b9-afabc8440276,f7d4bba0-021d-43fb-a5b9-afabc8440276,f7d4bba0-021d-43fb-a5b9-afabc8440276,f7d4bba0-021d-43fb-a5b9-afabc8440276,f7d4bba0-021d-43fb-a5b9-afabc8440276,f7d4bba0-021d-43fb-a5b9-afabc8440276,f7d4bba0-021d-43fb-a5b9-afabc8440276,f7d4bba0-021d-43fb-a5b9-afabc8440276,f7d4bba0-021d-43fb-a5b9-afabc8440276,f7d4bba0-021d-43fb-a5b9-afabc8440276,f7d4bba0-021d-43fb-a5b9-afabc8440276,f7d4bba0-021d-43fb-a5b9-afabc8440276,f7d4bba0-021d-43fb-a5b9-afabc8440276,f7d4bba0-021d-43fb-a5b9-afabc8440276,f7d4bba0-021d-43fb-a5b9-afabc8440276,f7d4bba0-021d-43fb-a5b9-afabc8440276,f7d4bba0-021d-43fb-a5b9-afabc8440276,f7d4bba0-021d-43fb-a5b9-afabc8440276,f7d4bba0-021d-43fb-a5b9-afabc8440276,f7d4bba0-021d-43fb-a5b9-afabc8440276,f7d4bba0-021d-43fb-a5b9-afabc8440276),layerId:'9e7b847f-f147-4d51-919c-2e1cfc2ba112',legendDisplay:default,metric:cbab204d-c20d-48ca-a56e-142e0641f29f,nestedLegend:!f,numberDisplay:percent)),shape:treemap)),title:'',type:lens,visualizationType:lnsPie),enhancements:(),hidePanelTitles:!f),gridData:(h:15,i:'23d0609b-6f4c-4c9c-b2ab-4bbd399d0661',w:24,x:0,y:32),panelIndex:'23d0609b-6f4c-4c9c-b2ab-4bbd399d0661',title:'Schools%20Tree%20Map',type:lens,version:'7.13.2'),(embeddableConfig:(enhancements:(),hidePanelTitles:!f),gridData:(h:15,i:'11a8237d-fdb4-4504-80c3-0d6e1e4ad79c',w:24,x:24,y:47),id:a9675a70-db33-11eb-ad61-af2718214e34,panelIndex:'11a8237d-fdb4-4504-80c3-0d6e1e4ad79c',title:'Average%20of%20the%20Post-test%20Grade%20by%20School',type:lens,version:'7.13.2')),query:(language:kuery,query:''),tags:!(),timeRestore:!f,title:Test_Score,viewMode:edit)&_g=(filters:!(('$state':(store:globalState),meta:(alias:!n,controlledBy:'1625234790079',disabled:!f,index:'2d42f730-db1d-11eb-ad61-af2718214e34',key:posttest,negate:!f,params:(gte:32,lte:100),type:range),range:(posttest:(gte:32,lte:100)))),refreshInterval:(pause:!f,value:900000),time:(from:now-7d,to:now))\" height=\"600\" width=\"800\"></iframe>"
   ]
  },
  {
   "cell_type": "markdown",
   "metadata": {},
   "source": [
    "Now , we can see the dashboard done.\n",
    "\n",
    "<img src=\"img_3.png\">"
   ]
  },
  {
   "cell_type": "markdown",
   "metadata": {},
   "source": [
    "**The version I downloaded did not allowed save the dashboard in pdf. we can see the link of dashboard [here](http://localhost:5601/goto/13138a731612bda21831b76b0934dc57)**."
   ]
  },
  {
   "cell_type": "code",
   "execution_count": null,
   "metadata": {},
   "outputs": [],
   "source": []
  }
 ],
 "metadata": {
  "kernelspec": {
   "display_name": "Python 3",
   "language": "python",
   "name": "python3"
  },
  "language_info": {
   "codemirror_mode": {
    "name": "ipython",
    "version": 3
   },
   "file_extension": ".py",
   "mimetype": "text/x-python",
   "name": "python",
   "nbconvert_exporter": "python",
   "pygments_lexer": "ipython3",
   "version": "3.8.5"
  }
 },
 "nbformat": 4,
 "nbformat_minor": 4
}
